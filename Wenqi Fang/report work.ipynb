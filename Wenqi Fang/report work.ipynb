{
 "cells": [
  {
   "cell_type": "markdown",
   "id": "sacred-cancer",
   "metadata": {},
   "source": [
    "# Tf-idf model"
   ]
  },
  {
   "cell_type": "markdown",
   "id": "laughing-hybrid",
   "metadata": {},
   "source": [
    "#### In this section we will apply the tf-idf model in corpus_10, and try to find that if it would be better when iterating more times.Then choose a better one to do visualization."
   ]
  },
  {
   "cell_type": "markdown",
   "id": "painful-granny",
   "metadata": {},
   "source": [
    "#### First we import the packages required."
   ]
  },
  {
   "cell_type": "code",
   "execution_count": 1,
   "id": "endless-actor",
   "metadata": {},
   "outputs": [],
   "source": [
    "from numpy import matrix\n",
    "import gensim\n",
    "from urllib.request import urlopen\n",
    "import pickle\n",
    "import numpy as np\n",
    "import pandas as pd\n",
    "import pyLDAvis.gensim"
   ]
  },
  {
   "cell_type": "markdown",
   "id": "pediatric-polymer",
   "metadata": {},
   "source": [
    "#### reading data--using corpus_10"
   ]
  },
  {
   "cell_type": "code",
   "execution_count": 2,
   "id": "numeric-wesley",
   "metadata": {},
   "outputs": [
    {
     "name": "stderr",
     "output_type": "stream",
     "text": [
      "d:\\program files\\python\\lib\\site-packages\\ipykernel\\ipkernel.py:283: DeprecationWarning: `should_run_async` will not call `transform_cell` automatically in the future. Please pass the result to `transformed_cell` argument and any exception that happen during thetransform in `preprocessing_exc_tuple` in IPython 7.17 and above.\n",
      "  and should_run_async(code)\n"
     ]
    }
   ],
   "source": [
    "corpus10=pickle.load(urlopen('https://github.com/Galeforse/DST-Assessment-03/raw/master/Data/main/corpus_10.pkl'))\n",
    "dictionary10=pickle.load(urlopen('https://github.com/Galeforse/DST-Assessment-03/raw/master/Data/main/dictionary_10.pkl'))"
   ]
  },
  {
   "cell_type": "markdown",
   "id": "stupid-organ",
   "metadata": {},
   "source": [
    "#### for exploring whether the number of topic and iteration would affect the result, we run tf-idf models with different parameters."
   ]
  },
  {
   "cell_type": "code",
   "execution_count": 3,
   "id": "supposed-protein",
   "metadata": {},
   "outputs": [
    {
     "name": "stderr",
     "output_type": "stream",
     "text": [
      "d:\\program files\\python\\lib\\site-packages\\ipykernel\\ipkernel.py:283: DeprecationWarning: `should_run_async` will not call `transform_cell` automatically in the future. Please pass the result to `transformed_cell` argument and any exception that happen during thetransform in `preprocessing_exc_tuple` in IPython 7.17 and above.\n",
      "  and should_run_async(code)\n"
     ]
    }
   ],
   "source": [
    "tfidf10 = gensim.models.TfidfModel(corpus10)\n",
    "corpus_tfidf10 = tfidf10[corpus10]"
   ]
  },
  {
   "cell_type": "markdown",
   "id": "medical-grass",
   "metadata": {},
   "source": [
    "### 10topics and 1 iteration"
   ]
  },
  {
   "cell_type": "code",
   "execution_count": 4,
   "id": "coastal-delicious",
   "metadata": {},
   "outputs": [
    {
     "name": "stderr",
     "output_type": "stream",
     "text": [
      "d:\\program files\\python\\lib\\site-packages\\ipykernel\\ipkernel.py:283: DeprecationWarning: `should_run_async` will not call `transform_cell` automatically in the future. Please pass the result to `transformed_cell` argument and any exception that happen during thetransform in `preprocessing_exc_tuple` in IPython 7.17 and above.\n",
      "  and should_run_async(code)\n"
     ]
    },
    {
     "data": {
      "text/plain": [
       "[(0,\n",
       "  '0.252*\"localhost\" + 0.249*\"interactive\" + 0.249*\"keyboard\" + 0.115*\"Failed\" + 0.086*\"port\" + 0.029*\"qala\" + 0.014*\"Postponed\"'),\n",
       " (1,\n",
       "  '0.316*\"preauth\" + 0.193*\"Disconnecting\" + 0.193*\"many\" + 0.120*\"failure\" + 0.107*\"authentication\" + 0.023*\"connect\" + 0.022*\"refuse\"'),\n",
       " (2,\n",
       "  '0.138*\"request\" + 0.137*\"AUTH\" + 0.137*\"ERROR\" + 0.137*\"wbcLogonUser\" + 0.109*\"winbind\" + 0.082*\"auth\" + 0.075*\"preauth\"'),\n",
       " (3,\n",
       "  '0.447*\"disconnect\" + 0.352*\"Received\" + 0.037*\"user\" + 0.023*\"debug\" + 0.017*\"receive\" + 0.015*\"setting\" + 0.013*\"client\"'),\n",
       " (4,\n",
       "  '0.276*\"session\" + 0.134*\"Accepted\" + 0.132*\"publickey\" + 0.121*\"unix\" + 0.099*\"open\" + 0.092*\"close\" + 0.075*\"port\"'),\n",
       " (5,\n",
       "  '0.387*\"password\" + 0.287*\"Failed\" + 0.201*\"port\" + 0.045*\"invalid\" + 0.044*\"secure\" + 0.022*\"kwetal\" + 0.011*\"user\"'),\n",
       " (6,\n",
       "  '0.160*\"utwente\" + 0.108*\"euid\" + 0.108*\"logname\" + 0.108*\"rhost\" + 0.108*\"ruser\" + 0.092*\"authentication\" + 0.090*\"failure\"'),\n",
       " (7,\n",
       "  '0.274*\"getting\" + 0.221*\"winbind\" + 0.170*\"auth\" + 0.064*\"error\" + 0.037*\"deny\" + 0.032*\"access\" + 0.029*\"secure\"'),\n",
       " (8,\n",
       "  '0.375*\"Invalid\" + 0.150*\"Connection\" + 0.082*\"user\" + 0.080*\"close\" + 0.055*\"credentials\" + 0.055*\"try\" + 0.050*\"bind\"'),\n",
       " (9,\n",
       "  '0.275*\"fail\" + 0.058*\"HHHHH\" + 0.054*\"authentication\" + 0.053*\"User\" + 0.039*\"underlie\" + 0.039*\"know\" + 0.039*\"module\"')]"
      ]
     },
     "execution_count": 4,
     "metadata": {},
     "output_type": "execute_result"
    }
   ],
   "source": [
    "model_tfidf101 = gensim.models.LdaMulticore(corpus_tfidf10, num_topics=10, id2word=dictionary10, passes=2, workers=4)\n",
    "model_tfidf101.show_topics(10,7)"
   ]
  },
  {
   "cell_type": "markdown",
   "id": "damaged-domestic",
   "metadata": {},
   "source": [
    "### 10topics and 50 iterations"
   ]
  },
  {
   "cell_type": "code",
   "execution_count": 4,
   "id": "native-constitutional",
   "metadata": {},
   "outputs": [
    {
     "name": "stderr",
     "output_type": "stream",
     "text": [
      "d:\\program files\\python\\lib\\site-packages\\ipykernel\\ipkernel.py:283: DeprecationWarning: `should_run_async` will not call `transform_cell` automatically in the future. Please pass the result to `transformed_cell` argument and any exception that happen during thetransform in `preprocessing_exc_tuple` in IPython 7.17 and above.\n",
      "  and should_run_async(code)\n"
     ]
    },
    {
     "data": {
      "text/plain": [
       "[(0,\n",
       "  '0.159*\"authentication\" + 0.115*\"disconnecting\" + 0.115*\"many\" + 0.095*\"failure\" + 0.066*\"underlying\" + 0.066*\"known\" + 0.066*\"module\"'),\n",
       " (1,\n",
       "  '0.403*\"password\" + 0.274*\"failed\" + 0.221*\"port\" + 0.040*\"secure\" + 0.026*\"interactive\" + 0.026*\"keyboard\" + 0.009*\"localhost\"'),\n",
       " (2,\n",
       "  '0.474*\"getting\" + 0.178*\"received\" + 0.177*\"disconnect\" + 0.063*\"disconnected\" + 0.027*\"localhost\" + 0.015*\"information\" + 0.013*\"auth\"'),\n",
       " (3,\n",
       "  '0.260*\"auth\" + 0.255*\"winbind\" + 0.131*\"wbclogonuser\" + 0.119*\"error\" + 0.060*\"failed\" + 0.042*\"secure\" + 0.025*\"denied\"'),\n",
       " (4,\n",
       "  '0.297*\"session\" + 0.142*\"accepted\" + 0.139*\"publickey\" + 0.130*\"unix\" + 0.106*\"opened\" + 0.098*\"closed\" + 0.083*\"port\"'),\n",
       " (5,\n",
       "  '0.307*\"request\" + 0.266*\"preauth\" + 0.094*\"connection\" + 0.062*\"userauth\" + 0.059*\"input\" + 0.055*\"debug\" + 0.049*\"closed\"'),\n",
       " (6,\n",
       "  '0.227*\"service\" + 0.161*\"ignoring\" + 0.161*\"retries\" + 0.078*\"requested\" + 0.078*\"retrieve\" + 0.078*\"realm\" + 0.077*\"network\"'),\n",
       " (7,\n",
       "  '0.473*\"invalid\" + 0.063*\"attempt\" + 0.057*\"break\" + 0.056*\"possible\" + 0.049*\"checking\" + 0.049*\"mapping\" + 0.049*\"getaddrinfo\"'),\n",
       " (8,\n",
       "  '0.138*\"credential\" + 0.137*\"trying\" + 0.125*\"bind\" + 0.121*\"ldap\" + 0.081*\"unknown\" + 0.070*\"invalid\" + 0.065*\"check\"'),\n",
       " (9,\n",
       "  '0.154*\"utwente\" + 0.139*\"failure\" + 0.137*\"authentication\" + 0.131*\"host\" + 0.130*\"logname\" + 0.085*\"kwetal\" + 0.066*\"auth\"')]"
      ]
     },
     "execution_count": 4,
     "metadata": {},
     "output_type": "execute_result"
    }
   ],
   "source": [
    "model_tfidf102 = gensim.models.LdaMulticore(corpus_tfidf10, num_topics=10, id2word=dictionary10, passes=2, workers=4,iterations=50)\n",
    "model_tfidf102.show_topics(10,7)"
   ]
  },
  {
   "cell_type": "markdown",
   "id": "everyday-strip",
   "metadata": {},
   "source": [
    "### 5topics and 1 iteration"
   ]
  },
  {
   "cell_type": "code",
   "execution_count": 6,
   "id": "discrete-addiction",
   "metadata": {},
   "outputs": [
    {
     "name": "stderr",
     "output_type": "stream",
     "text": [
      "d:\\program files\\python\\lib\\site-packages\\ipykernel\\ipkernel.py:283: DeprecationWarning: `should_run_async` will not call `transform_cell` automatically in the future. Please pass the result to `transformed_cell` argument and any exception that happen during thetransform in `preprocessing_exc_tuple` in IPython 7.17 and above.\n",
      "  and should_run_async(code)\n"
     ]
    },
    {
     "data": {
      "text/plain": [
       "[(0,\n",
       "  '0.153*\"winbind\" + 0.115*\"getting\" + 0.113*\"auth\" + 0.076*\"request\" + 0.075*\"ERROR\" + 0.075*\"AUTH\" + 0.075*\"wbcLogonUser\"'),\n",
       " (1,\n",
       "  '0.127*\"authentication\" + 0.103*\"failure\" + 0.063*\"Disconnecting\" + 0.063*\"many\" + 0.056*\"utwente\" + 0.053*\"list\" + 0.052*\"AllowUsers\"'),\n",
       " (2,\n",
       "  '0.217*\"session\" + 0.105*\"Accepted\" + 0.103*\"publickey\" + 0.096*\"unix\" + 0.089*\"deny\" + 0.077*\"open\" + 0.075*\"access\"'),\n",
       " (3,\n",
       "  '0.244*\"password\" + 0.188*\"Failed\" + 0.131*\"port\" + 0.042*\"fail\" + 0.032*\"preauth\" + 0.030*\"Connection\" + 0.025*\"secure\"'),\n",
       " (4,\n",
       "  '0.296*\"Invalid\" + 0.212*\"disconnect\" + 0.165*\"Received\" + 0.103*\"preauth\" + 0.086*\"user\" + 0.040*\"localhost\" + 0.017*\"debug\"')]"
      ]
     },
     "execution_count": 6,
     "metadata": {},
     "output_type": "execute_result"
    }
   ],
   "source": [
    "model_tfidf103 = gensim.models.LdaMulticore(corpus_tfidf10, num_topics=5, id2word=dictionary10, passes=2, workers=4)\n",
    "model_tfidf103.show_topics(5,7)"
   ]
  },
  {
   "cell_type": "markdown",
   "id": "separate-grain",
   "metadata": {},
   "source": [
    "### 5topics and 50 iteration"
   ]
  },
  {
   "cell_type": "code",
   "execution_count": 7,
   "id": "equal-resident",
   "metadata": {},
   "outputs": [
    {
     "name": "stderr",
     "output_type": "stream",
     "text": [
      "d:\\program files\\python\\lib\\site-packages\\ipykernel\\ipkernel.py:283: DeprecationWarning: `should_run_async` will not call `transform_cell` automatically in the future. Please pass the result to `transformed_cell` argument and any exception that happen during thetransform in `preprocessing_exc_tuple` in IPython 7.17 and above.\n",
      "  and should_run_async(code)\n"
     ]
    },
    {
     "data": {
      "text/plain": [
       "[(0,\n",
       "  '0.275*\"Invalid\" + 0.148*\"session\" + 0.101*\"close\" + 0.100*\"user\" + 0.096*\"Connection\" + 0.065*\"unix\" + 0.053*\"open\"'),\n",
       " (1,\n",
       "  '0.365*\"password\" + 0.282*\"Failed\" + 0.197*\"port\" + 0.051*\"secure\" + 0.043*\"invalid\" + 0.026*\"localhost\" + 0.009*\"user\"'),\n",
       " (2,\n",
       "  '0.160*\"request\" + 0.044*\"utwente\" + 0.040*\"auth\" + 0.038*\"error\" + 0.036*\"failure\" + 0.034*\"deny\" + 0.034*\"userauth\"'),\n",
       " (3,\n",
       "  '0.295*\"preauth\" + 0.222*\"disconnect\" + 0.172*\"Received\" + 0.055*\"debug\" + 0.035*\"service\" + 0.024*\"ignore\" + 0.024*\"retry\"'),\n",
       " (4,\n",
       "  '0.153*\"winbind\" + 0.115*\"getting\" + 0.105*\"auth\" + 0.075*\"ERROR\" + 0.075*\"wbcLogonUser\" + 0.075*\"AUTH\" + 0.070*\"fail\"')]"
      ]
     },
     "execution_count": 7,
     "metadata": {},
     "output_type": "execute_result"
    }
   ],
   "source": [
    "model_tfidf104 = gensim.models.LdaMulticore(corpus_tfidf10, num_topics=5, id2word=dictionary10, passes=2, workers=4,iterations=50)\n",
    "model_tfidf104.show_topics(5,7)"
   ]
  },
  {
   "cell_type": "markdown",
   "id": "listed-marine",
   "metadata": {},
   "source": [
    "### making perplexities and cohenrence, measuring how good the model is."
   ]
  },
  {
   "cell_type": "markdown",
   "id": "legitimate-blocking",
   "metadata": {},
   "source": [
    "#### computing the perplexities socres of these models, the lower the better."
   ]
  },
  {
   "cell_type": "code",
   "execution_count": 9,
   "id": "flying-gossip",
   "metadata": {},
   "outputs": [
    {
     "name": "stderr",
     "output_type": "stream",
     "text": [
      "d:\\program files\\python\\lib\\site-packages\\ipykernel\\ipkernel.py:283: DeprecationWarning: `should_run_async` will not call `transform_cell` automatically in the future. Please pass the result to `transformed_cell` argument and any exception that happen during thetransform in `preprocessing_exc_tuple` in IPython 7.17 and above.\n",
      "  and should_run_async(code)\n"
     ]
    },
    {
     "data": {
      "text/plain": [
       "{'model_tfidf101': -5.82588027710656,\n",
       " 'model_tfidf102': -5.951552269820434,\n",
       " 'model_tfidf103': -5.89684109573515,\n",
       " 'model_tfidf104': -5.88028422802109}"
      ]
     },
     "execution_count": 9,
     "metadata": {},
     "output_type": "execute_result"
    }
   ],
   "source": [
    "log_perplexities = {\n",
    "        \"model_tfidf101\" : model_tfidf101.log_perplexity(corpus_tfidf10[0:1000]),\n",
    "     \"model_tfidf102\" : model_tfidf102.log_perplexity(corpus_tfidf10[0:1000]),\n",
    "     \"model_tfidf103\" : model_tfidf103.log_perplexity(corpus_tfidf10[0:1000]),\n",
    "     \"model_tfidf104\" : model_tfidf104.log_perplexity(corpus_tfidf10[0:1000])\n",
    "    };\n",
    "log_perplexities"
   ]
  },
  {
   "cell_type": "markdown",
   "id": "structural-subdivision",
   "metadata": {},
   "source": [
    "#### computing the coherence scores , the higher the better."
   ]
  },
  {
   "cell_type": "code",
   "execution_count": 10,
   "id": "verified-basis",
   "metadata": {},
   "outputs": [
    {
     "name": "stderr",
     "output_type": "stream",
     "text": [
      "d:\\program files\\python\\lib\\site-packages\\ipykernel\\ipkernel.py:283: DeprecationWarning: `should_run_async` will not call `transform_cell` automatically in the future. Please pass the result to `transformed_cell` argument and any exception that happen during thetransform in `preprocessing_exc_tuple` in IPython 7.17 and above.\n",
      "  and should_run_async(code)\n"
     ]
    }
   ],
   "source": [
    "from gensim.models.coherencemodel import CoherenceModel\n",
    "def getCoherence(m,c,d):\n",
    "    coherence_model_lda = CoherenceModel(model=m,corpus=c, dictionary=d, coherence='u_mass')\n",
    "    coherence_lda = coherence_model_lda.get_coherence()\n",
    "    return(coherence_lda)"
   ]
  },
  {
   "cell_type": "code",
   "execution_count": 11,
   "id": "electrical-realtor",
   "metadata": {},
   "outputs": [
    {
     "name": "stderr",
     "output_type": "stream",
     "text": [
      "d:\\program files\\python\\lib\\site-packages\\ipykernel\\ipkernel.py:283: DeprecationWarning: `should_run_async` will not call `transform_cell` automatically in the future. Please pass the result to `transformed_cell` argument and any exception that happen during thetransform in `preprocessing_exc_tuple` in IPython 7.17 and above.\n",
      "  and should_run_async(code)\n"
     ]
    },
    {
     "data": {
      "text/plain": [
       "{'model_tfidf101': -8.752934169338797,\n",
       " 'model_tfidf102': -8.713025159913748,\n",
       " 'model_tfidf103': -9.944010207295966,\n",
       " 'model_tfidf104': -10.729109066304359}"
      ]
     },
     "execution_count": 11,
     "metadata": {},
     "output_type": "execute_result"
    }
   ],
   "source": [
    "coherences={\n",
    "    \"model_tfidf101\": getCoherence(model_tfidf101,corpus_tfidf10[0:1000],dictionary10),\n",
    "    \"model_tfidf102\": getCoherence(model_tfidf102,corpus_tfidf10[0:1000],dictionary10),\n",
    "    \"model_tfidf103\": getCoherence(model_tfidf103,corpus_tfidf10[0:1000],dictionary10),\n",
    "    \"model_tfidf104\": getCoherence(model_tfidf104,corpus_tfidf10[0:1000],dictionary10)\n",
    "}\n",
    "coherences"
   ]
  },
  {
   "cell_type": "markdown",
   "id": "palestinian-modeling",
   "metadata": {},
   "source": [
    "#### After measured by perplexities and cohenrence scores, we found that the model using more topics and iterations get the higher quality of the fit.Then we choose the model tfidf102 to do visualization."
   ]
  },
  {
   "cell_type": "markdown",
   "id": "painted-option",
   "metadata": {},
   "source": [
    "## visualization"
   ]
  },
  {
   "cell_type": "code",
   "execution_count": 12,
   "id": "disciplinary-mining",
   "metadata": {},
   "outputs": [
    {
     "name": "stderr",
     "output_type": "stream",
     "text": [
      "d:\\program files\\python\\lib\\site-packages\\ipykernel\\ipkernel.py:283: DeprecationWarning: `should_run_async` will not call `transform_cell` automatically in the future. Please pass the result to `transformed_cell` argument and any exception that happen during thetransform in `preprocessing_exc_tuple` in IPython 7.17 and above.\n",
      "  and should_run_async(code)\n"
     ]
    }
   ],
   "source": [
    "pyLDAvis.enable_notebook()"
   ]
  },
  {
   "cell_type": "code",
   "execution_count": 6,
   "id": "mounted-haven",
   "metadata": {},
   "outputs": [
    {
     "name": "stderr",
     "output_type": "stream",
     "text": [
      "d:\\program files\\python\\lib\\site-packages\\ipykernel\\ipkernel.py:283: DeprecationWarning: `should_run_async` will not call `transform_cell` automatically in the future. Please pass the result to `transformed_cell` argument and any exception that happen during thetransform in `preprocessing_exc_tuple` in IPython 7.17 and above.\n",
      "  and should_run_async(code)\n"
     ]
    }
   ],
   "source": [
    "display_tfidf102 = pyLDAvis.gensim.prepare(model_tfidf102, corpus10, dictionary10, sort_topics=False)\n",
    "pyLDAvis.display(display_tfidf102, template_type='notebook')\n",
    "pyLDAvis.save_html(display_tfidf102,\"D:/SSS/MSC/dst/ass3/tfidf_display.html\")"
   ]
  },
  {
   "cell_type": "markdown",
   "id": "occupational-swift",
   "metadata": {},
   "source": [
    "#### Then we get a table which shows each extracted topic as a list of the top seven words starting from the most significant word on the left, from which we can see that, Topic 1 has seemed to have located the logs where the system itself is producing a warning due to the words \"disconnecting\", \"failure\". Topic 2 had the words\"password\",\"failed\", and Topic 3,4,8,9,10 are similar. And Topic 5 seems to have located all of the successful attempts-- \"accepted\". Therefore, in this model, we could mark topics 1,2,3,4,8,9 and 10 as potential attacks and Topic 5 as successful attempts. And then we can classify whether the IP addresses associated with the log are anomaly. \n",
    "Topic\tFirst\tSecond\tThird\tFourth\tFifth\tSixth\tSeventh\n",
    "1\tauthentication\tdisconnecting\tmany\tfailure\tknown\tunderlying\tmodule\n",
    "2\tpassword\tfailed\tport\tsecure\tinteractive\tkeyborad\t\n",
    "3\tgetting\t received\tdisconnect\tdisconnected\tlocalhost\tinformation\t\n",
    "4\tauth\twinbind\twbclogonuser\terror\tfailed\tsecure\tpermission\n",
    "5\tsession\taccepted\tpublickey\tunix\topened\tclosed\tport\n",
    "6\trequest\tpreauth\tconnection\tuserauth\tinput\tdebug\tclosed\n",
    "7\tservice\tignoring\tretries\trequested\tretrieve\trealm\tnetwork\n",
    "8\tinvalid\tattempt\tbreak\tpossible\tchecking\tmapping\tgetaddrinfo\n",
    "9\tcredential\ttrying\tbind\tldap\tunknown\tinvalid\tcheck\n",
    "10\tutwente\tfailure\tauthentication\thost\tlogname\tkwetal\tauth\n",
    "\n"
   ]
  }
 ],
 "metadata": {
  "kernelspec": {
   "display_name": "Python 3",
   "language": "python",
   "name": "python3"
  },
  "language_info": {
   "codemirror_mode": {
    "name": "ipython",
    "version": 3
   },
   "file_extension": ".py",
   "mimetype": "text/x-python",
   "name": "python",
   "nbconvert_exporter": "python",
   "pygments_lexer": "ipython3",
   "version": "3.9.1"
  }
 },
 "nbformat": 4,
 "nbformat_minor": 5
}
