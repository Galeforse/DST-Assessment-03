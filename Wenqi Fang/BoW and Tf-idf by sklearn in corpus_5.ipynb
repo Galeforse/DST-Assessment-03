{
 "cells": [
  {
   "cell_type": "code",
   "execution_count": 44,
   "id": "minute-summer",
   "metadata": {},
   "outputs": [
    {
     "name": "stderr",
     "output_type": "stream",
     "text": [
      "d:\\program files\\python\\lib\\site-packages\\ipykernel\\ipkernel.py:283: DeprecationWarning: `should_run_async` will not call `transform_cell` automatically in the future. Please pass the result to `transformed_cell` argument and any exception that happen during thetransform in `preprocessing_exc_tuple` in IPython 7.17 and above.\n",
      "  and should_run_async(code)\n"
     ]
    }
   ],
   "source": [
    "from matplotlib import pyplot as plt\n",
    "from matplotlib import cm\n",
    "from numpy import matrix\n",
    "import gensim\n",
    "from urllib.request import urlopen\n",
    "import pickle\n",
    "import numpy as np\n",
    "from sklearn.feature_extraction.text import CountVectorizer\n",
    "from sklearn.feature_extraction.text import TfidfVectorizer\n",
    "import pandas as pd\n",
    "count = CountVectorizer()\n",
    "docs = np.array\n",
    "from gensim import corpora\n",
    "from gensim import models"
   ]
  },
  {
   "cell_type": "markdown",
   "id": "national-slope",
   "metadata": {},
   "source": [
    "# BoW and Tf-idf by sklearn in corpus_5"
   ]
  },
  {
   "cell_type": "markdown",
   "id": "guilty-export",
   "metadata": {},
   "source": [
    "## Data"
   ]
  },
  {
   "cell_type": "markdown",
   "id": "emotional-argument",
   "metadata": {},
   "source": [
    "### download data"
   ]
  },
  {
   "cell_type": "code",
   "execution_count": 39,
   "id": "impaired-bridges",
   "metadata": {},
   "outputs": [
    {
     "name": "stderr",
     "output_type": "stream",
     "text": [
      "d:\\program files\\python\\lib\\site-packages\\ipykernel\\ipkernel.py:283: DeprecationWarning: `should_run_async` will not call `transform_cell` automatically in the future. Please pass the result to `transformed_cell` argument and any exception that happen during thetransform in `preprocessing_exc_tuple` in IPython 7.17 and above.\n",
      "  and should_run_async(code)\n"
     ]
    },
    {
     "name": "stdout",
     "output_type": "stream",
     "text": [
      "Reading dictionary from pickle\n"
     ]
    }
   ],
   "source": [
    "corpus5=pickle.load(urlopen('https://github.com/Galeforse/DST-Assessment-03/raw/master/Data/main/corpus_5.pkl'))\n",
    "dictionary5=pickle.load(urlopen('https://github.com/Galeforse/DST-Assessment-03/raw/master/Data/main/dictionary_5.pkl'))"
   ]
  },
  {
   "cell_type": "code",
   "execution_count": 42,
   "id": "behavioral-laugh",
   "metadata": {},
   "outputs": [
    {
     "name": "stderr",
     "output_type": "stream",
     "text": [
      "d:\\program files\\python\\lib\\site-packages\\ipykernel\\ipkernel.py:283: DeprecationWarning: `should_run_async` will not call `transform_cell` automatically in the future. Please pass the result to `transformed_cell` argument and any exception that happen during thetransform in `preprocessing_exc_tuple` in IPython 7.17 and above.\n",
      "  and should_run_async(code)\n"
     ]
    }
   ],
   "source": [
    "corpus_5=str(corpus5)"
   ]
  },
  {
   "cell_type": "markdown",
   "id": "objective-haiti",
   "metadata": {},
   "source": [
    "### match each id to words in dictionary"
   ]
  },
  {
   "cell_type": "code",
   "execution_count": 40,
   "id": "immune-roads",
   "metadata": {},
   "outputs": [
    {
     "name": "stdout",
     "output_type": "stream",
     "text": [
      "{'Failed': 0, 'password': 1, 'port': 2, 'Disconnecting': 3, 'authentication': 4, 'failure': 5, 'many': 6, 'auth': 7, 'euid': 8, 'logname': 9, 'rhost': 10, 'ruser': 11, 'unix': 12, 'user': 13, 'ignore': 14, 'retry': 15, 'service': 16, 'input': 17, 'invalid': 18, 'request': 19, 'userauth': 20, 'comcastbusiness': 21, 'static': 22, 'Invalid': 23, 'Received': 24, 'disconnect': 25, 'check': 26, 'pass': 27, 'unknown': 28, 'error': 29, 'information': 30, 'retrieve': 31, 'succeed': 32, 'ATTEMPT': 33, 'BREAK': 34, 'HHHHH': 35, 'POSSIBLE': 36, 'fail': 37, 'getaddrinfo': 38, 'mapping': 39, 'reverse': 40, 'Connection': 41, 'close': 42, 'Normal': 43, 'Shutdown': 44, 'Accepted': 45, 'publickey': 46, 'session': 47, 'netio': 48, 'Address': 49, 'address': 50, 'back': 51, 'map': 52, 'greendata': 53, 'Read': 54, 'fatal': 55, 'peer': 56, 'reset': 57, 'socket': 58, 'open': 59, 'kanagawa': 60, 'mail': 61, 'identification': 62, 'receive': 63, 'string': 64, 'Write': 65, 'dyxnet': 66, 'info': 67, 'unixbsd': 68, 'global': 69, 'masti': 70, 'telnor': 71, 'happy': 72, 'access': 73, 'account': 74, 'deny': 75, 'broadband': 76, 'nationalcablenetworks': 77, 'ctinets': 78, 'opentecnologia': 79, 'repo': 80, 'HTTP': 81, 'http': 82, 'protocol': 83, 'version': 84, 'qala': 85, 'connect': 86, 'refuse': 87, 'none': 88, 'bendcable': 89, 'client': 90, 'public': 91, 'Goodbye': 92, 'sftp': 93, 'subsystem': 94, 'channel': 95, 'allow': 96, 'hichina': 97, 'mxhzb': 98, 'host': 99, 'redstation': 100, 'mobiel': 101, 'utwente': 102, 'wlan': 103, 'biocomplexity': 104, 'boole': 105, 'indiana': 106, 'blue': 107, 'kundencontroller': 108, 'preauth': 109, 'message': 110, 'module': 111, 'LDAP': 112, 'ldap': 113, 'reconnecting': 114, 'server': 115, 'bind': 116, 'contact': 117, 'simple': 118, 'utwks': 119, 'authenticate': 120, 'hvvc': 121, 'oregon': 122, 'zayoenterprise': 123, 'localhost': 124, 'everloo': 125, 'dynamic': 126, 'Client': 127, 'Kerberos': 128, 'User': 129, 'database': 130, 'found': 131, 'know': 132, 'underlie': 133, 'interactive': 134, 'keyboard': 135, 'getting': 136, 'name': 137, 'pair': 138, 'resolving': 139, 'zilver': 140, 'Authentication': 141, 'Postponed': 142, 'verify': 143, 'FILE': 144, 'keytab': 145, 'reading': 146, 'weleveld': 147, 'twickel': 148, 'cable': 149, 'cableonline': 150, 'contabo': 151, 'hinet': 152, 'brecklenkamp': 153, 'illegal': 154, 'BREAKIN': 155, 'Timeout': 156, 'application': 157, 'lmontsouris': 158, 'wanadoo': 159, 'uahurtado': 160, 'cust': 161, 'ftth': 162, 'kwaoo': 163, 'icts': 164, 'itbe': 165, 'Unable': 166, 'method': 167, 'Could': 168, 'ffff': 169, 'utsp': 170, 'crit': 171, 'monitor': 172, 'hostkey': 173, 'Illegal': 174, 'live': 175, 'UNKNOWN': 176, 'ppsuc': 177, 'euve': 178, 'Couldn': 179, 'directory': 180, 'file': 181, 'filetype': 182, 'lastlog': 183, 'stat': 184, 'openseek': 185, 'Permission': 186, 'realm': 187, 'pipe': 188, 'success': 189, 'ziggo': 190, 'setup': 191, 'Failure': 192, 'credentials': 193, 'setting': 194, 'adsl': 195, 'mode': 196, 'direct': 197, 'system': 198, 'System': 199, 'try': 200, 'amazonaws': 201, 'compute': 202, 'kwetal': 203, 'debug': 204, 'dupping': 205, 'inetd': 206, 'cleanup': 207, 'newsock': 208, 'rexec': 209, 'sock': 210, 'start': 211, 'INIT': 212, 'expect': 213, 'match': 214, 'permanently': 215, 'KEXINIT': 216, 'sent': 217, 'OpenSSH': 218, 'proc': 219, 'score': 220, 'self': 221, 'Forked': 222, 'child': 223, 'read': 224, 'Enabling': 225, 'compatibility': 226, 'list': 227, 'type': 228, 'software': 229, 'NEWKEYS': 230, 'connection': 231, 'attempt': 232, 'authorize': 233, 'key': 234, 'hmac': 235, 'RHOST': 236, 'Debian': 237, 'Local': 238, 'ubuntu': 239, 'reply': 240, 'libssh': 241, 'do': 242, 'network': 243, 'resolve': 244, 'return': 245, 'sadecehosting': 246, 'singraven': 247, 'Generic': 248, 'preauthentication': 249, 'Clients': 250, 'revoke': 251, 'Request': 252, 'sssd': 253, 'setcred': 254, 'jeep': 255, 'kernel': 256, 'warmelo': 257, 'Login': 258, 'existent': 259, 'janus': 260, 'warning': 261, 'zwolle': 262, 'LoginGraceTime': 263, 'exceed': 264, 'WARNING': 265, 'lookup': 266, 'PROCESS': 267, 'priv': 268, 'ttys': 269, 'DEAD': 270, 'hofstederj': 271, 'script': 272, 'create': 273, 'cstring': 274, 'record': 275, 'MaxStartups': 276, 'config': 277, 'line': 278, 'spec': 279, 'OpenDirectory': 280, 'AllowUsers': 281, 'initialize': 282, 'Killing': 283, 'privsep': 284, 'KEXDH': 285, 'AUTH': 286, 'ERROR': 287, 'wbcLogonUser': 288, 'winbind': 289, 'item': 290, 'secure': 291, 'grant': 292, 'limit': 293, 'sigpending': 294, 'soft': 295, 'DOMAIN': 296, 'FOUND': 297, 'give': 298, 'valid': 299, 'wbcGetpwnam': 300}\n"
     ]
    },
    {
     "name": "stderr",
     "output_type": "stream",
     "text": [
      "d:\\program files\\python\\lib\\site-packages\\ipykernel\\ipkernel.py:283: DeprecationWarning: `should_run_async` will not call `transform_cell` automatically in the future. Please pass the result to `transformed_cell` argument and any exception that happen during thetransform in `preprocessing_exc_tuple` in IPython 7.17 and above.\n",
      "  and should_run_async(code)\n"
     ]
    }
   ],
   "source": [
    "print(dictionary5.token2id)"
   ]
  },
  {
   "cell_type": "markdown",
   "id": "white-portsmouth",
   "metadata": {},
   "source": [
    "## Bag-of-Words"
   ]
  },
  {
   "cell_type": "markdown",
   "id": "rapid-mathematics",
   "metadata": {},
   "source": [
    "### number of occurrences of the word in the corpus5"
   ]
  },
  {
   "cell_type": "code",
   "execution_count": 43,
   "id": "valued-cameroon",
   "metadata": {},
   "outputs": [
    {
     "name": "stderr",
     "output_type": "stream",
     "text": [
      "d:\\program files\\python\\lib\\site-packages\\ipykernel\\ipkernel.py:283: DeprecationWarning: `should_run_async` will not call `transform_cell` automatically in the future. Please pass the result to `transformed_cell` argument and any exception that happen during thetransform in `preprocessing_exc_tuple` in IPython 7.17 and above.\n",
      "  and should_run_async(code)\n"
     ]
    },
    {
     "name": "stdout",
     "output_type": "stream",
     "text": [
      "  (0, 0)\t40698\n",
      "  (0, 11)\t40698\n",
      "  (0, 22)\t204175\n",
      "  (0, 33)\t371868\n",
      "  (0, 44)\t8563\n",
      "  (0, 55)\t8563\n",
      "  (0, 66)\t14787\n",
      "  (0, 77)\t12895\n",
      "  (0, 88)\t28060\n",
      "  (0, 99)\t42796\n",
      "  (0, 110)\t13382\n",
      "  (0, 121)\t229\n",
      "  (0, 132)\t1446\n",
      "  (0, 143)\t37775\n",
      "  (0, 154)\t113511\n",
      "  (0, 165)\t113503\n",
      "  (0, 176)\t16830\n",
      "  (0, 187)\t7533\n",
      "  (0, 198)\t9832\n",
      "  (0, 209)\t42893\n",
      "  (0, 220)\t7225\n",
      "  (0, 222)\t11978\n",
      "  (0, 223)\t6298\n",
      "  (0, 224)\t10915\n",
      "  (0, 225)\t8758\n",
      "  :\t:\n",
      "  (0, 194)\t152\n",
      "  (0, 195)\t152\n",
      "  (0, 196)\t152\n",
      "  (0, 197)\t152\n",
      "  (0, 199)\t31\n",
      "  (0, 200)\t1548\n",
      "  (0, 201)\t245\n",
      "  (0, 202)\t235\n",
      "  (0, 203)\t235\n",
      "  (0, 204)\t241\n",
      "  (0, 205)\t23545\n",
      "  (0, 206)\t23545\n",
      "  (0, 207)\t23545\n",
      "  (0, 208)\t47700\n",
      "  (0, 210)\t189\n",
      "  (0, 211)\t13923\n",
      "  (0, 212)\t34\n",
      "  (0, 213)\t40\n",
      "  (0, 214)\t40\n",
      "  (0, 215)\t40\n",
      "  (0, 216)\t15\n",
      "  (0, 217)\t15\n",
      "  (0, 218)\t15\n",
      "  (0, 219)\t15\n",
      "  (0, 221)\t15\n"
     ]
    }
   ],
   "source": [
    "vec=CountVectorizer()\n",
    "bag5=vec.fit_transform([corpus_5])\n",
    "print(bag5)"
   ]
  },
  {
   "cell_type": "code",
   "execution_count": 32,
   "id": "minus-little",
   "metadata": {},
   "outputs": [
    {
     "name": "stdout",
     "output_type": "stream",
     "text": [
      "['10', '100', '101', '102', '103', '104', '105', '106', '107', '108', '109', '11', '110', '111', '112', '113', '114', '115', '116', '117', '118', '119', '12', '120', '121', '122', '123', '124', '125', '126', '127', '128', '129', '13', '130', '131', '132', '133', '134', '135', '136', '137', '138', '139', '14', '140', '141', '142', '143', '144', '145', '146', '147', '148', '149', '15', '150', '151', '152', '153', '154', '155', '156', '157', '158', '159', '16', '160', '161', '162', '163', '164', '165', '166', '167', '168', '169', '17', '170', '171', '172', '173', '174', '175', '176', '177', '178', '179', '18', '180', '181', '182', '183', '184', '185', '186', '187', '188', '189', '19', '190', '191', '192', '193', '194', '195', '196', '197', '198', '199', '20', '200', '201', '202', '203', '204', '205', '206', '207', '208', '209', '21', '210', '211', '212', '213', '214', '215', '216', '217', '218', '219', '22', '220', '221', '222', '223', '224', '225', '226', '227', '228', '229', '23', '230', '231', '232', '233', '234', '235', '236', '237', '238', '239', '24', '240', '241', '242', '243', '244', '245', '246', '247', '248', '249', '25', '250', '251', '252', '253', '254', '255', '256', '257', '258', '259', '26', '260', '261', '262', '263', '264', '265', '266', '267', '268', '269', '27', '270', '271', '272', '273', '274', '275', '276', '277', '278', '279', '28', '280', '281', '282', '283', '284', '285', '286', '287', '288', '289', '29', '290', '291', '292', '293', '294', '295', '296', '297', '298', '299', '30', '300', '31', '32', '33', '34', '35', '36', '37', '38', '39', '40', '41', '42', '43', '44', '45', '46', '47', '48', '49', '50', '51', '52', '53', '54', '55', '56', '57', '58', '59', '60', '61', '62', '63', '64', '65', '66', '67', '68', '69', '70', '71', '72', '73', '74', '75', '76', '77', '78', '79', '80', '81', '82', '83', '84', '85', '86', '87', '88', '89', '90', '91', '92', '93', '94', '95', '96', '97', '98', '99']\n"
     ]
    }
   ],
   "source": [
    "#names=vec.get_feature_names()\n",
    "#print(names)"
   ]
  },
  {
   "cell_type": "markdown",
   "id": "middle-google",
   "metadata": {},
   "source": [
    "### print the feature vectors"
   ]
  },
  {
   "cell_type": "code",
   "execution_count": 33,
   "id": "creative-organizer",
   "metadata": {},
   "outputs": [
    {
     "name": "stdout",
     "output_type": "stream",
     "text": [
      "[[ 40698    102    660  11770     38     59     59     59     40     40\n",
      "   38391  40698     21  18701   5896  13934   2004   6734  11934   3950\n",
      "    3892    147 204175     35     29     41     39  48317   1426     28\n",
      "   15644  15373  20254 371868  15373  15379  18700  18700  14701  14699\n",
      "   24862    912    909    910   8563    617  20131    779     17     15\n",
      "      15     16     89   1019     36   8563     25     54    766    946\n",
      "    2565   2157     39     25    205    205  14787    203    111    111\n",
      "     111     88    178     35    535   1660   8395  12895   2596    105\n",
      "     295    277   1201     26    256    102     31    208  28060    421\n",
      "     437    207    419    208    212   8728   5696    289     59  42796\n",
      "      24     22    103   8190    652     69    262     61    130     27\n",
      "   13382   8046     36     36  17180   8627    290    290    858    285\n",
      "     285    229    285    285    251    521    299    293    556    551\n",
      "     298    300   1446    300    300    285    804    283    257    257\n",
      "    1822    274    266  37775    783    523    511     15     15    491\n",
      "     269    244    244     22 113511     15    501    272   5638   5638\n",
      "     190     67   1418     82     82 113503     40     40     52     52\n",
      "      25     20     66    123    791    791  16830   1818   1906   2141\n",
      "     476    476    546    535     24     25     25   7533     17     24\n",
      "      16    113     48    144    152    152    152    152   9832     31\n",
      "    1548    245    235    235    241  23545  23545  23545  47700  42893\n",
      "     189  13923     34     40     40     40     15     15     15     15\n",
      "    7225     15  11978   6298  10915   8758  33027  10915  56330   9295\n",
      "    9295  10912  21554 105644    289    278  94150  93820 169601     45\n",
      "    1624   8875   1620   1620    301    278    623    411    411    568\n",
      "   84852    245    455    561   1295    744    137    134   6107    275\n",
      "      48     45     82     68  10594    858  19391     51     51    591\n",
      "     218    218     61     26    584    571   2128   3426   3395    622\n",
      "     116   1042     17    137    133    133     75   2345     16     16\n",
      "     207]]\n"
     ]
    }
   ],
   "source": [
    "array=bag5.toarray()\n",
    "print(array)"
   ]
  },
  {
   "cell_type": "markdown",
   "id": "expired-halloween",
   "metadata": {},
   "source": [
    "## Tf-idf"
   ]
  },
  {
   "cell_type": "markdown",
   "id": "inappropriate-refund",
   "metadata": {},
   "source": [
    "### get Tf-idf matrix "
   ]
  },
  {
   "cell_type": "code",
   "execution_count": 45,
   "id": "peaceful-newman",
   "metadata": {},
   "outputs": [
    {
     "name": "stderr",
     "output_type": "stream",
     "text": [
      "d:\\program files\\python\\lib\\site-packages\\ipykernel\\ipkernel.py:283: DeprecationWarning: `should_run_async` will not call `transform_cell` automatically in the future. Please pass the result to `transformed_cell` argument and any exception that happen during thetransform in `preprocessing_exc_tuple` in IPython 7.17 and above.\n",
      "  and should_run_async(code)\n"
     ]
    }
   ],
   "source": [
    "tfidf_vec=TfidfVectorizer()\n",
    "tfidf_matrix=tfidf_vec.fit_transform([corpus_5])"
   ]
  },
  {
   "cell_type": "code",
   "execution_count": 47,
   "id": "appropriate-siemens",
   "metadata": {},
   "outputs": [
    {
     "name": "stdout",
     "output_type": "stream",
     "text": [
      "[[7.42659354e-02 1.86130164e-04 1.20437165e-03 2.14779611e-02\n",
      "  6.93426101e-05 1.07663526e-04 1.07663526e-04 1.07663526e-04\n",
      "  7.29922211e-05 7.29922211e-05 7.00561090e-02 7.42659354e-02\n",
      "  3.83209161e-05 3.41256882e-02 1.07590534e-02 2.54268402e-02\n",
      "  3.65691028e-03 1.22882404e-02 2.17772292e-02 7.20798184e-03\n",
      "  7.10214312e-03 2.68246413e-04 3.72579669e-01 6.38681935e-05\n",
      "  5.29193603e-05 7.48170267e-05 7.11674156e-05 8.81691287e-02\n",
      "  2.60217268e-03 5.10945548e-05 2.85472577e-02 2.80527354e-02\n",
      "  3.69596112e-02 6.78586782e-01 2.80527354e-02 2.80636842e-02\n",
      "  3.41238634e-02 3.41238634e-02 2.68264661e-02 2.68228165e-02\n",
      "  4.53683150e-02 1.66422264e-03 1.65874823e-03 1.66057303e-03\n",
      "  1.56258097e-02 1.12590501e-03 3.67351601e-02 1.42152351e-03\n",
      "  3.10216940e-05 2.73720829e-05 2.73720829e-05 2.91968885e-05\n",
      "  1.62407692e-04 1.85947683e-03 6.56929990e-05 1.56258097e-02\n",
      "  4.56201382e-05 9.85394985e-05 1.39780103e-03 1.72626603e-03\n",
      "  4.68062618e-03 3.93610552e-03 7.11674156e-05 4.56201382e-05\n",
      "  3.74085133e-04 3.74085133e-04 2.69833993e-02 3.70435522e-04\n",
      "  2.02553414e-04 2.02553414e-04 2.02553414e-04 1.60582886e-04\n",
      "  3.24815384e-04 6.38681935e-05 9.76270958e-04 3.02917718e-03\n",
      "  1.53192424e-02 2.35308673e-02 4.73719515e-03 1.91604580e-04\n",
      "  5.38317631e-04 5.05471131e-04 2.19159144e-03 4.74449437e-05\n",
      "  4.67150215e-04 1.86130164e-04 5.65689714e-05 3.79559550e-04\n",
      "  5.12040431e-02 7.68243127e-04 7.97440016e-04 3.77734744e-04\n",
      "  7.64593516e-04 3.79559550e-04 3.86858772e-04 1.59269027e-02\n",
      "  1.03940923e-02 5.27368798e-04 1.07663526e-04 7.80943774e-02\n",
      "  4.37953327e-05 4.01457216e-05 1.87954969e-04 1.49451573e-02\n",
      "  1.18977320e-03 1.25911581e-04 4.78099048e-04 1.11313137e-04\n",
      "  2.37224719e-04 4.92697493e-05 2.44195476e-02 1.46823853e-02\n",
      "  6.56929990e-05 6.56929990e-05 3.13501590e-02 1.57425973e-02\n",
      "  5.29193603e-04 5.29193603e-04 1.56568314e-03 5.20069576e-04\n",
      "  5.20069576e-04 4.17880466e-04 5.20069576e-04 5.20069576e-04\n",
      "  4.58026188e-04 9.50723680e-04 5.45616853e-04 5.34668020e-04\n",
      "  1.01459187e-03 1.00546785e-03 5.43792047e-04 5.47441658e-04\n",
      "  2.63866879e-03 5.47441658e-04 5.47441658e-04 5.20069576e-04\n",
      "  1.46714364e-03 5.16419964e-04 4.68975021e-04 4.68975021e-04\n",
      "  3.32479567e-03 4.99996715e-04 4.85398271e-04 6.89320288e-02\n",
      "  1.42882273e-03 9.54373291e-04 9.32475625e-04 2.73720829e-05\n",
      "  2.73720829e-05 8.95979514e-04 4.90872687e-04 4.45252549e-04\n",
      "  4.45252549e-04 4.01457216e-05 2.07135500e-01 2.73720829e-05\n",
      "  9.14227570e-04 4.96347104e-04 1.02882536e-02 1.02882536e-02\n",
      "  3.46713050e-04 1.22261970e-04 2.58757424e-03 1.49634053e-04\n",
      "  1.49634053e-04 2.07120902e-01 7.29922211e-05 7.29922211e-05\n",
      "  9.48898875e-05 9.48898875e-05 4.56201382e-05 3.64961106e-05\n",
      "  1.20437165e-04 2.24451080e-04 1.44342117e-03 1.44342117e-03\n",
      "  3.07114770e-02 3.31749645e-03 3.47807934e-03 3.90690864e-03\n",
      "  8.68607431e-04 8.68607431e-04 9.96343818e-04 9.76270958e-04\n",
      "  4.37953327e-05 4.56201382e-05 4.56201382e-05 1.37462600e-02\n",
      "  3.10216940e-05 4.37953327e-05 2.91968885e-05 2.06203025e-04\n",
      "  8.75906654e-05 2.62771996e-04 2.77370440e-04 2.77370440e-04\n",
      "  2.77370440e-04 2.77370440e-04 1.79414880e-02 5.65689714e-05\n",
      "  2.82479896e-03 4.47077354e-04 4.28829299e-04 4.28829299e-04\n",
      "  4.39778132e-04 4.29650462e-02 4.29650462e-02 4.29650462e-02\n",
      "  8.70432237e-02 7.82713835e-02 3.44888245e-04 2.54067674e-02\n",
      "  6.20433880e-05 7.29922211e-05 7.29922211e-05 7.29922211e-05\n",
      "  2.73720829e-05 2.73720829e-05 2.73720829e-05 2.73720829e-05\n",
      "  1.31842199e-02 2.73720829e-05 2.18575206e-02 1.14926252e-02\n",
      "  1.99177523e-02 1.59816468e-02 6.02678522e-02 1.99177523e-02\n",
      "  1.02791295e-01 1.69615674e-02 1.69615674e-02 1.99122779e-02\n",
      "  3.93318584e-02 1.92779755e-01 5.27368798e-04 5.07295937e-04\n",
      "  1.71805440e-01 1.71203255e-01 3.09488842e-01 8.21162488e-05\n",
      "  2.96348418e-03 1.61951491e-02 2.95618496e-03 2.95618496e-03\n",
      "  5.49266464e-04 5.07295937e-04 1.13685384e-03 7.49995072e-04\n",
      "  7.49995072e-04 1.03648954e-03 1.54838399e-01 4.47077354e-04\n",
      "  8.30286515e-04 1.02371590e-03 2.36312316e-03 1.35765531e-03\n",
      "  2.49998357e-04 2.44523941e-04 1.11440874e-02 5.01821520e-04\n",
      "  8.75906654e-05 8.21162488e-05 1.49634053e-04 1.24086776e-04\n",
      "  1.93319898e-02 1.56568314e-03 3.53848040e-02 9.30650819e-05\n",
      "  9.30650819e-05 1.07846007e-03 3.97807605e-04 3.97807605e-04\n",
      "  1.11313137e-04 4.74449437e-05 1.06568643e-03 1.04196396e-03\n",
      "  3.88318616e-03 6.25178374e-03 6.19521477e-03 1.13502904e-03\n",
      "  2.11677441e-04 1.90144736e-03 3.10216940e-05 2.49998357e-04\n",
      "  2.42699135e-04 2.42699135e-04 1.36860415e-04 4.27916896e-03\n",
      "  2.91968885e-05 2.91968885e-05 3.77734744e-04]]\n"
     ]
    },
    {
     "name": "stderr",
     "output_type": "stream",
     "text": [
      "d:\\program files\\python\\lib\\site-packages\\ipykernel\\ipkernel.py:283: DeprecationWarning: `should_run_async` will not call `transform_cell` automatically in the future. Please pass the result to `transformed_cell` argument and any exception that happen during thetransform in `preprocessing_exc_tuple` in IPython 7.17 and above.\n",
      "  and should_run_async(code)\n"
     ]
    }
   ],
   "source": [
    "print(tfidf_matrix.toarray())"
   ]
  },
  {
   "cell_type": "code",
   "execution_count": 48,
   "id": "arbitrary-angel",
   "metadata": {},
   "outputs": [
    {
     "name": "stderr",
     "output_type": "stream",
     "text": [
      "d:\\program files\\python\\lib\\site-packages\\ipykernel\\ipkernel.py:283: DeprecationWarning: `should_run_async` will not call `transform_cell` automatically in the future. Please pass the result to `transformed_cell` argument and any exception that happen during thetransform in `preprocessing_exc_tuple` in IPython 7.17 and above.\n",
      "  and should_run_async(code)\n"
     ]
    }
   ],
   "source": [
    "#tfidf = gensim.models.TfidfModel(corpus5)\n",
    "#corpus_tfidf5 = tfidf[corpus5]\n",
    "#model_tfidf = gensim.models.LdaMulticore(corpus_tfidf5, num_topics=10, id2word=dictionary5, passes=2, workers=4)"
   ]
  },
  {
   "cell_type": "code",
   "execution_count": 50,
   "id": "turned-hormone",
   "metadata": {},
   "outputs": [
    {
     "name": "stderr",
     "output_type": "stream",
     "text": [
      "d:\\program files\\python\\lib\\site-packages\\ipykernel\\ipkernel.py:283: DeprecationWarning: `should_run_async` will not call `transform_cell` automatically in the future. Please pass the result to `transformed_cell` argument and any exception that happen during thetransform in `preprocessing_exc_tuple` in IPython 7.17 and above.\n",
      "  and should_run_async(code)\n"
     ]
    }
   ],
   "source": [
    "#model_tfidf1 = gensim.models.LdaMulticore(corpus_tfidf5, num_topics=10, id2word=dictionary5, passes=2, workers=4,iterations=50)"
   ]
  },
  {
   "cell_type": "code",
   "execution_count": 51,
   "id": "plain-owner",
   "metadata": {},
   "outputs": [
    {
     "name": "stderr",
     "output_type": "stream",
     "text": [
      "d:\\program files\\python\\lib\\site-packages\\ipykernel\\ipkernel.py:283: DeprecationWarning: `should_run_async` will not call `transform_cell` automatically in the future. Please pass the result to `transformed_cell` argument and any exception that happen during thetransform in `preprocessing_exc_tuple` in IPython 7.17 and above.\n",
      "  and should_run_async(code)\n"
     ]
    },
    {
     "data": {
      "text/plain": [
       "[(0,\n",
       "  '0.345*\"password\" + 0.280*\"Failed\" + 0.195*\"port\" + 0.045*\"invalid\" + 0.032*\"secure\" + 0.031*\"interactive\" + 0.031*\"keyboard\"'),\n",
       " (1,\n",
       "  '0.444*\"preauth\" + 0.080*\"debug\" + 0.064*\"service\" + 0.045*\"retry\" + 0.045*\"ignore\" + 0.037*\"allow\" + 0.036*\"list\"'),\n",
       " (2,\n",
       "  '0.504*\"disconnect\" + 0.356*\"Received\" + 0.058*\"user\" + 0.055*\"localhost\" + 0.021*\"kwetal\" + 0.002*\"Normal\" + 0.002*\"Shutdown\"'),\n",
       " (3,\n",
       "  '0.188*\"winbind\" + 0.142*\"auth\" + 0.092*\"AUTH\" + 0.092*\"ERROR\" + 0.092*\"wbcLogonUser\" + 0.080*\"request\" + 0.074*\"fail\"'),\n",
       " (4,\n",
       "  '0.148*\"failure\" + 0.111*\"rhost\" + 0.111*\"logname\" + 0.111*\"euid\" + 0.111*\"ruser\" + 0.109*\"utwente\" + 0.092*\"authentication\"'),\n",
       " (5,\n",
       "  '0.398*\"session\" + 0.175*\"unix\" + 0.142*\"open\" + 0.132*\"close\" + 0.098*\"user\" + 0.027*\"kwetal\" + 0.011*\"receive\"'),\n",
       " (6,\n",
       "  '0.457*\"Invalid\" + 0.121*\"user\" + 0.110*\"userauth\" + 0.107*\"input\" + 0.086*\"invalid\" + 0.079*\"request\" + 0.036*\"localhost\"'),\n",
       " (7,\n",
       "  '0.258*\"getting\" + 0.090*\"Accepted\" + 0.089*\"publickey\" + 0.054*\"port\" + 0.041*\"Authentication\" + 0.040*\"User\" + 0.035*\"authentication\"'),\n",
       " (8,\n",
       "  '0.244*\"error\" + 0.091*\"module\" + 0.083*\"credentials\" + 0.082*\"try\" + 0.076*\"bind\" + 0.074*\"ldap\" + 0.041*\"pass\"'),\n",
       " (9,\n",
       "  '0.592*\"Connection\" + 0.319*\"close\" + 0.029*\"client\" + 0.020*\"hmac\" + 0.016*\"server\" + 0.009*\"debug\" + 0.004*\"channel\"')]"
      ]
     },
     "execution_count": 51,
     "metadata": {},
     "output_type": "execute_result"
    }
   ],
   "source": [
    "#model_tfidf1.show_topics(10,7)"
   ]
  },
  {
   "cell_type": "code",
   "execution_count": null,
   "id": "challenging-marking",
   "metadata": {},
   "outputs": [],
   "source": []
  },
  {
   "cell_type": "code",
   "execution_count": 49,
   "id": "second-governor",
   "metadata": {},
   "outputs": [
    {
     "name": "stderr",
     "output_type": "stream",
     "text": [
      "d:\\program files\\python\\lib\\site-packages\\ipykernel\\ipkernel.py:283: DeprecationWarning: `should_run_async` will not call `transform_cell` automatically in the future. Please pass the result to `transformed_cell` argument and any exception that happen during thetransform in `preprocessing_exc_tuple` in IPython 7.17 and above.\n",
      "  and should_run_async(code)\n"
     ]
    },
    {
     "data": {
      "text/plain": [
       "[(0,\n",
       "  '0.400*\"disconnect\" + 0.281*\"Received\" + 0.105*\"deny\" + 0.095*\"access\" + 0.055*\"user\" + 0.024*\"auth\" + 0.017*\"localhost\"'),\n",
       " (1,\n",
       "  '0.548*\"Invalid\" + 0.145*\"localhost\" + 0.141*\"user\" + 0.055*\"ignore\" + 0.055*\"retry\" + 0.053*\"service\" + 0.001*\"telnor\"'),\n",
       " (2,\n",
       "  '0.232*\"invalid\" + 0.142*\"request\" + 0.101*\"userauth\" + 0.098*\"input\" + 0.068*\"credentials\" + 0.068*\"try\" + 0.063*\"bind\"'),\n",
       " (3,\n",
       "  '0.386*\"password\" + 0.299*\"Failed\" + 0.207*\"port\" + 0.061*\"secure\" + 0.030*\"kwetal\" + 0.004*\"receive\" + 0.004*\"setting\"'),\n",
       " (4,\n",
       "  '0.152*\"utwente\" + 0.136*\"Disconnecting\" + 0.136*\"many\" + 0.109*\"authentication\" + 0.082*\"failure\" + 0.043*\"address\" + 0.032*\"realm\"'),\n",
       " (5,\n",
       "  '0.525*\"preauth\" + 0.100*\"debug\" + 0.043*\"pass\" + 0.041*\"unknown\" + 0.036*\"check\" + 0.030*\"connect\" + 0.028*\"refuse\"'),\n",
       " (6,\n",
       "  '0.252*\"Accepted\" + 0.249*\"publickey\" + 0.187*\"port\" + 0.120*\"interactive\" + 0.120*\"keyboard\" + 0.043*\"Failed\" + 0.008*\"version\"'),\n",
       " (7,\n",
       "  '0.139*\"winbind\" + 0.105*\"getting\" + 0.102*\"auth\" + 0.068*\"AUTH\" + 0.068*\"wbcLogonUser\" + 0.068*\"ERROR\" + 0.067*\"fail\"'),\n",
       " (8,\n",
       "  '0.139*\"ruser\" + 0.139*\"euid\" + 0.139*\"rhost\" + 0.139*\"logname\" + 0.118*\"failure\" + 0.106*\"authentication\" + 0.072*\"auth\"'),\n",
       " (9,\n",
       "  '0.340*\"session\" + 0.184*\"close\" + 0.149*\"unix\" + 0.121*\"Connection\" + 0.121*\"open\" + 0.083*\"user\" + 0.000*\"kwetal\"')]"
      ]
     },
     "execution_count": 49,
     "metadata": {},
     "output_type": "execute_result"
    }
   ],
   "source": [
    "#model_tfidf.show_topics(10,7)"
   ]
  },
  {
   "cell_type": "code",
   "execution_count": 36,
   "id": "purple-worse",
   "metadata": {},
   "outputs": [],
   "source": [
    "#import pyLDAvis.gensim\n",
    "#pyLDAvis.enable_notebook()"
   ]
  },
  {
   "cell_type": "code",
   "execution_count": 37,
   "id": "bigger-snake",
   "metadata": {},
   "outputs": [
    {
     "name": "stderr",
     "output_type": "stream",
     "text": [
      "d:\\program files\\python\\lib\\site-packages\\ipykernel\\ipkernel.py:283: DeprecationWarning: `should_run_async` will not call `transform_cell` automatically in the future. Please pass the result to `transformed_cell` argument and any exception that happen during thetransform in `preprocessing_exc_tuple` in IPython 7.17 and above.\n",
      "  and should_run_async(code)\n"
     ]
    }
   ],
   "source": [
    "#display_tfidf5 = pyLDAvis.gensim.prepare(model_tfidf5, corpus5, dictionary5, sort_topics=False)"
   ]
  },
  {
   "cell_type": "code",
   "execution_count": 38,
   "id": "german-sugar",
   "metadata": {},
   "outputs": [
    {
     "name": "stderr",
     "output_type": "stream",
     "text": [
      "d:\\program files\\python\\lib\\site-packages\\ipykernel\\ipkernel.py:283: DeprecationWarning: `should_run_async` will not call `transform_cell` automatically in the future. Please pass the result to `transformed_cell` argument and any exception that happen during thetransform in `preprocessing_exc_tuple` in IPython 7.17 and above.\n",
      "  and should_run_async(code)\n"
     ]
    },
    {
     "data": {
      "text/html": [
       "\n",
       "\n",
       "<link rel=\"stylesheet\" type=\"text/css\" href=\"https://cdn.jsdelivr.net/gh/bmabey/pyLDAvis/pyLDAvis/js/ldavis.v1.0.0.css\">\n",
       "\n",
       "<div id=\"ldavis_el1515626550618218081577634026\"></div>\n",
       "<script type=\"text/javascript\">\n",
       "\n",
       "var ldavis_el1515626550618218081577634026_data = {\"mdsDat\": {\"x\": [0.02594099904767478, 0.16508202632465138, -0.09642086766662647, -0.3275820225712913, 0.28432280543411037, 0.009389472208033, 0.22250314640526367, -0.23024662968748877, -0.05618810713887561, 0.003199177644548957], \"y\": [0.19278926350706727, 0.04306356914452966, 0.14290127091240057, -0.19699639614004685, -0.20851148125266167, 0.1287277242444363, -0.21660674560119822, -0.23851441169964657, 0.21282896629538284, 0.14031824058973735], \"topics\": [1, 2, 3, 4, 5, 6, 7, 8, 9, 10], \"cluster\": [1, 1, 1, 1, 1, 1, 1, 1, 1, 1], \"Freq\": [6.162057753234489, 17.370532475301022, 10.740464354077114, 7.586604587237751, 7.740965770164523, 4.127001934005716, 7.345695173275718, 12.248918557202911, 21.573293126755598, 5.104466268745155]}, \"tinfo\": {\"Term\": [\"session\", \"disconnect\", \"Received\", \"password\", \"Accepted\", \"publickey\", \"Failed\", \"port\", \"Invalid\", \"unix\", \"preauth\", \"open\", \"getting\", \"close\", \"winbind\", \"auth\", \"AUTH\", \"ERROR\", \"wbcLogonUser\", \"user\", \"fail\", \"request\", \"authentication\", \"Connection\", \"credentials\", \"error\", \"try\", \"bind\", \"ldap\", \"deny\", \"deny\", \"access\", \"Permission\", \"ignore\", \"retry\", \"address\", \"Address\", \"back\", \"map\", \"warning\", \"account\", \"service\", \"grant\", \"authenticate\", \"Invalid\", \"janus\", \"utsp\", \"Login\", \"existent\", \"zwolle\", \"HHHHH\", \"LoginGraceTime\", \"exceed\", \"user\", \"localhost\", \"lookup\", \"WARNING\", \"BREAK\", \"POSSIBLE\", \"ATTEMPT\", \"auth\", \"kwetal\", \"authentication\", \"secure\", \"User\", \"logname\", \"euid\", \"rhost\", \"ruser\", \"know\", \"underlie\", \"Client\", \"found\", \"Kerberos\", \"database\", \"mapping\", \"getaddrinfo\", \"list\", \"allow\", \"reverse\", \"AllowUsers\", \"utwente\", \"illegal\", \"hinet\", \"BREAKIN\", \"ctinets\", \"comcastbusiness\", \"ppsuc\", \"host\", \"greendata\", \"uahurtado\", \"itbe\", \"dyxnet\", \"lmontsouris\", \"static\", \"POSSIBLE\", \"ATTEMPT\", \"BREAK\", \"authentication\", \"HHHHH\", \"check\", \"failure\", \"fail\", \"auth\", \"kwetal\", \"unix\", \"user\", \"disconnect\", \"Received\", \"Normal\", \"Shutdown\", \"Goodbye\", \"application\", \"localhost\", \"UNKNOWN\", \"user\", \"warmelo\", \"everloo\", \"filetype\", \"Couldn\", \"stat\", \"openseek\", \"kernel\", \"proc\", \"score\", \"self\", \"directory\", \"lastlog\", \"DEAD\", \"hofstederj\", \"PROCESS\", \"FILE\", \"ttys\", \"reading\", \"sigpending\", \"soft\", \"weleveld\", \"kwetal\", \"brecklenkamp\", \"zwolle\", \"singraven\", \"ffff\", \"Unable\", \"unknown\", \"pass\", \"check\", \"utsp\", \"auth\", \"limit\", \"unix\", \"preauth\", \"verify\", \"input\", \"userauth\", \"invalid\", \"request\", \"ldap\", \"LDAP\", \"server\", \"reconnecting\", \"Accepted\", \"publickey\", \"version\", \"protocol\", \"utwks\", \"HTTP\", \"http\", \"software\", \"Enabling\", \"compatibility\", \"mode\", \"libssh\", \"port\", \"zwolle\", \"script\", \"setup\", \"warmelo\", \"brecklenkamp\", \"ubuntu\", \"proc\", \"score\", \"self\", \"filetype\", \"Couldn\", \"stat\", \"openseek\", \"kernel\", \"directory\", \"lastlog\", \"DEAD\", \"kwetal\", \"ffff\", \"utwente\", \"utsp\", \"OpenSSH\", \"Debian\", \"Local\", \"reconnecting\", \"LDAP\", \"server\", \"failure\", \"ruser\", \"euid\", \"rhost\", \"logname\", \"authentication\", \"ldap\", \"AUTH\", \"ERROR\", \"wbcLogonUser\", \"unknown\", \"info\", \"pass\", \"realm\", \"network\", \"resolve\", \"client\", \"hmac\", \"unixbsd\", \"system\", \"Generic\", \"preauthentication\", \"happy\", \"Clients\", \"revoke\", \"netio\", \"request\", \"fail\", \"twickel\", \"server\", \"kwetal\", \"winbind\", \"auth\", \"secure\", \"check\", \"item\", \"return\", \"retrieve\", \"authentication\", \"unix\", \"user\", \"HHHHH\", \"try\", \"bind\", \"ldap\", \"connect\", \"refuse\", \"credentials\", \"mobiel\", \"zilver\", \"subsystem\", \"sftp\", \"LDAP\", \"adsl\", \"contact\", \"direct\", \"simple\", \"reconnecting\", \"success\", \"euve\", \"wlan\", \"live\", \"error\", \"server\", \"Request\", \"sssd\", \"Invalid\", \"setcred\", \"authorize\", \"key\", \"Unable\", \"file\", \"request\", \"preauth\", \"input\", \"userauth\", \"utwente\", \"getting\", \"Authentication\", \"userauth\", \"input\", \"information\", \"succeed\", \"none\", \"name\", \"resolving\", \"pair\", \"mail\", \"bendcable\", \"kanagawa\", \"retrieve\", \"winbind\", \"error\", \"auth\", \"invalid\", \"zwolle\", \"secure\", \"method\", \"request\", \"connection\", \"failure\", \"singraven\", \"System\", \"reply\", \"reading\", \"keytab\", \"FILE\", \"password\", \"localhost\", \"kwetal\", \"user\", \"preauth\", \"Failed\", \"interactive\", \"keyboard\", \"module\", \"qala\", \"Postponed\", \"channel\", \"ffff\", \"password\", \"invalid\", \"port\", \"secure\", \"localhost\", \"kwetal\", \"singraven\", \"Illegal\", \"everloo\", \"reply\", \"weleveld\", \"filetype\", \"Couldn\", \"stat\", \"openseek\", \"kernel\", \"directory\", \"lastlog\", \"proc\", \"score\", \"self\", \"reading\", \"user\", \"brecklenkamp\", \"item\", \"return\", \"zwolle\", \"setup\", \"method\", \"connection\", \"utsp\", \"WARNING\", \"janus\", \"twickel\", \"unknown\", \"utwente\", \"session\", \"unix\", \"session\", \"open\", \"repo\", \"opentecnologia\", \"global\", \"masti\", \"blue\", \"kundencontroller\", \"unix\", \"close\", \"user\", \"warmelo\", \"brecklenkamp\", \"limit\", \"sigpending\", \"soft\", \"reply\", \"filetype\", \"Couldn\", \"stat\", \"openseek\", \"kernel\", \"directory\", \"proc\", \"score\", \"self\", \"lastlog\", \"DEAD\", \"hofstederj\", \"PROCESS\", \"kwetal\", \"client\", \"Could\", \"authorize\", \"key\", \"ruser\", \"rhost\", \"logname\", \"euid\", \"server\", \"failure\", \"authentication\", \"LDAP\", \"unixbsd\", \"auth\", \"ldap\", \"static\", \"simple\", \"contact\", \"reconnecting\", \"Connection\", \"Disconnecting\", \"many\", \"debug\", \"preauth\", \"cleanup\", \"receive\", \"NEWKEYS\", \"setting\", \"attempt\", \"KEXINIT\", \"sent\", \"string\", \"permanently\", \"socket\", \"identification\", \"dupping\", \"inetd\", \"child\", \"expect\", \"fatal\", \"do\", \"RHOST\", \"monitor\", \"reset\", \"peer\", \"OpenSSH\", \"Read\", \"Debian\", \"Local\", \"failure\", \"close\", \"authentication\", \"localhost\"], \"Freq\": [335503.0, 203947.0, 144342.0, 155268.0, 104242.0, 103388.0, 125791.0, 151463.0, 95643.0, 157770.0, 63244.0, 119589.0, 68934.0, 125323.0, 87592.0, 87048.0, 40004.0, 40004.0, 40004.0, 141295.0, 54749.0, 43067.0, 61875.0, 26468.0, 24586.0, 34088.0, 24421.0, 22480.0, 21916.0, 22506.0, 22503.715239837493, 19871.22006632509, 16784.998274060395, 7784.311994635685, 7784.311994635685, 6429.348491923767, 2699.7970452518125, 2698.7819654931704, 2698.7819654931704, 2723.2091560905897, 2216.0188350274457, 11531.216754969519, 162.9059356721525, 80.20350703293309, 79457.92260461337, 1.54587661521516, 0.9977745633940235, 0.9007368557821449, 0.9007368557821449, 2.43026042382534, 4898.257381873539, 0.5502845899146603, 0.5502845899146603, 21465.086651402962, 5600.095944396646, 0.4880700032980795, 0.487253601990001, 1863.9579611341053, 1821.055213270677, 1821.055213270677, 5319.844627806858, 26.06787285923991, 0.6465457118096919, 0.5593757300611462, 31520.763572171087, 31298.13318735121, 31298.13318735121, 31298.13318735121, 31298.13318735121, 22758.760188857592, 22758.760188857592, 17420.852786281997, 17115.920989253107, 17109.410480627266, 17109.410480627266, 16295.618480219828, 16295.618480219828, 16199.744617511502, 15996.928667800541, 15857.639026984667, 15685.950285334578, 33422.30200794519, 3936.4772652177685, 1892.89142300567, 1247.195981224175, 1031.9509059267884, 856.2528100130442, 805.1334494976859, 702.8933798530485, 675.4150715239905, 456.194694464449, 390.25301803714194, 370.99293817268426, 272.5407129552052, 2208.7194211309666, 15779.044205214082, 15779.044205214082, 15715.99860225878, 50760.523720837526, 25499.57283491936, 13972.902522512313, 26471.119098562824, 22947.41749055165, 16336.488075244833, 5199.3304292938865, 9275.851060663286, 6362.540504598928, 203944.95592059862, 144340.053803872, 716.8763731399677, 681.5386014759777, 604.7778101655923, 6.109325935151391, 22327.98743121285, 0.6216389637078865, 23271.375100674773, 0.6474562687740011, 0.4792763670633928, 0.46693314993421775, 0.46693314993421775, 0.46693314993421775, 0.46694065981756727, 0.4669436909150638, 0.4670899979195967, 0.4670899979195967, 0.4670899979195967, 0.4669619679805651, 0.4670167991770691, 0.4669122941738313, 0.4669147823881941, 0.4669145109466273, 0.4669105750439079, 0.4669147823881941, 0.4669109822062582, 0.46694418855793635, 0.46694418855793635, 0.46690781538797826, 1899.8340901382037, 0.4820462020518062, 0.920454372050305, 0.6557509349335867, 2.0569926987694243, 0.46781334445499473, 1.86539548784628, 1.7200037842767686, 1.505896919500378, 0.48109131585988396, 0.9886242976299019, 0.4669814665331173, 0.8418729432520315, 0.6881481193009639, 0.4670203279174382, 0.49257180120908284, 0.4923746441510264, 0.4885729240462272, 0.48523894300137416, 0.48244992614223664, 0.48094917095937606, 0.48024012034649893, 0.47932721711691634, 104239.90996796088, 103385.57985082296, 3975.745012392289, 2918.839505020773, 591.570372790393, 335.42431638431276, 136.13901608667146, 108.9013649655112, 5.27469861221162, 5.27469861221162, 5.214485220770388, 4.961550322999338, 64086.71697764811, 3.784772650196583, 0.5984111293387634, 0.596113060996133, 0.7152228820556352, 0.5481458934130673, 0.5260474772625612, 0.5229110488931084, 0.5229110488931084, 0.5229110488931084, 0.5226660758431514, 0.5226661077989367, 0.5226661077989367, 0.522675726490306, 0.5226813507085153, 0.522702761084653, 0.522772137094496, 0.5226407988169949, 1113.7389890893955, 8.186641680412457, 9.541194755300122, 0.56737707672932, 0.9779780482895295, 0.7884656697406772, 0.7884656697406772, 0.6163085420889969, 0.6001031881693426, 0.5914264894385298, 0.6138377207711425, 0.6086077730406371, 0.6086052804893852, 0.6085765841942038, 0.6085405380684078, 0.6078352738872769, 0.6055752329291298, 40001.240091663574, 40001.240091663574, 40001.240091663574, 4422.498383682482, 2694.750731752661, 3559.7743247395424, 2562.2330374930903, 2545.3787804784874, 2545.3787804784874, 1008.6035044083013, 279.1334901112305, 171.35762291511756, 98.13615116934258, 61.913485873046255, 61.913485873046255, 55.40224898535792, 34.81226123881517, 34.81226123881517, 21.74207735732984, 34258.566632560076, 31731.80261889798, 698.837985136563, 563.1805013772791, 7757.19456194045, 32088.466786419787, 24624.712961862344, 7283.0743943941525, 2996.580534731913, 0.26014016935897594, 0.2600444382161804, 245.90675570926226, 2500.9325189099072, 1108.8562038461212, 650.4082729836149, 62.39577050162506, 24418.948901927957, 22478.01251907016, 21913.30079320972, 8746.27774436749, 8421.142709652642, 24572.792375591325, 3385.260758031774, 3360.251794800682, 608.2870154060209, 608.2870154060209, 323.34254150554864, 230.08280349916245, 293.56575424970464, 217.9064240786333, 205.22195975400476, 147.98865981181186, 126.75761570551751, 98.30758458049878, 70.48715472428658, 49.534918270715586, 15772.607326658224, 458.68619220731824, 2.245608629820278, 2.245608629820278, 16182.589247231259, 0.5241248147530486, 0.40770598166484856, 0.40770598166484856, 0.4084105341014666, 0.40599026697475915, 87.55354205989984, 6.23605998663194, 2.379613703624953, 2.3404391279366874, 2.393375022512315, 68931.80521035135, 10589.028366143099, 11362.201149331839, 10995.705219446663, 3358.6911574221867, 2613.409091659615, 970.9379963277876, 666.2348993813725, 665.4462305159874, 664.7954487991702, 418.2775918693174, 151.28327159171178, 81.90728707517287, 4432.179615501939, 55501.52799624761, 18313.477581563067, 40764.680828365344, 8962.894806797145, 4.121085518923375, 8678.124387093043, 1.4909306606040238, 8718.538502012689, 1.0118834273700141, 5403.779609550816, 0.6196065121454851, 0.13302165410792405, 0.11824832719704167, 0.11687231713900466, 0.1169255898795476, 0.1165877291620459, 5470.204715621296, 1263.5821143983073, 549.7184845581967, 2586.4524075835816, 6.0211086233146505, 125788.40039504193, 13849.440286093672, 13846.762321046397, 10535.166060324747, 1698.975033515294, 619.0667142289388, 183.15212801864348, 521.8400147948286, 149794.801660106, 20812.22464223905, 87374.52688803441, 16224.46476398028, 5865.669921233913, 1921.959368868458, 0.6090314727129287, 0.1539236085387954, 0.1478339217115031, 0.14519661341085022, 0.1399496899268427, 0.1396193201954222, 0.13961937178949263, 0.13961937178949263, 0.13962138395823903, 0.13962189989894325, 0.13962727858078458, 0.13964247303452343, 0.13964803229561126, 0.13964803229561126, 0.13964803229561126, 0.13965976994663193, 4748.801267512558, 0.1440305100282398, 0.14601448261515704, 0.1460106388569107, 0.4777101687469399, 0.14132781914184644, 0.1640812298483972, 0.15850165359535306, 0.14451002531872853, 0.14094274679726254, 0.14188758900887438, 0.16033819612604355, 0.15384023252099574, 0.15080436002634398, 0.14709328883061587, 0.14448173886962046, 335500.91538141726, 119586.88128656661, 904.472640352997, 904.472640352997, 272.1650791650338, 244.8070391981085, 150.07209215766636, 150.07209215766636, 147383.83870542547, 111106.69564416262, 82209.10482896124, 1.2108370665133723, 0.833800850524523, 0.7924212093743196, 0.7898902191444062, 0.7898902191444062, 0.792668919831604, 0.7874496441400972, 0.7874497350096706, 0.7874497350096706, 0.7874568228364015, 0.7874581858800036, 0.7875097997977356, 0.787639652418227, 0.787639652418227, 0.787639652418227, 0.78753451632172, 0.7874288350077722, 0.7874316519645498, 0.7874313793558293, 653.7099307982272, 1.3317141357546345, 0.7890244138483656, 0.7875161606678787, 0.7875161606678787, 0.9055294753011731, 0.9055174805174748, 0.9055081209514072, 0.9054531448594567, 0.8673220909608745, 0.891473951415683, 0.8836895185346373, 0.8377551308837272, 0.8314111624813584, 0.8691844628691816, 0.8507522059774163, 0.8275800103942086, 0.8188615291674449, 0.8187969209007064, 0.8178356116829469, 26465.55994310605, 15731.726106423628, 15724.260857940824, 13546.275317617246, 63229.1497634751, 2686.1843034873264, 2086.874599144584, 1948.2008802711887, 1753.4268335793238, 1629.5557386440144, 1404.9824328641093, 1346.872508203328, 945.3186170578628, 888.1528568103521, 681.2880719056186, 670.4561168324839, 597.9962317057002, 597.9962317057002, 535.0842873674239, 429.30158954986086, 363.06628951505445, 323.55310569317413, 262.05705570751076, 207.44380225163704, 202.58971306482914, 202.58971306482914, 184.15424459621073, 144.21665574419296, 152.77468140469261, 152.77468140469261, 9862.536617596386, 14214.22060528225, 8610.951355469557, 557.5801207605886], \"Total\": [335503.0, 203947.0, 144342.0, 155268.0, 104242.0, 103388.0, 125791.0, 151463.0, 95643.0, 157770.0, 63244.0, 119589.0, 68934.0, 125323.0, 87592.0, 87048.0, 40004.0, 40004.0, 40004.0, 141295.0, 54749.0, 43067.0, 61875.0, 26468.0, 24586.0, 34088.0, 24421.0, 22480.0, 21916.0, 22506.0, 22506.70803232898, 19874.21285492371, 16788.006070140633, 7787.332046417103, 7787.332048186096, 6432.342571264922, 2702.7904130474976, 2701.77533155977, 2701.7753315976547, 2726.232708816029, 2219.0122581232786, 11551.8496094001, 165.8997350916725, 83.19641113312153, 95643.1151263871, 4.773564013023338, 4.161615420861705, 4.057832303872221, 4.057832303872221, 13.908184668203248, 30462.818413659174, 3.544230360887863, 3.544230360887863, 141295.72404811153, 37011.49741143628, 3.5556836994285583, 3.5707838667466607, 17582.654760603302, 17602.79727861563, 17602.797281116298, 87048.89065943721, 19122.227302421128, 61875.776904678634, 32188.895319843108, 31523.65006572361, 31301.261144592943, 31301.261161984272, 31301.261196267526, 31301.261259905117, 22761.646682661776, 22761.646682661776, 17423.73947976965, 17118.807515134602, 17112.297006663524, 17112.297006663524, 16298.51232674994, 16298.512333994275, 16202.633157590984, 15999.841008350943, 15860.554919157186, 15688.838601689935, 33436.214336519246, 3939.363802214187, 1895.7778907366232, 1250.0827921202936, 1034.840665484645, 859.1414705711271, 808.0205052193234, 705.7801393363078, 678.306688807125, 459.08120598134826, 393.13951482468866, 373.88479098226173, 275.4271869395975, 2236.49633802668, 17602.79727861563, 17602.797281116298, 17582.654760603302, 61875.776904678634, 30462.818413659174, 16973.33256352649, 41740.51582243713, 54749.31149442341, 87048.89065943721, 19122.227302421128, 157770.98622213656, 141295.72404811153, 203947.78515945244, 144342.87995033292, 719.5979826183768, 684.2602131120412, 607.4998378261351, 8.830426729581484, 37011.49741143628, 3.343876430609632, 141295.72404811153, 3.985400184884731, 3.254051903314259, 3.1882945813395276, 3.1882961845489506, 3.1882961845489506, 3.188379760314767, 3.18842406311851, 3.189445347166173, 3.189445347166173, 3.189445347166173, 3.1887441044907683, 3.18921993374982, 3.189223416436484, 3.1899447303803825, 3.1899560481306994, 3.1899421423955148, 3.1900150596762895, 3.190267877608215, 3.1906868828962165, 3.1906868828962165, 3.1914014055738567, 19122.227302421128, 3.301399495100069, 13.908184668203248, 8.143454790019096, 534.1427024749763, 3.21867287540733, 4427.0210473879615, 3564.1401220816397, 16973.33256352649, 4.161615420861705, 87048.89065943721, 3.1934299678185054, 157770.98622213656, 63244.2538861313, 3.2100989947929492, 11000.802474908322, 11367.258829039063, 29779.67557118058, 43067.30209149948, 21916.269705372895, 326.28673597362086, 1024.721961737373, 150.92176541522238, 104242.57916957715, 103388.24834275726, 3978.411078932398, 2921.5050080809483, 594.236757763558, 338.08976801987336, 138.805438343183, 111.6978764690954, 8.119809133139508, 8.119809133139508, 8.07061614454823, 8.520701572891063, 151463.88421803038, 13.908184668203248, 3.2680026518537644, 3.269657698467375, 3.985400184884731, 3.301399495100069, 3.202817314273121, 3.189445347166173, 3.189445347166173, 3.189445347166173, 3.1882945813395276, 3.1882961845489506, 3.1882961845489506, 3.188379760314767, 3.18842406311851, 3.1887441044907683, 3.18921993374982, 3.189223416436484, 19122.227302421128, 534.1427024749763, 33436.214336519246, 4.161615420861705, 187.64962539023372, 156.07553353471403, 156.07553353471403, 150.92176541522238, 326.28673597362086, 1024.721961737373, 41740.51582243713, 31301.261259905117, 31301.261161984272, 31301.261196267526, 31301.261144592943, 61875.776904678634, 21916.269705372895, 40004.3468583732, 40004.3468583732, 40004.3468583732, 4427.0210473879615, 2697.870624193962, 3564.1401220816397, 2565.6803692796343, 2548.8435374495575, 2548.8435374495575, 1012.2336314173972, 282.5936062120031, 174.48884732122653, 101.22064825978622, 64.99798500559145, 64.99798500559145, 58.49512627005721, 37.89680692083906, 37.89680692083906, 24.82685144321189, 43067.30209149948, 54749.31149442341, 1215.9250974206218, 1024.721961737373, 19122.227302421128, 87592.9672119716, 87048.89065943721, 32188.895319843108, 16973.33256352649, 3.354407304216708, 3.35500343189143, 4681.075175620753, 61875.776904678634, 157770.98622213656, 141295.72404811153, 30462.818413659174, 24421.742571280032, 22480.860680879865, 21916.269705372895, 8749.068835186548, 8423.933612668705, 24586.494132161948, 3388.047953926264, 3363.039045292933, 611.0738359296269, 611.0738359373621, 326.28673597362086, 232.86921010410555, 297.2772211304062, 220.69314978829325, 208.08839587191306, 150.92176541522238, 129.5439390596896, 101.09440817761605, 73.27345159279638, 52.32153020360131, 34088.79315518465, 1024.721961737373, 5.042989367726316, 5.042989367726316, 95643.1151263871, 3.313718104443293, 3.198275908560272, 3.198275908560272, 3.21867287540733, 3.2049825533635894, 43067.30209149948, 63244.2538861313, 11000.802474908322, 11367.258829039063, 33436.214336519246, 68934.8769543391, 10592.10018634198, 11367.258829039063, 11000.802474908322, 3361.778885893146, 2616.49738519181, 974.0125468381988, 669.3066357168908, 668.517966652271, 667.8671849354538, 421.3565599654481, 154.35534482593414, 84.98260882435615, 4681.075175620753, 87592.9672119716, 34088.79315518465, 87048.89065943721, 29779.67557118058, 13.908184668203248, 32188.895319843108, 6.615940748915719, 43067.30209149948, 5.654589259124825, 41740.51582243713, 8.143454790019096, 3.2345981496663607, 3.206466241658787, 3.190267877608215, 3.19221431458628, 3.1899421423955148, 155268.1221315931, 37011.49741143628, 19122.227302421128, 141295.72404811153, 63244.2538861313, 125791.6101764233, 13852.48868474806, 13849.810719679283, 10538.220712849503, 1702.0244564067714, 622.1151581641772, 186.2008182968787, 534.1427024749763, 155268.1221315931, 29779.67557118058, 151463.88421803038, 32188.895319843108, 37011.49741143628, 19122.227302421128, 8.143454790019096, 3.2605220509900743, 3.254051903314259, 3.206466241658787, 3.1914014055738567, 3.1882945813395276, 3.1882961845489506, 3.1882961845489506, 3.188379760314767, 3.18842406311851, 3.1887441044907683, 3.18921993374982, 3.189445347166173, 3.189445347166173, 3.189445347166173, 3.190267877608215, 141295.72404811153, 3.301399495100069, 3.354407304216708, 3.35500343189143, 13.908184668203248, 3.269657698467375, 6.615940748915719, 5.654589259124825, 4.161615420861705, 3.5707838667466607, 4.773564013023338, 1215.9250974206218, 4427.0210473879615, 33436.214336519246, 335503.39951685874, 157770.98622213656, 335503.39951685874, 119589.39071362968, 906.8739962144019, 906.8740048536564, 274.5678145395982, 247.2097740747787, 152.47343926026522, 152.47343926026522, 157770.98622213656, 125323.1734159855, 141295.72404811153, 3.985400184884731, 3.301399495100069, 3.1934299678185054, 3.1906868828962165, 3.1906868828962165, 3.206466241658787, 3.1882945813395276, 3.1882961845489506, 3.1882961845489506, 3.188379760314767, 3.18842406311851, 3.1887441044907683, 3.189445347166173, 3.189445347166173, 3.189445347166173, 3.18921993374982, 3.189223416436484, 3.1899447303803825, 3.1899560481306994, 19122.227302421128, 1012.2336314173972, 3.284933771208865, 3.198275908560272, 3.198275908560272, 31301.261259905117, 31301.261196267526, 31301.261144592943, 31301.261161984272, 1024.721961737373, 41740.51582243713, 61875.776904678634, 326.28673597362086, 174.48884732122653, 87048.89065943721, 21916.269705372895, 2236.49633802668, 208.08839587191306, 297.2772211304062, 150.92176541522238, 26468.599994555807, 15734.814140501323, 15727.348394255449, 13549.36690236787, 63244.2538861313, 2689.2193090464325, 2089.9105087176445, 1951.2357834077309, 1756.4617239597176, 1632.5906199525045, 1408.0173307758705, 1349.9074302100973, 948.3546098106988, 891.1877492798483, 684.3245074070379, 673.4939560997198, 601.0311036920519, 601.0311036920519, 538.1236197450232, 432.3370905983696, 366.10289202069157, 326.5884703326142, 265.11161834283723, 210.47921542493086, 205.62639873089472, 205.62639878941945, 187.64962539023372, 147.2529759928303, 156.07553353471403, 156.07553353471403, 41740.51582243713, 125323.1734159855, 61875.776904678634, 37011.49741143628], \"Category\": [\"Default\", \"Default\", \"Default\", \"Default\", \"Default\", \"Default\", \"Default\", \"Default\", \"Default\", \"Default\", \"Default\", \"Default\", \"Default\", \"Default\", \"Default\", \"Default\", \"Default\", \"Default\", \"Default\", \"Default\", \"Default\", \"Default\", \"Default\", \"Default\", \"Default\", \"Default\", \"Default\", \"Default\", \"Default\", \"Default\", \"Topic1\", \"Topic1\", \"Topic1\", \"Topic1\", \"Topic1\", \"Topic1\", \"Topic1\", \"Topic1\", \"Topic1\", \"Topic1\", \"Topic1\", \"Topic1\", \"Topic1\", \"Topic1\", \"Topic1\", \"Topic1\", \"Topic1\", \"Topic1\", \"Topic1\", \"Topic1\", \"Topic1\", \"Topic1\", \"Topic1\", \"Topic1\", \"Topic1\", \"Topic1\", \"Topic1\", \"Topic1\", \"Topic1\", \"Topic1\", \"Topic1\", \"Topic1\", \"Topic1\", \"Topic1\", \"Topic2\", \"Topic2\", \"Topic2\", \"Topic2\", \"Topic2\", \"Topic2\", \"Topic2\", \"Topic2\", \"Topic2\", \"Topic2\", \"Topic2\", \"Topic2\", \"Topic2\", \"Topic2\", \"Topic2\", \"Topic2\", \"Topic2\", \"Topic2\", \"Topic2\", \"Topic2\", \"Topic2\", \"Topic2\", \"Topic2\", \"Topic2\", \"Topic2\", \"Topic2\", \"Topic2\", \"Topic2\", \"Topic2\", \"Topic2\", \"Topic2\", \"Topic2\", \"Topic2\", \"Topic2\", \"Topic2\", \"Topic2\", \"Topic2\", \"Topic2\", \"Topic2\", \"Topic2\", \"Topic2\", \"Topic2\", \"Topic2\", \"Topic3\", \"Topic3\", \"Topic3\", \"Topic3\", \"Topic3\", \"Topic3\", \"Topic3\", \"Topic3\", \"Topic3\", \"Topic3\", \"Topic3\", \"Topic3\", \"Topic3\", \"Topic3\", \"Topic3\", \"Topic3\", \"Topic3\", \"Topic3\", \"Topic3\", \"Topic3\", \"Topic3\", \"Topic3\", \"Topic3\", \"Topic3\", \"Topic3\", \"Topic3\", \"Topic3\", \"Topic3\", \"Topic3\", \"Topic3\", \"Topic3\", \"Topic3\", \"Topic3\", \"Topic3\", \"Topic3\", \"Topic3\", \"Topic3\", \"Topic3\", \"Topic3\", \"Topic3\", \"Topic3\", \"Topic3\", \"Topic3\", \"Topic3\", \"Topic3\", \"Topic3\", \"Topic3\", \"Topic3\", \"Topic3\", \"Topic3\", \"Topic3\", \"Topic3\", \"Topic3\", \"Topic4\", \"Topic4\", \"Topic4\", \"Topic4\", \"Topic4\", \"Topic4\", \"Topic4\", \"Topic4\", \"Topic4\", \"Topic4\", \"Topic4\", \"Topic4\", \"Topic4\", \"Topic4\", \"Topic4\", \"Topic4\", \"Topic4\", \"Topic4\", \"Topic4\", \"Topic4\", \"Topic4\", \"Topic4\", \"Topic4\", \"Topic4\", \"Topic4\", \"Topic4\", \"Topic4\", \"Topic4\", \"Topic4\", \"Topic4\", \"Topic4\", \"Topic4\", \"Topic4\", \"Topic4\", \"Topic4\", \"Topic4\", \"Topic4\", \"Topic4\", \"Topic4\", \"Topic4\", \"Topic4\", \"Topic4\", \"Topic4\", \"Topic4\", \"Topic4\", \"Topic4\", \"Topic4\", \"Topic5\", \"Topic5\", \"Topic5\", \"Topic5\", \"Topic5\", \"Topic5\", \"Topic5\", \"Topic5\", \"Topic5\", \"Topic5\", \"Topic5\", \"Topic5\", \"Topic5\", \"Topic5\", \"Topic5\", \"Topic5\", \"Topic5\", \"Topic5\", \"Topic5\", \"Topic5\", \"Topic5\", \"Topic5\", \"Topic5\", \"Topic5\", \"Topic5\", \"Topic5\", \"Topic5\", \"Topic5\", \"Topic5\", \"Topic5\", \"Topic5\", \"Topic5\", \"Topic5\", \"Topic5\", \"Topic5\", \"Topic6\", \"Topic6\", \"Topic6\", \"Topic6\", \"Topic6\", \"Topic6\", \"Topic6\", \"Topic6\", \"Topic6\", \"Topic6\", \"Topic6\", \"Topic6\", \"Topic6\", \"Topic6\", \"Topic6\", \"Topic6\", \"Topic6\", \"Topic6\", \"Topic6\", \"Topic6\", \"Topic6\", \"Topic6\", \"Topic6\", \"Topic6\", \"Topic6\", \"Topic6\", \"Topic6\", \"Topic6\", \"Topic6\", \"Topic6\", \"Topic6\", \"Topic6\", \"Topic6\", \"Topic6\", \"Topic6\", \"Topic7\", \"Topic7\", \"Topic7\", \"Topic7\", \"Topic7\", \"Topic7\", \"Topic7\", \"Topic7\", \"Topic7\", \"Topic7\", \"Topic7\", \"Topic7\", \"Topic7\", \"Topic7\", \"Topic7\", \"Topic7\", \"Topic7\", \"Topic7\", \"Topic7\", \"Topic7\", \"Topic7\", \"Topic7\", \"Topic7\", \"Topic7\", \"Topic7\", \"Topic7\", \"Topic7\", \"Topic7\", \"Topic7\", \"Topic7\", \"Topic7\", \"Topic7\", \"Topic7\", \"Topic7\", \"Topic7\", \"Topic8\", \"Topic8\", \"Topic8\", \"Topic8\", \"Topic8\", \"Topic8\", \"Topic8\", \"Topic8\", \"Topic8\", \"Topic8\", \"Topic8\", \"Topic8\", \"Topic8\", \"Topic8\", \"Topic8\", \"Topic8\", \"Topic8\", \"Topic8\", \"Topic8\", \"Topic8\", \"Topic8\", \"Topic8\", \"Topic8\", \"Topic8\", \"Topic8\", \"Topic8\", \"Topic8\", \"Topic8\", \"Topic8\", \"Topic8\", \"Topic8\", \"Topic8\", \"Topic8\", \"Topic8\", \"Topic8\", \"Topic8\", \"Topic8\", \"Topic8\", \"Topic8\", \"Topic8\", \"Topic8\", \"Topic8\", \"Topic8\", \"Topic8\", \"Topic8\", \"Topic8\", \"Topic9\", \"Topic9\", \"Topic9\", \"Topic9\", \"Topic9\", \"Topic9\", \"Topic9\", \"Topic9\", \"Topic9\", \"Topic9\", \"Topic9\", \"Topic9\", \"Topic9\", \"Topic9\", \"Topic9\", \"Topic9\", \"Topic9\", \"Topic9\", \"Topic9\", \"Topic9\", \"Topic9\", \"Topic9\", \"Topic9\", \"Topic9\", \"Topic9\", \"Topic9\", \"Topic9\", \"Topic9\", \"Topic9\", \"Topic9\", \"Topic9\", \"Topic9\", \"Topic9\", \"Topic9\", \"Topic9\", \"Topic9\", \"Topic9\", \"Topic9\", \"Topic9\", \"Topic9\", \"Topic9\", \"Topic9\", \"Topic9\", \"Topic9\", \"Topic9\", \"Topic9\", \"Topic9\", \"Topic9\", \"Topic9\", \"Topic9\", \"Topic10\", \"Topic10\", \"Topic10\", \"Topic10\", \"Topic10\", \"Topic10\", \"Topic10\", \"Topic10\", \"Topic10\", \"Topic10\", \"Topic10\", \"Topic10\", \"Topic10\", \"Topic10\", \"Topic10\", \"Topic10\", \"Topic10\", \"Topic10\", \"Topic10\", \"Topic10\", \"Topic10\", \"Topic10\", \"Topic10\", \"Topic10\", \"Topic10\", \"Topic10\", \"Topic10\", \"Topic10\", \"Topic10\", \"Topic10\", \"Topic10\", \"Topic10\", \"Topic10\", \"Topic10\"], \"logprob\": [30.0, 29.0, 28.0, 27.0, 26.0, 25.0, 24.0, 23.0, 22.0, 21.0, 20.0, 19.0, 18.0, 17.0, 16.0, 15.0, 14.0, 13.0, 12.0, 11.0, 10.0, 9.0, 8.0, 7.0, 6.0, 5.0, 4.0, 3.0, 2.0, 1.0, -2.317, -2.4414, -2.6102, -3.3786, -3.3786, -3.5698, -4.4375, -4.4379, -4.4379, -4.4289, -4.635, -2.9856, -7.2453, -7.9539, -1.0555, -11.9029, -12.3407, -12.443, -12.443, -11.4504, -3.8418, -12.9358, -12.9358, -2.3643, -3.7079, -13.0557, -13.0574, -4.808, -4.8313, -4.8313, -3.7592, -9.0777, -12.7746, -12.9194, -3.0164, -3.0235, -3.0235, -3.0235, -3.0235, -3.3421, -3.3421, -3.6094, -3.627, -3.6274, -3.6274, -3.6762, -3.6762, -3.6821, -3.6947, -3.7034, -3.7143, -2.9578, -5.0968, -5.8289, -6.2462, -6.4356, -6.6222, -6.6838, -6.8196, -6.8595, -7.2519, -7.408, -7.4586, -7.767, -5.6746, -3.7084, -3.7084, -3.7124, -2.5399, -3.2284, -3.8299, -3.191, -3.3338, -3.6737, -4.8185, -4.2396, -4.6166, -0.6684, -1.0141, -6.3191, -6.3697, -6.4892, -11.0842, -2.8805, -13.3694, -2.8391, -13.3288, -13.6295, -13.6556, -13.6556, -13.6556, -13.6556, -13.6556, -13.6553, -13.6553, -13.6553, -13.6556, -13.6554, -13.6557, -13.6557, -13.6557, -13.6557, -13.6557, -13.6557, -13.6556, -13.6556, -13.6557, -5.3445, -13.6238, -12.9769, -13.316, -12.1728, -13.6537, -12.2706, -12.3517, -12.4847, -13.6257, -12.9055, -13.6555, -13.0662, -13.2678, -13.6554, -13.6022, -13.6026, -13.6103, -13.6172, -13.6229, -13.626, -13.6275, -13.6294, -0.992, -1.0002, -4.2584, -4.5675, -6.1636, -6.731, -7.6327, -7.856, -10.8835, -10.8835, -10.895, -10.9447, -1.4784, -11.2154, -13.0599, -13.0637, -12.8816, -13.1476, -13.1888, -13.1948, -13.1948, -13.1948, -13.1952, -13.1952, -13.1952, -13.1952, -13.1952, -13.1952, -13.195, -13.1953, -5.5309, -10.4439, -10.2908, -13.1131, -12.5687, -12.7841, -12.7841, -13.0304, -13.0571, -13.0716, -13.0344, -13.043, -13.043, -13.043, -13.0431, -13.0443, -13.048, -1.9699, -1.9699, -1.9699, -4.1721, -4.6675, -4.3891, -4.7179, -4.7245, -4.7245, -5.6502, -6.9349, -7.4228, -7.9802, -8.4408, -8.4408, -8.5519, -9.0166, -9.0166, -9.4873, -2.1249, -2.2015, -6.0171, -6.233, -3.6102, -2.1903, -2.4551, -3.6733, -4.5613, -13.9131, -13.9135, -7.0616, -4.7421, -5.5555, -6.089, -8.4331, -1.8345, -1.9173, -1.9427, -2.8612, -2.8991, -1.8282, -3.8104, -3.8178, -5.5269, -5.5269, -6.1589, -6.4991, -6.2555, -6.5535, -6.6135, -6.9404, -7.0953, -7.3495, -7.6822, -8.0349, -2.2716, -5.8092, -11.1286, -11.1286, -2.2459, -12.5836, -12.8348, -12.8348, -12.8331, -12.839, -7.4653, -10.1072, -11.0706, -11.0872, -11.0649, -1.3733, -3.2466, -3.1761, -3.2089, -4.3948, -4.6457, -5.6359, -6.0125, -6.0137, -6.0147, -6.478, -7.495, -8.1086, -4.1175, -1.59, -2.6988, -1.8986, -3.4133, -11.098, -3.4456, -12.1147, -3.4409, -12.5023, -3.9193, -12.9928, -14.5314, -14.6491, -14.6608, -14.6604, -14.6633, -3.9071, -5.3724, -6.2047, -4.6561, -10.7189, -1.2831, -3.4895, -3.4897, -3.763, -5.5877, -6.5973, -7.8152, -6.7681, -1.1084, -3.0822, -1.6475, -3.3312, -4.3486, -5.4644, -13.5214, -14.8968, -14.9371, -14.9551, -14.9919, -14.9943, -14.9943, -14.9943, -14.9943, -14.9943, -14.9942, -14.9941, -14.9941, -14.9941, -14.9941, -14.994, -4.5598, -14.9632, -14.9495, -14.9495, -13.7642, -14.9821, -14.8329, -14.8675, -14.9599, -14.9849, -14.9782, -14.8559, -14.8973, -14.9172, -14.9422, -14.9601, -0.8681, -1.8997, -6.7841, -6.7841, -7.9851, -8.091, -8.5804, -8.5804, -1.6907, -1.9732, -2.2745, -13.4002, -13.7732, -13.8242, -13.8273, -13.8273, -13.8238, -13.8304, -13.8304, -13.8304, -13.8304, -13.8304, -13.8304, -13.8302, -13.8302, -13.8302, -13.8303, -13.8305, -13.8305, -13.8305, -7.1088, -13.305, -13.8284, -13.8304, -13.8304, -13.6907, -13.6907, -13.6907, -13.6908, -13.7338, -13.7064, -13.7151, -13.7685, -13.7761, -13.7317, -13.7531, -13.7807, -13.7913, -13.7914, -13.7926, -1.9665, -2.4867, -2.4872, -2.6363, -1.0956, -4.2543, -4.5067, -4.5755, -4.6808, -4.7541, -4.9024, -4.9446, -5.2986, -5.361, -5.6262, -5.6422, -5.7566, -5.7566, -5.8677, -6.088, -6.2556, -6.3708, -6.5816, -6.8153, -6.839, -6.839, -6.9344, -7.1788, -7.1212, -7.1212, -2.9536, -2.5881, -3.0894, -5.8265], \"loglift\": [30.0, 29.0, 28.0, 27.0, 26.0, 25.0, 24.0, 23.0, 22.0, 21.0, 20.0, 19.0, 18.0, 17.0, 16.0, 15.0, 14.0, 13.0, 12.0, 11.0, 10.0, 9.0, 8.0, 7.0, 6.0, 5.0, 4.0, 3.0, 2.0, 1.0, 2.7866, 2.7866, 2.7866, 2.7864, 2.7864, 2.7863, 2.7857, 2.7857, 2.7857, 2.7856, 2.7854, 2.785, 2.7685, 2.7501, 2.6014, 1.6593, 1.3586, 1.2816, 1.2816, 1.0423, 0.9591, 0.9241, 0.9241, 0.9023, 0.8983, 0.8009, 0.795, 0.5425, 0.5181, 0.5181, -0.0083, -3.8111, -8.6822, -8.1736, 1.7503, 1.7503, 1.7503, 1.7503, 1.7503, 1.7503, 1.7503, 1.7502, 1.7502, 1.7502, 1.7502, 1.7502, 1.7502, 1.7502, 1.7502, 1.7502, 1.7502, 1.75, 1.7497, 1.7489, 1.7481, 1.7476, 1.747, 1.7468, 1.7463, 1.7461, 1.7441, 1.743, 1.7426, 1.7399, 1.7379, 1.641, 1.641, 1.6382, 1.5524, 1.5725, 1.5559, 1.295, 0.8808, 0.0773, 0.4481, -1.0833, -1.35, 2.2311, 2.2311, 2.2274, 2.2272, 2.2267, 1.8628, 1.7258, 0.5486, 0.4275, 0.4138, 0.3158, 0.3101, 0.3101, 0.3101, 0.3101, 0.3101, 0.3101, 0.3101, 0.3101, 0.31, 0.31, 0.3098, 0.3095, 0.3095, 0.3095, 0.3095, 0.3094, 0.3094, 0.3094, 0.3091, -0.0779, 0.3071, -0.4842, -0.288, -3.3283, 0.3025, -5.5409, -5.4052, -7.0989, 0.0736, -9.1545, 0.3086, -9.9099, -9.1974, 0.3035, -7.7827, -7.8159, -8.7867, -9.1625, -8.4927, -4.2886, -5.4345, -3.521, 2.5788, 2.5788, 2.5781, 2.5779, 2.5743, 2.5709, 2.5594, 2.5534, 2.1474, 2.1474, 2.142, 2.038, 1.7187, 1.2773, 0.8811, 0.8768, 0.861, 0.7832, 0.7724, 0.7706, 0.7706, 0.7706, 0.7705, 0.7705, 0.7705, 0.7705, 0.7705, 0.7704, 0.7704, 0.7701, -0.2643, -1.5994, -5.583, 0.5862, -2.6781, -2.7092, -2.7092, -2.922, -3.7196, -4.8786, -8.5485, -8.2692, -8.2692, -8.2693, -8.2693, -8.9519, -7.9178, 2.5586, 2.5586, 2.5586, 2.5576, 2.5575, 2.5574, 2.5573, 2.5573, 2.5573, 2.5551, 2.5463, 2.5405, 2.5277, 2.51, 2.51, 2.5043, 2.4737, 2.4737, 2.426, 2.3298, 2.0132, 2.0048, 1.9601, 1.6564, 1.5544, 1.2959, 1.0726, 0.8245, 0.0018, 0.0013, -0.3877, -0.6498, -2.3992, -2.8224, -3.6321, 3.1875, 3.1875, 3.1875, 3.1873, 3.1873, 3.1871, 3.1868, 3.1868, 3.183, 3.183, 3.1786, 3.1756, 3.1751, 3.1749, 3.1737, 3.168, 3.1659, 3.1597, 3.1489, 3.1329, 2.4169, 2.3838, 2.3786, 2.3786, 1.4109, 1.3435, 1.1278, 1.1278, 1.1232, 1.1215, -3.0106, -6.0368, -5.2512, -5.3005, -6.3571, 2.611, 2.6108, 2.6106, 2.6106, 2.6101, 2.6099, 2.6079, 2.6065, 2.6065, 2.6064, 2.6037, 2.591, 2.5742, 2.5564, 2.1548, 1.9897, 1.8524, 1.4103, 1.3947, 1.3002, 1.121, 1.0137, 0.8904, 0.5667, 0.0352, -0.5801, -0.6891, -0.6957, -0.6959, -0.6981, -0.7348, -0.7662, -0.9381, -1.3895, -6.6484, 2.0997, 2.0995, 2.0995, 2.0994, 2.0979, 2.0948, 2.0832, 2.0764, 2.0638, 1.7414, 1.5496, 1.4146, 0.2576, -0.1978, -0.4934, -0.9535, -0.9918, -0.9951, -1.0272, -1.0286, -1.0286, -1.0286, -1.0286, -1.0286, -1.0287, -1.0287, -1.0287, -1.0287, -1.0287, -1.0289, -1.2932, -1.0323, -1.0346, -1.0348, -1.2715, -1.0416, -1.5971, -1.4747, -1.2606, -1.1325, -1.4161, -6.834, -8.1676, -10.2094, -12.5403, -11.8038, 1.5337, 1.5337, 1.5311, 1.5311, 1.5249, 1.5239, 1.5178, 1.5178, 1.4656, 1.4133, 0.9921, 0.3424, 0.1576, 0.14, 0.1376, 0.1376, 0.1362, 0.1353, 0.1353, 0.1353, 0.1353, 0.1352, 0.1352, 0.1352, 0.1352, 0.1352, 0.1351, 0.135, 0.1347, 0.1347, -1.8422, -5.0997, 0.1074, 0.1322, 0.1322, -8.9169, -8.9169, -8.917, -8.917, -5.5408, -9.2204, -9.6228, -4.4311, -3.8128, -9.9807, -8.6229, -6.3682, -4.0041, -4.3609, -3.6841, 2.9749, 2.9749, 2.9749, 2.9748, 2.9748, 2.9739, 2.9736, 2.9735, 2.9733, 2.9732, 2.9729, 2.9728, 2.9718, 2.9716, 2.9706, 2.9705, 2.97, 2.97, 2.9694, 2.968, 2.9667, 2.9657, 2.9635, 2.9605, 2.9602, 2.9602, 2.9563, 2.9542, 2.9537, 2.9537, 1.5323, 0.7984, 1.003, -1.2203]}, \"token.table\": {\"Topic\": [1, 2, 4, 9, 4, 5, 9, 4, 9, 1, 4, 9, 2, 4, 9, 4, 7, 9, 1, 2, 4, 9, 2, 4, 9, 2, 4, 9, 4, 5, 9, 4, 9, 10, 4, 9, 4, 9, 4, 9, 4, 9, 10, 4, 9, 10, 4, 5, 9, 4, 9, 4, 9, 4, 8, 9, 4, 5, 9, 3, 4, 9, 1, 2, 4, 5, 9, 4, 9, 4, 9, 1, 4, 6, 9, 4, 9, 10, 2, 4, 9, 4, 6, 9, 4, 9, 10, 1, 4, 9, 1, 4, 9, 4, 9, 10, 3, 4, 9, 4, 9, 10, 1, 2, 4, 9, 4, 9, 1, 4, 9, 4, 8, 9, 4, 9, 10, 4, 9, 10, 3, 4, 9, 4, 6, 9, 3, 4, 9, 4, 9, 3, 4, 9, 4, 9, 2, 4, 9, 4, 9, 1, 4, 9, 1, 4, 9, 1, 4, 9, 4, 6, 9, 2, 4, 9, 3, 4, 9, 4, 9, 10, 1, 2, 3, 4, 5, 7, 9, 1, 4, 9, 1, 2, 4, 5, 9, 10, 4, 9, 1, 4, 9, 4, 7, 9, 4, 6, 9, 4, 9, 4, 9, 4, 8, 9, 2, 3, 4, 5, 9, 4, 9, 10, 4, 9, 10, 4, 5, 9, 4, 9, 10, 2, 4, 9, 4, 9, 4, 6, 9, 4, 7, 9, 10, 4, 5, 6, 9, 4, 6, 9, 10, 2, 4, 9, 2, 4, 9, 4, 9, 10, 1, 4, 9, 4, 6, 9, 4, 9, 3, 4, 9, 4, 9, 10, 4, 9, 10, 2, 4, 9, 4, 6, 7, 9, 2, 4, 9, 4, 6, 9, 4, 9, 1, 4, 9, 1, 4, 9, 4, 9, 10, 2, 4, 5, 9, 10, 2, 4, 7, 9, 10, 4, 9, 10, 3, 4, 8, 9, 4, 9, 4, 9, 2, 4, 9, 2, 4, 9, 4, 7, 9, 4, 9, 1, 4, 9, 2, 4, 9, 4, 5, 9, 2, 4, 9, 4, 5, 9, 4, 9, 2, 4, 9, 4, 9, 4, 9, 10, 1, 4, 9, 2, 4, 9, 4, 9, 10, 4, 5, 9, 4, 7, 9, 4, 6, 7, 9, 4, 8, 9, 4, 6, 7, 8, 9, 2, 4, 9, 4, 9, 1, 4, 9, 4, 7, 9, 4, 9, 4, 9, 4, 8, 9, 4, 9, 2, 4, 9, 4, 9, 1, 2, 3, 4, 5, 7, 8, 9, 4, 9, 4, 6, 9, 4, 9, 10, 4, 9, 2, 4, 9, 4, 6, 9, 2, 4, 9, 1, 2, 3, 4, 7, 8, 9, 10, 2, 4, 9, 4, 9, 4, 7, 9, 4, 9, 10, 1, 4, 9, 2, 4, 9, 4, 9, 4, 7, 9, 10, 4, 6, 9, 4, 9, 4, 8, 9, 4, 9, 10, 4, 7, 9, 4, 5, 9, 1, 4, 5, 9, 4, 7, 9, 4, 9, 4, 9, 4, 9, 4, 7, 9, 3, 4, 5, 9, 4, 7, 8, 9, 4, 9, 10, 4, 9, 10, 4, 8, 9, 2, 4, 9, 3, 4, 6, 7, 9, 10, 4, 5, 9, 4, 9, 4, 9, 4, 9, 4, 8, 9, 4, 9, 4, 5, 9, 4, 9, 10, 4, 6, 9, 4, 6, 9, 4, 9, 4, 9, 4, 5, 6, 7, 9, 4, 9, 10, 1, 4, 5, 9, 4, 7, 9, 4, 5, 7, 9, 1, 4, 9, 4, 9, 2, 4, 9, 4, 5, 9, 2, 4, 9, 2, 4, 9, 4, 9, 4, 9, 1, 4, 5, 7, 8, 9, 4, 9, 4, 9, 10, 4, 5, 6, 9, 1, 4, 5, 9, 4, 9, 4, 6, 9, 4, 9, 10, 4, 9, 4, 6, 9, 4, 9, 4, 6, 9, 2, 3, 4, 7, 8, 9, 4, 9, 10, 4, 9, 4, 9, 4, 6, 9, 4, 9, 2, 4, 5, 9, 4, 9, 10, 4, 6, 9, 4, 7, 9, 4, 6, 9, 4, 5, 9, 4, 6, 9, 4, 9, 2, 4, 5, 9, 2, 4, 9, 4, 9, 2, 4, 9, 2, 3, 4, 5, 9, 4, 5, 9, 3, 4, 5, 9, 1, 2, 3, 4, 5, 6, 7, 8, 9, 4, 6, 7, 9, 1, 4, 9, 2, 4, 6, 9, 4, 9, 4, 9, 4, 9, 3, 4, 9, 1, 4, 9, 4, 5, 9, 4, 9, 4, 5, 7, 9, 4, 6, 9, 4, 6, 9, 1, 2, 3, 4, 7, 9], \"Freq\": [0.10344946720221046, 0.8963916216275007, 5.680915277441541e-05, 5.680915277441541e-05, 2.499728350872182e-05, 0.9999163376323815, 2.499728350872182e-05, 0.9999752580030378, 9.593008998494224e-06, 0.9989675806773521, 0.00036998799284346375, 0.00036998799284346375, 0.9998190687174493, 6.373958107340618e-05, 6.373958107340618e-05, 9.440998313908071e-05, 0.9997073114597256, 9.440998313908071e-05, 0.10601356992896116, 0.8938354425984729, 5.687423279450706e-05, 5.687423279450706e-05, 0.9975339296407202, 0.0007999470165523017, 0.0007999470165523017, 0.9998427731444888, 5.739296097494339e-05, 5.739296097494339e-05, 0.026387447419748453, 0.9235606596911958, 0.026387447419748453, 3.7780615529558984e-05, 3.7780615529558984e-05, 0.9999017706053082, 0.3044201404498932, 0.3044201404498932, 0.3136471463492562, 0.3136471463492562, 0.31355595686593873, 0.31355595686593873, 0.006407154134620221, 0.006407154134620221, 0.9802945825968938, 6.355334045071468e-05, 6.355334045071468e-05, 0.9998211519706433, 2.499728350872182e-05, 0.9999163376323815, 2.499728350872182e-05, 0.615778021135179, 0.12315560422703581, 0.31348530956396636, 0.31348530956396636, 7.949655772729958e-06, 0.9999713003401559, 7.949655772729958e-06, 0.01538509232115388, 0.9538757239115406, 0.01538509232115388, 0.9958850395169149, 0.0016460909744081239, 0.0016460909744081239, 0.16078617327816896, 0.8370860389124762, 3.282690348676377e-05, 0.002035268016179354, 3.282690348676377e-05, 0.9908611016595695, 0.0029577943333121475, 0.30669935193241366, 0.30669935193241366, 0.8307759517765668, 1.0455535651244266e-05, 0.16920193344408596, 1.0455535651244266e-05, 0.0007102185307967497, 0.0007102185307967497, 0.9978570357694334, 0.999807331145419, 5.8437508395898e-05, 5.8437508395898e-05, 0.00306478900227451, 0.9899268477346668, 0.00306478900227451, 0.006407154134620221, 0.006407154134620221, 0.9802945825968938, 0.24643699520202977, 0.24643699520202977, 0.24643699520202977, 0.2821487031530001, 0.2821487031530001, 0.2821487031530001, 0.0005124957262999516, 0.0005124957262999516, 0.9983416748323056, 0.9963896749558363, 0.0013896648186273867, 0.0013896648186273867, 0.005329080715830969, 0.005329080715830969, 0.9805508517128984, 0.10344946721690658, 0.8963916217548429, 5.6809152782485764e-05, 5.6809152782485764e-05, 0.313483943011063, 0.313483943011063, 0.9998209394178157, 5.9566335383843654e-05, 5.9566335383843654e-05, 0.0016074194413634565, 0.9949926342039795, 0.0016074194413634565, 0.0037719961360079637, 0.0037719961360079637, 0.9882629876340865, 0.006791034227034499, 0.006791034227034499, 0.9779089286929679, 0.9999800478531818, 6.927948232320783e-06, 6.927948232320783e-06, 0.19829508394360554, 0.3965901678872111, 0.19829508394360554, 0.9966968514773616, 0.0014614323335445185, 0.0014614323335445185, 0.30915741422258186, 0.30915741422258186, 0.2990541130186701, 0.2990541130186701, 0.2990541130186701, 0.31068705603499636, 0.31068705603499636, 0.9999159340457693, 3.1722214842351746e-05, 3.1722214842351746e-05, 0.28005055397292905, 0.28005055397292905, 0.9998383405195888, 5.031645818124849e-05, 5.031645818124849e-05, 0.9986425229909157, 0.00045065095802839157, 0.00045065095802839157, 0.9994803493085311, 0.00015546435671310175, 0.00015546435671310175, 0.004294255988384828, 0.9876788773285105, 0.004294255988384828, 0.9998224352136087, 6.250062106730066e-05, 6.250062106730066e-05, 0.6794688618954623, 0.11324481031591038, 0.11324481031591038, 0.0006125234261293821, 0.0006125234261293821, 0.9984131845908928, 0.061115080958510114, 0.1876646546124476, 1.1487797172652278e-05, 1.1487797172652278e-05, 0.2828870053765623, 0.4683000517431701, 1.1487797172652278e-05, 0.9615799396922664, 0.01201974924615333, 0.01201974924615333, 1.6161413238342494e-05, 0.8203694973915033, 1.6161413238342494e-05, 0.04041969450909458, 1.6161413238342494e-05, 0.1391659293953672, 0.31266845906679686, 0.31266845906679686, 0.9989727748538706, 0.0003701270006868732, 0.0003701270006868732, 0.006478557649737984, 0.9782622051104356, 0.006478557649737984, 4.448228269349613e-05, 0.9998727503844059, 4.448228269349613e-05, 0.006558519338525876, 0.9837779007788814, 0.30290184556101074, 0.30290184556101074, 0.005370545678298789, 0.9828098591286784, 0.005370545678298789, 0.82323255893932, 0.00011783189850988622, 5.891594925494311e-05, 0.1765710999170645, 5.891594925494311e-05, 0.001858309063768332, 0.001858309063768332, 0.9941953491160576, 0.000371855131575189, 0.000371855131575189, 0.9988028834109577, 0.0009879142215416545, 0.9968054495355294, 0.0009879142215416545, 7.97937023730398e-06, 0.8865638889561333, 0.11341876855303877, 0.9963434769723795, 0.001163952660014462, 0.001163952660014462, 0.615778021135179, 0.12315560422703581, 0.00011429787773279966, 0.9996492386510658, 0.00011429787773279966, 0.17684750459749088, 0.17684750459749088, 0.17684750459749088, 0.35369500919498176, 0.0033638635217238234, 0.0033638635217238234, 0.9889758753868041, 0.0033638635217238234, 4.067273660997017e-05, 0.999451156716797, 4.067273660997017e-05, 0.00044740010270967186, 0.9972549730800204, 0.0009663323382558338, 0.0009663323382558338, 0.999807331145419, 5.8437508395898e-05, 5.8437508395898e-05, 7.380418636572911e-05, 7.380418636572911e-05, 0.9997515085101665, 0.9998796788795105, 4.4431197959452116e-05, 4.4431197959452116e-05, 0.004531178248891191, 0.9877968582582797, 0.004531178248891191, 0.3136030886240389, 0.3136030886240389, 0.9999863437622024, 4.903215787404459e-06, 4.903215787404459e-06, 0.003061957450554055, 0.003061957450554055, 0.9920742139795139, 0.0016638074034058081, 0.0016638074034058081, 0.9949568272366733, 0.9922842783342888, 0.0026746206963188376, 0.0026746206963188376, 2.9335154091482043e-05, 0.4627033854849463, 0.5372146768773106, 2.9335154091482043e-05, 0.9998958137192174, 3.194759453381102e-05, 3.194759453381102e-05, 0.009891743945353214, 0.969390906644615, 0.009891743945353214, 0.30730917321309403, 0.30730917321309403, 0.2821487031530001, 0.2821487031530001, 0.2821487031530001, 0.24643699520202977, 0.24643699520202977, 0.24643699520202977, 0.0023130099677914867, 0.0023130099677914867, 0.9922812761825478, 0.4191285583990825, 1.8265069874017626e-05, 0.5795871972423273, 1.8265069874017626e-05, 0.0012237596815591809, 0.6341799922312129, 2.3957538144808014e-05, 0.1294665361345425, 2.3957538144808014e-05, 0.23629319872224142, 0.0027314725499176925, 0.0027314725499176925, 0.9915245356201223, 0.003744317746424134, 0.014977270985696536, 0.977266931816699, 0.001872158873212067, 0.3120141789697147, 0.3120141789697147, 0.3136473040643129, 0.3136473040643129, 0.9998359982065269, 5.84152838400635e-05, 5.84152838400635e-05, 0.9998458550116237, 6.13552930174045e-05, 6.13552930174045e-05, 1.4506444983754412e-05, 0.9999582656201591, 1.4506444983754412e-05, 0.0036420874809264285, 0.9906477948119885, 0.98252115899962, 0.00602773717177681, 0.00602773717177681, 0.9951250830019969, 0.0014742593822251807, 0.0014742593822251807, 0.017095441342980487, 0.9402492738639268, 0.017095441342980487, 0.9985346961001091, 0.0005274879535658262, 0.0005274879535658262, 0.0035386504790550534, 0.98728348365636, 0.0035386504790550534, 0.31348505523503406, 0.31348505523503406, 0.9960608988814531, 0.0014168718334017826, 0.0014168718334017826, 0.979788700092234, 0.007204328677148779, 0.0014847943191518955, 0.0014847943191518955, 0.99481219383177, 0.9995721196428711, 0.00012841368443510675, 0.00012841368443510675, 0.9991461052131574, 0.00025384809583667615, 0.00025384809583667615, 0.0016638074034058081, 0.0016638074034058081, 0.9949568272366733, 0.00037066269636216087, 0.9989359666960236, 0.00037066269636216087, 0.0002974615624472647, 0.9991733882603622, 0.0002974615624472647, 9.090245936884107e-05, 0.00018180491873768213, 0.9995634432197764, 9.090245936884107e-05, 7.21891945019977e-05, 0.9997481546581662, 7.21891945019977e-05, 3.3579949439333534e-05, 6.715989887866707e-05, 0.3009770868247465, 0.6988659077314096, 3.3579949439333534e-05, 0.9920142475983655, 0.002543626275893245, 0.002543626275893245, 0.2981152583178957, 0.2981152583178957, 0.41897416574776364, 0.20948708287388182, 0.20948708287388182, 0.011767113458082007, 0.9649033035627246, 0.011767113458082007, 0.3136345668593178, 0.3136345668593178, 0.31266845906679686, 0.31266845906679686, 7.220315282569845e-05, 0.9997970571774466, 7.220315282569845e-05, 0.3132621752338714, 0.3132621752338714, 0.9998837218282721, 4.393355252112448e-05, 4.393355252112448e-05, 0.006558519338525876, 0.9837779007788814, 0.001359674246561647, 0.2718825541490001, 0.09936081032565881, 0.058256811948833635, 0.4056535819453344, 0.02876233983111176, 0.10051130391890328, 0.034201036817358345, 0.31355629927479484, 0.31355629927479484, 4.562820285766261e-05, 0.9998508092199607, 4.562820285766261e-05, 0.5868061399905954, 0.11736122799811909, 0.11736122799811909, 0.31314292471649835, 0.31314292471649835, 0.9998374858231145, 6.171836332241447e-05, 6.171836332241447e-05, 0.019112590860944842, 0.9556295430472421, 0.019112590860944842, 0.9911875549884268, 0.003630723644646252, 0.003630723644646252, 0.15130433491376769, 0.03769099057226891, 0.6032719982061794, 2.701863123460137e-05, 0.03415154988053613, 0.15849129082217164, 2.701863123460137e-05, 0.015076396228907565, 0.9998958142747706, 3.1947594551561464e-05, 3.1947594551561464e-05, 0.2812398639847274, 0.2812398639847274, 0.0023732868905185704, 0.9920339202367625, 0.0023732868905185704, 6.358350911621305e-05, 6.358350911621305e-05, 0.999787097343334, 0.9989727748398629, 0.0003701270006816832, 0.0003701270006816832, 0.9998458554560334, 6.135529304467559e-05, 6.135529304467559e-05, 0.0040451475017226025, 0.9910611379220376, 0.15115008400942664, 0.15115008400942664, 0.15115008400942664, 0.3023001680188533, 0.00029515520842647537, 0.9991003805236192, 0.00029515520842647537, 0.6195313852682167, 0.12390627705364335, 9.489267944261941e-05, 0.9996943779279954, 9.489267944261941e-05, 0.004751062939783041, 0.004751062939783041, 0.9834700285350895, 0.0014940834987074425, 0.9950596101391568, 0.0014940834987074425, 0.04027896981972791, 0.886137336034014, 0.04027896981972791, 0.00039233479235081933, 0.00039233479235081933, 0.9984920465328353, 0.00039233479235081933, 0.001026680819714449, 0.9969070759427299, 0.001026680819714449, 8.36194577154936e-06, 0.9999800089822733, 0.31363892483788597, 0.31363892483788597, 0.0011026890115362514, 0.9968308664287713, 0.0014973036893505185, 0.9957069534180948, 0.0014973036893505185, 0.0005611451658729674, 0.0002805725829364837, 0.998838395253882, 0.0002805725829364837, 6.440472044560946e-06, 0.03522938208374837, 0.9647505099150069, 6.440472044560946e-06, 0.004863188802056943, 0.004863188802056943, 0.9872273268175594, 0.0011220980099963009, 0.0011220980099963009, 0.9964230328767151, 0.4231173677531441, 0.5768701921985889, 6.602233959354379e-06, 0.9962618458321135, 0.0012375923550709484, 0.0012375923550709484, 1.5811713136824402e-05, 1.5811713136824402e-05, 9.487027882094641e-05, 9.487027882094641e-05, 1.5811713136824402e-05, 0.99975880992827, 0.01538509232115388, 0.9538757239115406, 0.01538509232115388, 0.3135341387456291, 0.3135341387456291, 0.9991425624553032, 0.00034228933280414634, 0.9999782534012008, 9.672279161600225e-06, 0.000587535623378262, 0.9982230241196672, 0.000587535623378262, 0.3134533018430142, 0.3134533018430142, 0.000389760163414576, 0.9985655386681438, 0.000389760163414576, 0.000478489387860724, 0.000478489387860724, 0.998607352465331, 0.0066259495258934814, 0.9806405298322353, 0.0066259495258934814, 0.00011870938755928771, 0.9996517526367619, 0.00011870938755928771, 0.31186980452433344, 0.31186980452433344, 0.00110268902204092, 0.9968308759249919, 2.3219471651031923e-05, 0.7954758792927027, 0.0020433135052908094, 0.20245057332534735, 2.3219471651031923e-05, 0.004863188803441088, 0.004863188803441088, 0.9872273270985409, 0.00039233479235081933, 0.00039233479235081933, 0.9984920465328353, 0.00039233479235081933, 0.0014958461101766457, 0.9947376632674694, 0.0014958461101766457, 0.0002136261355527987, 0.05255202934598848, 0.9467910327700039, 0.0002136261355527987, 0.9995721194158054, 0.00012841368440593594, 0.00012841368440593594, 0.2980622882511438, 0.2980622882511438, 0.9998389136338414, 6.304949638250986e-05, 6.304949638250986e-05, 0.026387447419748453, 0.9235606596911958, 0.026387447419748453, 0.999895812624064, 3.194759449881986e-05, 3.194759449881986e-05, 0.9998958105912079, 3.194759443386823e-05, 3.194759443386823e-05, 0.3135341387456291, 0.3135341387456291, 0.3059973037147791, 0.3059973037147791, 3.106661443530626e-05, 3.106661443530626e-05, 0.22625815293233548, 0.26959608006958774, 0.5040247525984087, 3.106661443530626e-05, 0.3135341387456291, 0.3135341387456291, 0.0007407915369755107, 0.0007407915369755107, 0.997846200306013, 0.0009758744687237326, 0.5494173258914615, 0.4479263811441933, 0.0009758744687237326, 0.9981951280439858, 8.65662239219483e-05, 0.0015581920305950694, 8.65662239219483e-05, 2.9805957299987086e-06, 0.9999928480102968, 0.3017758205379998, 0.3017758205379998, 0.3017758205379998, 0.0005693263828975609, 0.0005693263828975609, 0.9980291492194242, 0.30584241294394265, 0.30584241294394265, 0.0016364634536611131, 0.9949697798259568, 0.0016364634536611131, 0.3134121387343062, 0.3134121387343062, 0.004805650001817213, 0.9851582503725287, 0.004805650001817213, 0.49119201900679066, 0.12279800475169766, 0.12279800475169766, 0.12279800475169766, 0.12279800475169766, 0.12279800475169766, 0.0014612950276895425, 0.0014612950276895425, 0.9951419138565785, 0.3134121387343062, 0.3134121387343062, 0.9758466628518059, 0.008952721677539502, 0.19829508394360554, 0.3965901678872111, 0.19829508394360554, 0.3136471463492562, 0.3136471463492562, 0.9877056190259892, 0.00044712793980352614, 0.011178198495088153, 0.00044712793980352614, 0.0010544578891218868, 0.0010544578891218868, 0.996462705220183, 0.0016364634536818281, 0.9949697798385515, 0.0016364634536818281, 0.00038219033034756584, 0.9986633331981896, 0.00038219033034756584, 0.007719388550777608, 0.9803623459487563, 0.007719388550777608, 0.00987940718808149, 0.9681819044319859, 0.00987940718808149, 4.094711903056418e-05, 0.9998876996073467, 4.094711903056418e-05, 0.313478143924962, 0.313478143924962, 0.42272340713286005, 0.0008224190800250195, 0.5748709369374886, 0.0008224190800250195, 0.9932883203642332, 0.0021782638604478798, 0.0021782638604478798, 0.31222511366588823, 0.31222511366588823, 0.9998837218282721, 4.393355252112448e-05, 4.393355252112448e-05, 0.058794080091124516, 6.3383010016305005e-06, 6.3383010016305005e-06, 0.007029175810808225, 0.9341641548243096, 0.005731025308219514, 0.9800053277055369, 0.005731025308219514, 0.0004517710619831011, 0.00022588553099155056, 0.9988658180446366, 0.00022588553099155056, 0.151915425216202, 0.04503320990685736, 0.16469712835808228, 7.077355006578243e-06, 0.004600280754275858, 7.077355006578243e-06, 0.018302040047011338, 0.03361035892624008, 0.5818222777357908, 8.797195656752152e-05, 0.00017594391313504305, 0.9995373705201795, 8.797195656752152e-05, 0.24029130490701128, 0.24029130490701128, 0.24029130490701128, 0.9995748820014076, 0.0002990769199932403, 5.9815383998648054e-05, 2.9907691999324027e-05, 0.9962359148364094, 0.0016828309372236645, 0.3115168727263814, 0.3115168727263814, 0.9993939593258309, 0.0002513566296091124, 0.25091583118620314, 0.25091583118620314, 0.25091583118620314, 0.9988142212491343, 0.0003668065447113971, 0.0003668065447113971, 2.499728350872182e-05, 0.9999163376323815, 2.499728350872182e-05, 0.3133419689085418, 0.3133419689085418, 1.1416441659979831e-05, 0.36633077998543284, 0.6336353450122006, 1.1416441659979831e-05, 0.013647507770717757, 0.955325543950243, 0.013647507770717757, 0.00029735010106399055, 0.9990963395750082, 0.00029735010106399055, 0.14380021891515288, 0.07190010945757644, 0.07190010945757644, 0.28760043783030576, 0.28760043783030576, 0.07190010945757644], \"Term\": [\"ATTEMPT\", \"ATTEMPT\", \"ATTEMPT\", \"ATTEMPT\", \"AUTH\", \"AUTH\", \"AUTH\", \"Accepted\", \"Accepted\", \"Address\", \"Address\", \"Address\", \"AllowUsers\", \"AllowUsers\", \"AllowUsers\", \"Authentication\", \"Authentication\", \"Authentication\", \"BREAK\", \"BREAK\", \"BREAK\", \"BREAK\", \"BREAKIN\", \"BREAKIN\", \"BREAKIN\", \"Client\", \"Client\", \"Client\", \"Clients\", \"Clients\", \"Clients\", \"Connection\", \"Connection\", \"Connection\", \"Could\", \"Could\", \"Couldn\", \"Couldn\", \"DEAD\", \"DEAD\", \"Debian\", \"Debian\", \"Debian\", \"Disconnecting\", \"Disconnecting\", \"Disconnecting\", \"ERROR\", \"ERROR\", \"ERROR\", \"Enabling\", \"Enabling\", \"FILE\", \"FILE\", \"Failed\", \"Failed\", \"Failed\", \"Generic\", \"Generic\", \"Generic\", \"Goodbye\", \"Goodbye\", \"Goodbye\", \"HHHHH\", \"HHHHH\", \"HHHHH\", \"HHHHH\", \"HHHHH\", \"HTTP\", \"HTTP\", \"Illegal\", \"Illegal\", \"Invalid\", \"Invalid\", \"Invalid\", \"Invalid\", \"KEXINIT\", \"KEXINIT\", \"KEXINIT\", \"Kerberos\", \"Kerberos\", \"Kerberos\", \"LDAP\", \"LDAP\", \"LDAP\", \"Local\", \"Local\", \"Local\", \"Login\", \"Login\", \"Login\", \"LoginGraceTime\", \"LoginGraceTime\", \"LoginGraceTime\", \"NEWKEYS\", \"NEWKEYS\", \"NEWKEYS\", \"Normal\", \"Normal\", \"Normal\", \"OpenSSH\", \"OpenSSH\", \"OpenSSH\", \"POSSIBLE\", \"POSSIBLE\", \"POSSIBLE\", \"POSSIBLE\", \"PROCESS\", \"PROCESS\", \"Permission\", \"Permission\", \"Permission\", \"Postponed\", \"Postponed\", \"Postponed\", \"RHOST\", \"RHOST\", \"RHOST\", \"Read\", \"Read\", \"Read\", \"Received\", \"Received\", \"Received\", \"Request\", \"Request\", \"Request\", \"Shutdown\", \"Shutdown\", \"Shutdown\", \"System\", \"System\", \"UNKNOWN\", \"UNKNOWN\", \"UNKNOWN\", \"Unable\", \"Unable\", \"User\", \"User\", \"User\", \"WARNING\", \"WARNING\", \"access\", \"access\", \"access\", \"account\", \"account\", \"account\", \"address\", \"address\", \"address\", \"adsl\", \"adsl\", \"adsl\", \"allow\", \"allow\", \"allow\", \"application\", \"application\", \"application\", \"attempt\", \"attempt\", \"attempt\", \"auth\", \"auth\", \"auth\", \"auth\", \"auth\", \"auth\", \"auth\", \"authenticate\", \"authenticate\", \"authenticate\", \"authentication\", \"authentication\", \"authentication\", \"authentication\", \"authentication\", \"authentication\", \"authorize\", \"authorize\", \"back\", \"back\", \"back\", \"bendcable\", \"bendcable\", \"bendcable\", \"bind\", \"bind\", \"bind\", \"blue\", \"blue\", \"brecklenkamp\", \"brecklenkamp\", \"channel\", \"channel\", \"channel\", \"check\", \"check\", \"check\", \"check\", \"check\", \"child\", \"child\", \"child\", \"cleanup\", \"cleanup\", \"cleanup\", \"client\", \"client\", \"client\", \"close\", \"close\", \"close\", \"comcastbusiness\", \"comcastbusiness\", \"comcastbusiness\", \"compatibility\", \"compatibility\", \"connect\", \"connect\", \"connect\", \"connection\", \"connection\", \"connection\", \"connection\", \"contact\", \"contact\", \"contact\", \"contact\", \"credentials\", \"credentials\", \"credentials\", \"credentials\", \"ctinets\", \"ctinets\", \"ctinets\", \"database\", \"database\", \"database\", \"debug\", \"debug\", \"debug\", \"deny\", \"deny\", \"deny\", \"direct\", \"direct\", \"direct\", \"directory\", \"directory\", \"disconnect\", \"disconnect\", \"disconnect\", \"do\", \"do\", \"do\", \"dupping\", \"dupping\", \"dupping\", \"dyxnet\", \"dyxnet\", \"dyxnet\", \"error\", \"error\", \"error\", \"error\", \"euid\", \"euid\", \"euid\", \"euve\", \"euve\", \"euve\", \"everloo\", \"everloo\", \"exceed\", \"exceed\", \"exceed\", \"existent\", \"existent\", \"existent\", \"expect\", \"expect\", \"expect\", \"fail\", \"fail\", \"fail\", \"fail\", \"fail\", \"failure\", \"failure\", \"failure\", \"failure\", \"failure\", \"fatal\", \"fatal\", \"fatal\", \"ffff\", \"ffff\", \"ffff\", \"ffff\", \"file\", \"file\", \"filetype\", \"filetype\", \"found\", \"found\", \"found\", \"getaddrinfo\", \"getaddrinfo\", \"getaddrinfo\", \"getting\", \"getting\", \"getting\", \"global\", \"global\", \"grant\", \"grant\", \"grant\", \"greendata\", \"greendata\", \"greendata\", \"happy\", \"happy\", \"happy\", \"hinet\", \"hinet\", \"hinet\", \"hmac\", \"hmac\", \"hmac\", \"hofstederj\", \"hofstederj\", \"host\", \"host\", \"host\", \"http\", \"http\", \"identification\", \"identification\", \"identification\", \"ignore\", \"ignore\", \"ignore\", \"illegal\", \"illegal\", \"illegal\", \"inetd\", \"inetd\", \"inetd\", \"info\", \"info\", \"info\", \"information\", \"information\", \"information\", \"input\", \"input\", \"input\", \"input\", \"interactive\", \"interactive\", \"interactive\", \"invalid\", \"invalid\", \"invalid\", \"invalid\", \"invalid\", \"itbe\", \"itbe\", \"itbe\", \"item\", \"item\", \"janus\", \"janus\", \"janus\", \"kanagawa\", \"kanagawa\", \"kanagawa\", \"kernel\", \"kernel\", \"key\", \"key\", \"keyboard\", \"keyboard\", \"keyboard\", \"keytab\", \"keytab\", \"know\", \"know\", \"know\", \"kundencontroller\", \"kundencontroller\", \"kwetal\", \"kwetal\", \"kwetal\", \"kwetal\", \"kwetal\", \"kwetal\", \"kwetal\", \"kwetal\", \"lastlog\", \"lastlog\", \"ldap\", \"ldap\", \"ldap\", \"libssh\", \"libssh\", \"libssh\", \"limit\", \"limit\", \"list\", \"list\", \"list\", \"live\", \"live\", \"live\", \"lmontsouris\", \"lmontsouris\", \"lmontsouris\", \"localhost\", \"localhost\", \"localhost\", \"localhost\", \"localhost\", \"localhost\", \"localhost\", \"localhost\", \"logname\", \"logname\", \"logname\", \"lookup\", \"lookup\", \"mail\", \"mail\", \"mail\", \"many\", \"many\", \"many\", \"map\", \"map\", \"map\", \"mapping\", \"mapping\", \"mapping\", \"masti\", \"masti\", \"method\", \"method\", \"method\", \"method\", \"mobiel\", \"mobiel\", \"mobiel\", \"mode\", \"mode\", \"module\", \"module\", \"module\", \"monitor\", \"monitor\", \"monitor\", \"name\", \"name\", \"name\", \"netio\", \"netio\", \"netio\", \"network\", \"network\", \"network\", \"network\", \"none\", \"none\", \"none\", \"open\", \"open\", \"openseek\", \"openseek\", \"opentecnologia\", \"opentecnologia\", \"pair\", \"pair\", \"pair\", \"pass\", \"pass\", \"pass\", \"pass\", \"password\", \"password\", \"password\", \"password\", \"peer\", \"peer\", \"peer\", \"permanently\", \"permanently\", \"permanently\", \"port\", \"port\", \"port\", \"ppsuc\", \"ppsuc\", \"ppsuc\", \"preauth\", \"preauth\", \"preauth\", \"preauth\", \"preauth\", \"preauth\", \"preauthentication\", \"preauthentication\", \"preauthentication\", \"proc\", \"proc\", \"protocol\", \"protocol\", \"publickey\", \"publickey\", \"qala\", \"qala\", \"qala\", \"reading\", \"reading\", \"realm\", \"realm\", \"realm\", \"receive\", \"receive\", \"receive\", \"reconnecting\", \"reconnecting\", \"reconnecting\", \"refuse\", \"refuse\", \"refuse\", \"reply\", \"reply\", \"repo\", \"repo\", \"request\", \"request\", \"request\", \"request\", \"request\", \"reset\", \"reset\", \"reset\", \"resolve\", \"resolve\", \"resolve\", \"resolve\", \"resolving\", \"resolving\", \"resolving\", \"retrieve\", \"retrieve\", \"retrieve\", \"retrieve\", \"retry\", \"retry\", \"retry\", \"return\", \"return\", \"reverse\", \"reverse\", \"reverse\", \"revoke\", \"revoke\", \"revoke\", \"rhost\", \"rhost\", \"rhost\", \"ruser\", \"ruser\", \"ruser\", \"score\", \"score\", \"script\", \"script\", \"secure\", \"secure\", \"secure\", \"secure\", \"secure\", \"secure\", \"self\", \"self\", \"sent\", \"sent\", \"sent\", \"server\", \"server\", \"server\", \"server\", \"service\", \"service\", \"service\", \"service\", \"session\", \"session\", \"setcred\", \"setcred\", \"setcred\", \"setting\", \"setting\", \"setting\", \"setup\", \"setup\", \"sftp\", \"sftp\", \"sftp\", \"sigpending\", \"sigpending\", \"simple\", \"simple\", \"simple\", \"singraven\", \"singraven\", \"singraven\", \"singraven\", \"singraven\", \"singraven\", \"socket\", \"socket\", \"socket\", \"soft\", \"soft\", \"software\", \"software\", \"sssd\", \"sssd\", \"sssd\", \"stat\", \"stat\", \"static\", \"static\", \"static\", \"static\", \"string\", \"string\", \"string\", \"subsystem\", \"subsystem\", \"subsystem\", \"succeed\", \"succeed\", \"succeed\", \"success\", \"success\", \"success\", \"system\", \"system\", \"system\", \"try\", \"try\", \"try\", \"ttys\", \"ttys\", \"twickel\", \"twickel\", \"twickel\", \"twickel\", \"uahurtado\", \"uahurtado\", \"uahurtado\", \"ubuntu\", \"ubuntu\", \"underlie\", \"underlie\", \"underlie\", \"unix\", \"unix\", \"unix\", \"unix\", \"unix\", \"unixbsd\", \"unixbsd\", \"unixbsd\", \"unknown\", \"unknown\", \"unknown\", \"unknown\", \"user\", \"user\", \"user\", \"user\", \"user\", \"user\", \"user\", \"user\", \"user\", \"userauth\", \"userauth\", \"userauth\", \"userauth\", \"utsp\", \"utsp\", \"utsp\", \"utwente\", \"utwente\", \"utwente\", \"utwente\", \"utwks\", \"utwks\", \"verify\", \"verify\", \"version\", \"version\", \"warmelo\", \"warmelo\", \"warmelo\", \"warning\", \"warning\", \"warning\", \"wbcLogonUser\", \"wbcLogonUser\", \"wbcLogonUser\", \"weleveld\", \"weleveld\", \"winbind\", \"winbind\", \"winbind\", \"winbind\", \"wlan\", \"wlan\", \"wlan\", \"zilver\", \"zilver\", \"zilver\", \"zwolle\", \"zwolle\", \"zwolle\", \"zwolle\", \"zwolle\", \"zwolle\"]}, \"R\": 30, \"lambda.step\": 0.01, \"plot.opts\": {\"xlab\": \"PC1\", \"ylab\": \"PC2\"}, \"topic.order\": [1, 2, 3, 4, 5, 6, 7, 8, 9, 10]};\n",
       "if(typeof(window.LDAvis) !== \"undefined\"){\n",
       "   !function(LDAvis){\n",
       "       new LDAvis(\"#\" + \"ldavis_el1515626550618218081577634026\", ldavis_el1515626550618218081577634026_data);\n",
       "   }(LDAvis);\n",
       "}else{\n",
       "  require.config({paths: {d3: \"https://d3js.org/d3.v5\"}});\n",
       "  require([\"d3\"], function(d3){\n",
       "    window.d3 = d3;\n",
       "    $.getScript(\"https://cdn.jsdelivr.net/gh/bmabey/pyLDAvis/pyLDAvis/js/ldavis.v3.0.0.js\", function(){\n",
       "       new LDAvis(\"#\" + \"ldavis_el1515626550618218081577634026\", ldavis_el1515626550618218081577634026_data);\n",
       "    });\n",
       "  });\n",
       "}\n",
       "</script>"
      ],
      "text/plain": [
       "<IPython.core.display.HTML object>"
      ]
     },
     "execution_count": 38,
     "metadata": {},
     "output_type": "execute_result"
    }
   ],
   "source": [
    "#pyLDAvis.display(display_tfidf5, template_type='notebook')"
   ]
  },
  {
   "cell_type": "code",
   "execution_count": 52,
   "id": "falling-display",
   "metadata": {},
   "outputs": [
    {
     "name": "stderr",
     "output_type": "stream",
     "text": [
      "d:\\program files\\python\\lib\\site-packages\\ipykernel\\ipkernel.py:283: DeprecationWarning: `should_run_async` will not call `transform_cell` automatically in the future. Please pass the result to `transformed_cell` argument and any exception that happen during thetransform in `preprocessing_exc_tuple` in IPython 7.17 and above.\n",
      "  and should_run_async(code)\n"
     ]
    },
    {
     "data": {
      "text/plain": [
       "{'model_tfidf': -5.2562051013475095, 'model_tfidf1': -5.33322428450408}"
      ]
     },
     "execution_count": 52,
     "metadata": {},
     "output_type": "execute_result"
    }
   ],
   "source": [
    "#log_perplexities = {\n",
    "     \"model_tfidf\" : model_tfidf.log_perplexity(corpus_tfidf5[0:1000]),\n",
    "     \"model_tfidf1\" : model_tfidf1.log_perplexity(corpus_tfidf5[0:1000])\n",
    "    };\n",
    "# a measure of how good the model is. lower the better.\n",
    "#log_perplexities"
   ]
  },
  {
   "cell_type": "code",
   "execution_count": 53,
   "id": "dental-american",
   "metadata": {},
   "outputs": [
    {
     "name": "stderr",
     "output_type": "stream",
     "text": [
      "d:\\program files\\python\\lib\\site-packages\\ipykernel\\ipkernel.py:283: DeprecationWarning: `should_run_async` will not call `transform_cell` automatically in the future. Please pass the result to `transformed_cell` argument and any exception that happen during thetransform in `preprocessing_exc_tuple` in IPython 7.17 and above.\n",
      "  and should_run_async(code)\n"
     ]
    }
   ],
   "source": [
    "#from gensim.models.coherencemodel import CoherenceModel\n",
    "#def getCoherence(m,c,d):\n",
    "    #coherence_model_lda = CoherenceModel(model=m,corpus=c, dictionary=d, coherence='u_mass')\n",
    "    #coherence_lda = coherence_model_lda.get_coherence()\n",
    "    #return(coherence_lda)"
   ]
  },
  {
   "cell_type": "code",
   "execution_count": 54,
   "id": "following-lambda",
   "metadata": {},
   "outputs": [
    {
     "name": "stderr",
     "output_type": "stream",
     "text": [
      "d:\\program files\\python\\lib\\site-packages\\ipykernel\\ipkernel.py:283: DeprecationWarning: `should_run_async` will not call `transform_cell` automatically in the future. Please pass the result to `transformed_cell` argument and any exception that happen during thetransform in `preprocessing_exc_tuple` in IPython 7.17 and above.\n",
      "  and should_run_async(code)\n"
     ]
    },
    {
     "data": {
      "text/plain": [
       "{'model_tfidf': -10.293916612201789, 'model_tfidf1': -9.326380414885728}"
      ]
     },
     "execution_count": 54,
     "metadata": {},
     "output_type": "execute_result"
    }
   ],
   "source": [
    "#coherences={\n",
    "   # \"model_tfidf\": getCoherence(model_tfidf,corpus_tfidf5[0:1000],dictionary5),\n",
    "    #\"model_tfidf1\": getCoherence(model_tfidf1,corpus_tfidf5[0:1000],dictionary5)\n",
    "}\n",
    "# a different measure of how good the model is. Higher is better.\n",
    "#coherences"
   ]
  },
  {
   "cell_type": "code",
   "execution_count": null,
   "id": "former-travel",
   "metadata": {},
   "outputs": [],
   "source": []
  }
 ],
 "metadata": {
  "kernelspec": {
   "display_name": "Python 3",
   "language": "python",
   "name": "python3"
  },
  "language_info": {
   "codemirror_mode": {
    "name": "ipython",
    "version": 3
   },
   "file_extension": ".py",
   "mimetype": "text/x-python",
   "name": "python",
   "nbconvert_exporter": "python",
   "pygments_lexer": "ipython3",
   "version": "3.9.1"
  }
 },
 "nbformat": 4,
 "nbformat_minor": 5
}
