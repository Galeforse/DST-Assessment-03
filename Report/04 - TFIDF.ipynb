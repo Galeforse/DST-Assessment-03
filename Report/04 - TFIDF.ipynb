{
 "cells": [
  {
   "cell_type": "markdown",
   "metadata": {},
   "source": [
    "# Tf-idf model"
   ]
  },
  {
   "cell_type": "markdown",
   "metadata": {},
   "source": [
    "In this section we will apply the tf-idf model in corpus_10, and try to find that if it would be better when iterating more times.Then choose a better one to do visualization."
   ]
  },
  {
   "cell_type": "markdown",
   "metadata": {},
   "source": [
    "First we import the packages required."
   ]
  },
  {
   "cell_type": "code",
   "execution_count": 1,
   "metadata": {},
   "outputs": [],
   "source": [
    "from numpy import matrix\n",
    "import gensim\n",
    "from urllib.request import urlopen\n",
    "import pickle\n",
    "import numpy as np\n",
    "import pandas as pd\n",
    "import pyLDAvis.gensim"
   ]
  },
  {
   "cell_type": "markdown",
   "metadata": {},
   "source": [
    "### Reading data using corpus_10"
   ]
  },
  {
   "cell_type": "code",
   "execution_count": 2,
   "metadata": {},
   "outputs": [],
   "source": [
    "corpus10=pickle.load(urlopen('https://github.com/Galeforse/DST-Assessment-03/raw/master/Data/main/corpus_10.pkl'))\n",
    "dictionary10=pickle.load(urlopen('https://github.com/Galeforse/DST-Assessment-03/raw/master/Data/main/dictionary_10.pkl'))"
   ]
  },
  {
   "cell_type": "markdown",
   "metadata": {},
   "source": [
    "For exploring whether the number of topic and iteration would affect the result, we run tf-idf models with different parameters."
   ]
  },
  {
   "cell_type": "code",
   "execution_count": 3,
   "metadata": {},
   "outputs": [],
   "source": [
    "tfidf10 = gensim.models.TfidfModel(corpus10)\n",
    "corpus_tfidf10 = tfidf10[corpus10]"
   ]
  },
  {
   "cell_type": "markdown",
   "metadata": {},
   "source": [
    "### 10 topics and 1 iteration"
   ]
  },
  {
   "cell_type": "code",
   "execution_count": 4,
   "metadata": {},
   "outputs": [
    {
     "data": {
      "text/plain": [
       "[(0,\n",
       "  '0.144*\"utwente\" + 0.127*\"host\" + 0.126*\"logname\" + 0.104*\"failure\" + 0.095*\"authentication\" + 0.082*\"kwetal\" + 0.079*\"auth\"'),\n",
       " (1,\n",
       "  '0.183*\"credential\" + 0.181*\"trying\" + 0.166*\"bind\" + 0.161*\"ldap\" + 0.100*\"error\" + 0.098*\"invalid\" + 0.044*\"connect\"'),\n",
       " (2,\n",
       "  '0.302*\"received\" + 0.299*\"disconnect\" + 0.170*\"preauth\" + 0.108*\"disconnected\" + 0.046*\"localhost\" + 0.014*\"newkeys\" + 0.011*\"qala\"'),\n",
       " (3,\n",
       "  '0.213*\"auth\" + 0.210*\"winbind\" + 0.153*\"getting\" + 0.108*\"wbclogonuser\" + 0.102*\"error\" + 0.050*\"failed\" + 0.033*\"secure\"'),\n",
       " (4,\n",
       "  '0.127*\"attempt\" + 0.115*\"break\" + 0.114*\"possible\" + 0.100*\"checking\" + 0.100*\"getaddrinfo\" + 0.100*\"mapping\" + 0.096*\"reverse\"'),\n",
       " (5,\n",
       "  '0.252*\"invalid\" + 0.218*\"request\" + 0.065*\"preauth\" + 0.044*\"userauth\" + 0.042*\"input\" + 0.042*\"denied\" + 0.036*\"access\"'),\n",
       " (6,\n",
       "  '0.397*\"session\" + 0.279*\"closed\" + 0.173*\"unix\" + 0.142*\"opened\" + 0.003*\"sftp\" + 0.003*\"subsystem\" + 0.001*\"kanagawa\"'),\n",
       " (7,\n",
       "  '0.234*\"preauth\" + 0.196*\"failure\" + 0.190*\"disconnecting\" + 0.190*\"many\" + 0.178*\"authentication\" + 0.004*\"greendata\" + 0.003*\"bendcable\"'),\n",
       " (8,\n",
       "  '0.403*\"password\" + 0.275*\"failed\" + 0.220*\"port\" + 0.037*\"secure\" + 0.025*\"interactive\" + 0.025*\"keyboard\" + 0.012*\"localhost\"'),\n",
       " (9,\n",
       "  '0.274*\"connection\" + 0.185*\"accepted\" + 0.182*\"publickey\" + 0.114*\"port\" + 0.087*\"service\" + 0.061*\"ignoring\" + 0.061*\"retries\"')]"
      ]
     },
     "execution_count": 4,
     "metadata": {},
     "output_type": "execute_result"
    }
   ],
   "source": [
    "model_tfidf101 = gensim.models.LdaMulticore(corpus_tfidf10, num_topics=10, id2word=dictionary10, passes=2, workers=4)\n",
    "model_tfidf101.show_topics(10,7)"
   ]
  },
  {
   "cell_type": "markdown",
   "metadata": {},
   "source": [
    "### 10 topics and 50 iterations"
   ]
  },
  {
   "cell_type": "code",
   "execution_count": 5,
   "metadata": {},
   "outputs": [
    {
     "data": {
      "text/plain": [
       "[(0,\n",
       "  '0.438*\"request\" + 0.088*\"userauth\" + 0.085*\"input\" + 0.074*\"debug\" + 0.043*\"service\" + 0.030*\"ignoring\" + 0.030*\"retries\"'),\n",
       " (1,\n",
       "  '0.267*\"authentication\" + 0.254*\"failure\" + 0.132*\"host\" + 0.131*\"logname\" + 0.073*\"auth\" + 0.040*\"unix\" + 0.023*\"info\"'),\n",
       " (2,\n",
       "  '0.394*\"received\" + 0.390*\"disconnect\" + 0.140*\"disconnected\" + 0.055*\"localhost\" + 0.021*\"kwetal\" + 0.000*\"preauth\" + 0.000*\"application\"'),\n",
       " (3,\n",
       "  '0.450*\"session\" + 0.197*\"unix\" + 0.161*\"opened\" + 0.150*\"closed\" + 0.041*\"kwetal\" + 0.000*\"warmelo\" + 0.000*\"brecklenkamp\"'),\n",
       " (4,\n",
       "  '0.240*\"utwente\" + 0.105*\"credential\" + 0.104*\"trying\" + 0.096*\"bind\" + 0.093*\"invalid\" + 0.092*\"ldap\" + 0.077*\"error\"'),\n",
       " (5,\n",
       "  '0.214*\"auth\" + 0.211*\"winbind\" + 0.153*\"getting\" + 0.108*\"wbclogonuser\" + 0.101*\"error\" + 0.053*\"failed\" + 0.033*\"secure\"'),\n",
       " (6,\n",
       "  '0.385*\"password\" + 0.263*\"failed\" + 0.211*\"port\" + 0.040*\"invalid\" + 0.035*\"secure\" + 0.025*\"interactive\" + 0.025*\"keyboard\"'),\n",
       " (7,\n",
       "  '0.302*\"preauth\" + 0.236*\"invalid\" + 0.105*\"connection\" + 0.077*\"disconnecting\" + 0.077*\"many\" + 0.054*\"closed\" + 0.029*\"allowed\"'),\n",
       " (8,\n",
       "  '0.096*\"accepted\" + 0.094*\"publickey\" + 0.085*\"denied\" + 0.071*\"access\" + 0.059*\"known\" + 0.059*\"underlying\" + 0.059*\"module\"'),\n",
       " (9,\n",
       "  '0.427*\"connect\" + 0.389*\"refused\" + 0.048*\"normal\" + 0.047*\"goodbye\" + 0.046*\"shutdown\" + 0.013*\"unable\" + 0.010*\"sssd\"')]"
      ]
     },
     "execution_count": 5,
     "metadata": {},
     "output_type": "execute_result"
    }
   ],
   "source": [
    "model_tfidf102 = gensim.models.LdaMulticore(corpus_tfidf10, num_topics=10, id2word=dictionary10, passes=2, workers=4,iterations=50)\n",
    "model_tfidf102.show_topics(10,7)"
   ]
  },
  {
   "cell_type": "markdown",
   "metadata": {},
   "source": [
    "### 5 topics and 1 iteration"
   ]
  },
  {
   "cell_type": "code",
   "execution_count": null,
   "metadata": {},
   "outputs": [],
   "source": [
    "model_tfidf103 = gensim.models.LdaMulticore(corpus_tfidf10, num_topics=5, id2word=dictionary10, passes=2, workers=4)\n",
    "model_tfidf103.show_topics(5,7)"
   ]
  },
  {
   "cell_type": "markdown",
   "metadata": {},
   "source": [
    "### 5 topics and 50 iteration"
   ]
  },
  {
   "cell_type": "code",
   "execution_count": null,
   "metadata": {},
   "outputs": [],
   "source": [
    "model_tfidf104 = gensim.models.LdaMulticore(corpus_tfidf10, num_topics=5, id2word=dictionary10, passes=2, workers=4,iterations=50)\n",
    "model_tfidf104.show_topics(5,7)"
   ]
  },
  {
   "cell_type": "markdown",
   "metadata": {},
   "source": [
    "### Making perplexities and coherence."
   ]
  },
  {
   "cell_type": "markdown",
   "metadata": {},
   "source": [
    "Computing the perplexities scores of these models, the lower the better."
   ]
  },
  {
   "cell_type": "code",
   "execution_count": null,
   "metadata": {},
   "outputs": [],
   "source": [
    "log_perplexities = {\n",
    "        \"model_tfidf101\" : model_tfidf101.log_perplexity(corpus_tfidf10[0:1000]),\n",
    "     \"model_tfidf102\" : model_tfidf102.log_perplexity(corpus_tfidf10[0:1000]),\n",
    "     \"model_tfidf103\" : model_tfidf103.log_perplexity(corpus_tfidf10[0:1000]),\n",
    "     \"model_tfidf104\" : model_tfidf104.log_perplexity(corpus_tfidf10[0:1000])\n",
    "    };\n",
    "log_perplexities"
   ]
  },
  {
   "cell_type": "markdown",
   "metadata": {},
   "source": [
    "Computing the coherence scores."
   ]
  },
  {
   "cell_type": "code",
   "execution_count": null,
   "metadata": {},
   "outputs": [],
   "source": [
    "from gensim.models.coherencemodel import CoherenceModel\n",
    "def getCoherence(m,c,d):\n",
    "    coherence_model_lda = CoherenceModel(model=m,corpus=c, dictionary=d, coherence='u_mass')\n",
    "    coherence_lda = coherence_model_lda.get_coherence()\n",
    "    return(coherence_lda)"
   ]
  },
  {
   "cell_type": "code",
   "execution_count": null,
   "metadata": {},
   "outputs": [],
   "source": [
    "coherences={\n",
    "    \"model_tfidf101\": getCoherence(model_tfidf101,corpus_tfidf10[0:1000],dictionary10),\n",
    "    \"model_tfidf102\": getCoherence(model_tfidf102,corpus_tfidf10[0:1000],dictionary10),\n",
    "    \"model_tfidf103\": getCoherence(model_tfidf103,corpus_tfidf10[0:1000],dictionary10),\n",
    "    \"model_tfidf104\": getCoherence(model_tfidf104,corpus_tfidf10[0:1000],dictionary10)\n",
    "}\n",
    "coherences"
   ]
  },
  {
   "cell_type": "markdown",
   "metadata": {},
   "source": [
    "After measured by perplexities and cohenrence scores, we found that the model using more topics and iterations get the higher quality of the fit. Then we choose the model tfidf102 to do visualization."
   ]
  },
  {
   "cell_type": "markdown",
   "metadata": {},
   "source": [
    "## Visualization"
   ]
  },
  {
   "cell_type": "code",
   "execution_count": null,
   "metadata": {},
   "outputs": [],
   "source": [
    "pyLDAvis.enable_notebook()"
   ]
  },
  {
   "cell_type": "code",
   "execution_count": null,
   "metadata": {},
   "outputs": [],
   "source": [
    "display_tfidf102 = pyLDAvis.gensim.prepare(model_tfidf102, corpus10, dictionary10, sort_topics=False)\n",
    "pyLDAvis.display(display_tfidf102, template_type='notebook')\n",
    "pyLDAvis.save_html(display_tfidf102,\"G:/Users/Gabriel/Documents/Education/UoB/GitHubDesktop/DST-Assessment-03/Visulisations/tfidf_display.html\")"
   ]
  },
  {
   "cell_type": "markdown",
   "metadata": {},
   "source": [
    "Then we get a table which shows each extracted topic as a list of the top seven words starting from the most significant word on the left, from which we can see that, Topic 1 has seemed to have located the logs where the system itself is producing a warning due to the words \"disconnecting\", \"failure\". Topic 2 had the words\"password\",\"failed\", and Topic 3,4,8,9,10 are similar. And Topic 5 seems to have located all of the successful attempts-- \"accepted\". Therefore, in this model, we could mark topics 1,2,3,4,8,9 and 10 as potential attacks and Topic 5 as successful attempts. And then we can classify whether the IP addresses associated with the log are anomaly.\n",
    "\n",
    "Topic number followed by frequent words:\n",
    "\n",
    "1. authentication, disconnecting, many, failure, known, underlying, module\n",
    "2. password, failed,port, secure, interactive, keyborad\n",
    "3. getting, received, disconnect, disconnected, localhost, information\n",
    "4. auth, winbind, wbclogonuser, error, failed, secure, permission\n",
    "5. session, accepted, publickey, unix, opened, closed, port\n",
    "6. request, preauth, connection, userauth, input, debug, closed\n",
    "7. service, ignoring, retries, requested, retrieve, realm, network\n",
    "8. invalid, attempt, break, possible, checking, mapping, getaddrinfo\n",
    "9. credential, trying, bind, ldap, unknown, invalid, check\n",
    "10. utwente, failure, authentication, host, logname, kwetal, auth"
   ]
  }
 ],
 "metadata": {
  "kernelspec": {
   "display_name": "Python 3",
   "language": "python",
   "name": "python3"
  },
  "language_info": {
   "codemirror_mode": {
    "name": "ipython",
    "version": 3
   },
   "file_extension": ".py",
   "mimetype": "text/x-python",
   "name": "python",
   "nbconvert_exporter": "python",
   "pygments_lexer": "ipython3",
   "version": "3.8.3"
  }
 },
 "nbformat": 4,
 "nbformat_minor": 5
}
