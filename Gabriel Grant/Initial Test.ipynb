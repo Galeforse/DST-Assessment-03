{
 "cells": [
  {
   "cell_type": "markdown",
   "metadata": {},
   "source": [
    "## DST Assessment 3\n",
    "\n",
    "In this assessment we are going to attempt topic modelling on some cyber security related data."
   ]
  },
  {
   "cell_type": "code",
   "execution_count": 2,
   "metadata": {},
   "outputs": [],
   "source": [
    "import pandas as pd\n",
    "import requests\n",
    "import tarfile\n",
    "import zipfile\n",
    "from io import StringIO\n",
    "import datetime as dt"
   ]
  },
  {
   "cell_type": "code",
   "execution_count": 3,
   "metadata": {},
   "outputs": [
    {
     "name": "stdout",
     "output_type": "stream",
     "text": [
      "Data fetched in: 0:00:48.150059\n"
     ]
    }
   ],
   "source": [
    "start = dt.datetime.now()\n",
    "df = pd.read_csv(\"https://github.com/Galeforse/DST-Assessment-03/raw/master/Data/master_log.csv.gz\")\n",
    "print(\"Data fetched in:\" ,dt.datetime.now()-start)"
   ]
  },
  {
   "cell_type": "code",
   "execution_count": 4,
   "metadata": {},
   "outputs": [
    {
     "data": {
      "text/html": [
       "<div>\n",
       "<style scoped>\n",
       "    .dataframe tbody tr th:only-of-type {\n",
       "        vertical-align: middle;\n",
       "    }\n",
       "\n",
       "    .dataframe tbody tr th {\n",
       "        vertical-align: top;\n",
       "    }\n",
       "\n",
       "    .dataframe thead th {\n",
       "        text-align: right;\n",
       "    }\n",
       "</style>\n",
       "<table border=\"1\" class=\"dataframe\">\n",
       "  <thead>\n",
       "    <tr style=\"text-align: right;\">\n",
       "      <th></th>\n",
       "      <th>anon_ip</th>\n",
       "      <th>log</th>\n",
       "    </tr>\n",
       "  </thead>\n",
       "  <tbody>\n",
       "    <tr>\n",
       "      <th>0</th>\n",
       "      <td>161.166.1.23</td>\n",
       "      <td>Jan  5 03:23:40 161.166.1.23 sshd[27076]: pam_...</td>\n",
       "    </tr>\n",
       "    <tr>\n",
       "      <th>1</th>\n",
       "      <td>161.166.1.23</td>\n",
       "      <td>Jan  5 03:23:42 161.166.1.23 sshd[27076]: Fail...</td>\n",
       "    </tr>\n",
       "    <tr>\n",
       "      <th>2</th>\n",
       "      <td>161.166.1.23</td>\n",
       "      <td>Jan  5 03:23:44 161.166.1.23 sshd[27076]: Fail...</td>\n",
       "    </tr>\n",
       "    <tr>\n",
       "      <th>3</th>\n",
       "      <td>161.166.1.23</td>\n",
       "      <td>Jan  5 03:23:47 161.166.1.23 sshd[27076]: Fail...</td>\n",
       "    </tr>\n",
       "    <tr>\n",
       "      <th>4</th>\n",
       "      <td>161.166.1.23</td>\n",
       "      <td>Jan  5 03:23:49 161.166.1.23 sshd[27076]: Fail...</td>\n",
       "    </tr>\n",
       "  </tbody>\n",
       "</table>\n",
       "</div>"
      ],
      "text/plain": [
       "        anon_ip                                                log\n",
       "0  161.166.1.23  Jan  5 03:23:40 161.166.1.23 sshd[27076]: pam_...\n",
       "1  161.166.1.23  Jan  5 03:23:42 161.166.1.23 sshd[27076]: Fail...\n",
       "2  161.166.1.23  Jan  5 03:23:44 161.166.1.23 sshd[27076]: Fail...\n",
       "3  161.166.1.23  Jan  5 03:23:47 161.166.1.23 sshd[27076]: Fail...\n",
       "4  161.166.1.23  Jan  5 03:23:49 161.166.1.23 sshd[27076]: Fail..."
      ]
     },
     "execution_count": 4,
     "metadata": {},
     "output_type": "execute_result"
    }
   ],
   "source": [
    "df.head()"
   ]
  },
  {
   "cell_type": "markdown",
   "metadata": {},
   "source": [
    "## References\n",
    "\n",
    "[SSH Topic Modelling](https://ieeexplore.ieee.org/stamp/stamp.jsp?tp=&arnumber=7117015)"
   ]
  }
 ],
 "metadata": {
  "kernelspec": {
   "display_name": "Python 3",
   "language": "python",
   "name": "python3"
  },
  "language_info": {
   "codemirror_mode": {
    "name": "ipython",
    "version": 3
   },
   "file_extension": ".py",
   "mimetype": "text/x-python",
   "name": "python",
   "nbconvert_exporter": "python",
   "pygments_lexer": "ipython3",
   "version": "3.8.3"
  }
 },
 "nbformat": 4,
 "nbformat_minor": 4
}
