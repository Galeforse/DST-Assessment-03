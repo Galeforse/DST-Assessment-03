{
 "cells": [
  {
   "cell_type": "code",
   "execution_count": 1,
   "metadata": {},
   "outputs": [],
   "source": [
    "import pandas as pd\n",
    "import requests\n",
    "import tarfile\n",
    "import zipfile\n",
    "from io import StringIO\n",
    "import datetime as dt"
   ]
  },
  {
   "cell_type": "code",
   "execution_count": 40,
   "metadata": {},
   "outputs": [
    {
     "name": "stderr",
     "output_type": "stream",
     "text": [
      "<ipython-input-40-cfb468c0fc52>:2: ParserWarning: Falling back to the 'python' engine because the 'c' engine does not support regex separators (separators > 1 char and different from '\\s+' are interpreted as regex); you can avoid this warning by specifying engine='python'.\n",
      "  df = pd.read_csv(\"G:/Users/Gabriel/Documents/Education/UoB/GitHubDesktop/DST-Assessment-03/Data/log_files/1.log\",sep= ']:',header=None)\n"
     ]
    },
    {
     "name": "stdout",
     "output_type": "stream",
     "text": [
      "Data fetched in: 0:00:00.344345\n"
     ]
    }
   ],
   "source": [
    "start = dt.datetime.now()\n",
    "df = pd.read_csv(\"G:/Users/Gabriel/Documents/Education/UoB/GitHubDesktop/DST-Assessment-03/Data/log_files/1.log\",sep= ']:',header=None)\n",
    "print(\"Data fetched in:\" ,dt.datetime.now()-start)"
   ]
  },
  {
   "cell_type": "code",
   "execution_count": 14,
   "metadata": {},
   "outputs": [
    {
     "data": {
      "text/html": [
       "<div>\n",
       "<style scoped>\n",
       "    .dataframe tbody tr th:only-of-type {\n",
       "        vertical-align: middle;\n",
       "    }\n",
       "\n",
       "    .dataframe tbody tr th {\n",
       "        vertical-align: top;\n",
       "    }\n",
       "\n",
       "    .dataframe thead th {\n",
       "        text-align: right;\n",
       "    }\n",
       "</style>\n",
       "<table border=\"1\" class=\"dataframe\">\n",
       "  <thead>\n",
       "    <tr style=\"text-align: right;\">\n",
       "      <th></th>\n",
       "      <th>0</th>\n",
       "      <th>1</th>\n",
       "    </tr>\n",
       "  </thead>\n",
       "  <tbody>\n",
       "    <tr>\n",
       "      <th>0</th>\n",
       "      <td>Jan  5 08:13:51 161.166.1.22 sshd[42590</td>\n",
       "      <td>pam_unix(sshd:auth): authentication failure; ...</td>\n",
       "    </tr>\n",
       "    <tr>\n",
       "      <th>1</th>\n",
       "      <td>Jan  5 08:13:53 161.166.1.22 sshd[42590</td>\n",
       "      <td>Failed password for XXXXX from 216.186.0.161 ...</td>\n",
       "    </tr>\n",
       "    <tr>\n",
       "      <th>2</th>\n",
       "      <td>Jan  5 08:13:55 161.166.1.22 sshd[42590</td>\n",
       "      <td>Failed password for XXXXX from 216.186.0.161 ...</td>\n",
       "    </tr>\n",
       "    <tr>\n",
       "      <th>3</th>\n",
       "      <td>Jan  5 08:13:57 161.166.1.22 sshd[42590</td>\n",
       "      <td>Failed password for XXXXX from 216.186.0.161 ...</td>\n",
       "    </tr>\n",
       "    <tr>\n",
       "      <th>4</th>\n",
       "      <td>Jan  5 08:14:00 161.166.1.22 sshd[42590</td>\n",
       "      <td>Failed password for XXXXX from 216.186.0.161 ...</td>\n",
       "    </tr>\n",
       "  </tbody>\n",
       "</table>\n",
       "</div>"
      ],
      "text/plain": [
       "                                         0  \\\n",
       "0  Jan  5 08:13:51 161.166.1.22 sshd[42590   \n",
       "1  Jan  5 08:13:53 161.166.1.22 sshd[42590   \n",
       "2  Jan  5 08:13:55 161.166.1.22 sshd[42590   \n",
       "3  Jan  5 08:13:57 161.166.1.22 sshd[42590   \n",
       "4  Jan  5 08:14:00 161.166.1.22 sshd[42590   \n",
       "\n",
       "                                                   1  \n",
       "0   pam_unix(sshd:auth): authentication failure; ...  \n",
       "1   Failed password for XXXXX from 216.186.0.161 ...  \n",
       "2   Failed password for XXXXX from 216.186.0.161 ...  \n",
       "3   Failed password for XXXXX from 216.186.0.161 ...  \n",
       "4   Failed password for XXXXX from 216.186.0.161 ...  "
      ]
     },
     "execution_count": 14,
     "metadata": {},
     "output_type": "execute_result"
    }
   ],
   "source": [
    "df.head()"
   ]
  },
  {
   "cell_type": "code",
   "execution_count": 18,
   "metadata": {},
   "outputs": [
    {
     "data": {
      "text/plain": [
       "str"
      ]
     },
     "execution_count": 18,
     "metadata": {},
     "output_type": "execute_result"
    }
   ],
   "source": [
    "x = str(1)\n",
    "type(x)"
   ]
  },
  {
   "cell_type": "code",
   "execution_count": 20,
   "metadata": {},
   "outputs": [
    {
     "data": {
      "text/plain": [
       "'G:/Users/Gabriel/Documents/Education/UoB/GitHubDesktop/DST-Assessment-03/Data/log_files/1.log'"
      ]
     },
     "execution_count": 20,
     "metadata": {},
     "output_type": "execute_result"
    }
   ],
   "source": [
    "root = \"G:/Users/Gabriel/Documents/Education/UoB/GitHubDesktop/DST-Assessment-03/Data/log_files/\"\n",
    "test = root + x +\".log\"\n",
    "test"
   ]
  },
  {
   "cell_type": "code",
   "execution_count": 36,
   "metadata": {},
   "outputs": [],
   "source": [
    "def log_import(x):\n",
    "    x = str(x)\n",
    "    root = \"G:/Users/Gabriel/Documents/Education/UoB/GitHubDesktop/DST-Assessment-03/Data/log_files/\"\n",
    "    df = pd.read_csv(root + x +\".log\",sep= ']:',header=None)\n",
    "    return(df)"
   ]
  },
  {
   "cell_type": "code",
   "execution_count": 80,
   "metadata": {},
   "outputs": [
    {
     "name": "stdout",
     "output_type": "stream",
     "text": [
      "\"161.166.1.38\"\n"
     ]
    },
    {
     "name": "stderr",
     "output_type": "stream",
     "text": [
      "<ipython-input-77-659783ba4f4e>:6: ParserWarning: Falling back to the 'python' engine because the 'c' engine does not support regex separators (separators > 1 char and different from '\\s+' are interpreted as regex); you can avoid this warning by specifying engine='python'.\n",
      "  df = pd.read_csv(root + x +\".log\",sep= ']:',names=[\"drop\",\"log\"])\n"
     ]
    },
    {
     "data": {
      "text/html": [
       "<div>\n",
       "<style scoped>\n",
       "    .dataframe tbody tr th:only-of-type {\n",
       "        vertical-align: middle;\n",
       "    }\n",
       "\n",
       "    .dataframe tbody tr th {\n",
       "        vertical-align: top;\n",
       "    }\n",
       "\n",
       "    .dataframe thead th {\n",
       "        text-align: right;\n",
       "    }\n",
       "</style>\n",
       "<table border=\"1\" class=\"dataframe\">\n",
       "  <thead>\n",
       "    <tr style=\"text-align: right;\">\n",
       "      <th></th>\n",
       "      <th>log</th>\n",
       "    </tr>\n",
       "  </thead>\n",
       "  <tbody>\n",
       "    <tr>\n",
       "      <th>0</th>\n",
       "      <td>pam_unix(sshd:auth): authentication failure; ...</td>\n",
       "    </tr>\n",
       "    <tr>\n",
       "      <th>1</th>\n",
       "      <td>Failed password for XXXXX from 216.186.0.161 ...</td>\n",
       "    </tr>\n",
       "    <tr>\n",
       "      <th>2</th>\n",
       "      <td>Failed password for XXXXX from 216.186.0.161 ...</td>\n",
       "    </tr>\n",
       "    <tr>\n",
       "      <th>3</th>\n",
       "      <td>Failed password for XXXXX from 216.186.0.161 ...</td>\n",
       "    </tr>\n",
       "    <tr>\n",
       "      <th>4</th>\n",
       "      <td>Failed password for XXXXX from 216.186.0.161 ...</td>\n",
       "    </tr>\n",
       "    <tr>\n",
       "      <th>...</th>\n",
       "      <td>...</td>\n",
       "    </tr>\n",
       "    <tr>\n",
       "      <th>113063</th>\n",
       "      <td>Received disconnect from 161.166.9.198: 11: d...</td>\n",
       "    </tr>\n",
       "    <tr>\n",
       "      <th>113064</th>\n",
       "      <td>pam_unix(sshd:session): session closed for us...</td>\n",
       "    </tr>\n",
       "    <tr>\n",
       "      <th>113065</th>\n",
       "      <td>pam_unix(sshd:session): session opened for us...</td>\n",
       "    </tr>\n",
       "    <tr>\n",
       "      <th>113066</th>\n",
       "      <td>Accepted publickey for XXXXX from 161.166.9.1...</td>\n",
       "    </tr>\n",
       "    <tr>\n",
       "      <th>113067</th>\n",
       "      <td>pam_unix(sshd:session): session opened for us...</td>\n",
       "    </tr>\n",
       "  </tbody>\n",
       "</table>\n",
       "<p>113068 rows × 1 columns</p>\n",
       "</div>"
      ],
      "text/plain": [
       "                                                      log\n",
       "0        pam_unix(sshd:auth): authentication failure; ...\n",
       "1        Failed password for XXXXX from 216.186.0.161 ...\n",
       "2        Failed password for XXXXX from 216.186.0.161 ...\n",
       "3        Failed password for XXXXX from 216.186.0.161 ...\n",
       "4        Failed password for XXXXX from 216.186.0.161 ...\n",
       "...                                                   ...\n",
       "113063   Received disconnect from 161.166.9.198: 11: d...\n",
       "113064   pam_unix(sshd:session): session closed for us...\n",
       "113065   pam_unix(sshd:session): session opened for us...\n",
       "113066   Accepted publickey for XXXXX from 161.166.9.1...\n",
       "113067   pam_unix(sshd:session): session opened for us...\n",
       "\n",
       "[113068 rows x 1 columns]"
      ]
     },
     "execution_count": 80,
     "metadata": {},
     "output_type": "execute_result"
    }
   ],
   "source": [
    "df1 = log_import(1)"
   ]
  },
  {
   "cell_type": "code",
   "execution_count": 175,
   "metadata": {},
   "outputs": [
    {
     "data": {
      "text/plain": [
       "'161.166.1.22'"
      ]
     },
     "execution_count": 175,
     "metadata": {},
     "output_type": "execute_result"
    }
   ],
   "source": [
    "global ip\n",
    "text_file = open(\"G:/Users/Gabriel/Documents/Education/UoB/DST/anon_ips_list2.txt\")\n",
    "ip = text_file.read().split(',')\n",
    "len(ip)\n",
    "ip[0]"
   ]
  },
  {
   "cell_type": "code",
   "execution_count": 176,
   "metadata": {},
   "outputs": [],
   "source": [
    "def log_import(x):\n",
    "    global ip\n",
    "    y = str(x)\n",
    "    root = \"https://github.com/Galeforse/DST-Assessment-03/raw/master/Data/log_files/\"\n",
    "    df1 = pd.read_csv(root + y +\".log.gz\",names=[\"log\"])\n",
    "    #df1 = df.drop(columns=[\"drop\"],axis=1)    \n",
    "    df1.insert(0, \"anon_ip\",ip[x-1], allow_duplicates = True)\n",
    "    return(df1)"
   ]
  },
  {
   "cell_type": "code",
   "execution_count": 177,
   "metadata": {},
   "outputs": [
    {
     "data": {
      "text/html": [
       "<div>\n",
       "<style scoped>\n",
       "    .dataframe tbody tr th:only-of-type {\n",
       "        vertical-align: middle;\n",
       "    }\n",
       "\n",
       "    .dataframe tbody tr th {\n",
       "        vertical-align: top;\n",
       "    }\n",
       "\n",
       "    .dataframe thead th {\n",
       "        text-align: right;\n",
       "    }\n",
       "</style>\n",
       "<table border=\"1\" class=\"dataframe\">\n",
       "  <thead>\n",
       "    <tr style=\"text-align: right;\">\n",
       "      <th></th>\n",
       "      <th>anon_ip</th>\n",
       "      <th>log</th>\n",
       "    </tr>\n",
       "  </thead>\n",
       "  <tbody>\n",
       "    <tr>\n",
       "      <th>0</th>\n",
       "      <td>161.166.1.22</td>\n",
       "      <td>Jan  5 08:13:51 161.166.1.22 sshd[42590]: pam_...</td>\n",
       "    </tr>\n",
       "    <tr>\n",
       "      <th>1</th>\n",
       "      <td>161.166.1.22</td>\n",
       "      <td>Jan  5 08:13:53 161.166.1.22 sshd[42590]: Fail...</td>\n",
       "    </tr>\n",
       "    <tr>\n",
       "      <th>2</th>\n",
       "      <td>161.166.1.22</td>\n",
       "      <td>Jan  5 08:13:55 161.166.1.22 sshd[42590]: Fail...</td>\n",
       "    </tr>\n",
       "    <tr>\n",
       "      <th>3</th>\n",
       "      <td>161.166.1.22</td>\n",
       "      <td>Jan  5 08:13:57 161.166.1.22 sshd[42590]: Fail...</td>\n",
       "    </tr>\n",
       "    <tr>\n",
       "      <th>4</th>\n",
       "      <td>161.166.1.22</td>\n",
       "      <td>Jan  5 08:14:00 161.166.1.22 sshd[42590]: Fail...</td>\n",
       "    </tr>\n",
       "    <tr>\n",
       "      <th>...</th>\n",
       "      <td>...</td>\n",
       "      <td>...</td>\n",
       "    </tr>\n",
       "    <tr>\n",
       "      <th>113063</th>\n",
       "      <td>161.166.1.22</td>\n",
       "      <td>Feb 28 23:01:15 161.166.1.22 sshd[52192]: Rece...</td>\n",
       "    </tr>\n",
       "    <tr>\n",
       "      <th>113064</th>\n",
       "      <td>161.166.1.22</td>\n",
       "      <td>Feb 28 23:01:15 161.166.1.22 sshd[52192]: pam_...</td>\n",
       "    </tr>\n",
       "    <tr>\n",
       "      <th>113065</th>\n",
       "      <td>161.166.1.22</td>\n",
       "      <td>Feb 28 23:01:15 161.166.1.22 sshd[52192]: pam_...</td>\n",
       "    </tr>\n",
       "    <tr>\n",
       "      <th>113066</th>\n",
       "      <td>161.166.1.22</td>\n",
       "      <td>Feb 28 23:01:15 161.166.1.22 sshd[52218]: Acce...</td>\n",
       "    </tr>\n",
       "    <tr>\n",
       "      <th>113067</th>\n",
       "      <td>161.166.1.22</td>\n",
       "      <td>Feb 28 23:01:15 161.166.1.22 sshd[52218]: pam_...</td>\n",
       "    </tr>\n",
       "  </tbody>\n",
       "</table>\n",
       "<p>113068 rows × 2 columns</p>\n",
       "</div>"
      ],
      "text/plain": [
       "             anon_ip                                                log\n",
       "0       161.166.1.22  Jan  5 08:13:51 161.166.1.22 sshd[42590]: pam_...\n",
       "1       161.166.1.22  Jan  5 08:13:53 161.166.1.22 sshd[42590]: Fail...\n",
       "2       161.166.1.22  Jan  5 08:13:55 161.166.1.22 sshd[42590]: Fail...\n",
       "3       161.166.1.22  Jan  5 08:13:57 161.166.1.22 sshd[42590]: Fail...\n",
       "4       161.166.1.22  Jan  5 08:14:00 161.166.1.22 sshd[42590]: Fail...\n",
       "...              ...                                                ...\n",
       "113063  161.166.1.22  Feb 28 23:01:15 161.166.1.22 sshd[52192]: Rece...\n",
       "113064  161.166.1.22  Feb 28 23:01:15 161.166.1.22 sshd[52192]: pam_...\n",
       "113065  161.166.1.22  Feb 28 23:01:15 161.166.1.22 sshd[52192]: pam_...\n",
       "113066  161.166.1.22  Feb 28 23:01:15 161.166.1.22 sshd[52218]: Acce...\n",
       "113067  161.166.1.22  Feb 28 23:01:15 161.166.1.22 sshd[52218]: pam_...\n",
       "\n",
       "[113068 rows x 2 columns]"
      ]
     },
     "execution_count": 177,
     "metadata": {},
     "output_type": "execute_result"
    }
   ],
   "source": [
    "log_import(1)"
   ]
  },
  {
   "cell_type": "code",
   "execution_count": 178,
   "metadata": {},
   "outputs": [],
   "source": [
    "dfs = []\n",
    "for i in range(1,74):\n",
    "    global dfs\n",
    "    dfs.append(\"df\"+str(i))    "
   ]
  },
  {
   "cell_type": "code",
   "execution_count": 179,
   "metadata": {},
   "outputs": [],
   "source": [
    "df1 = log_import(1)\n",
    "df2 = log_import(2)\n",
    "df3 = log_import(3)\n",
    "df4 = log_import(4)\n",
    "df5 = log_import(5)\n",
    "df6 = log_import(6)\n",
    "df7 = log_import(7)\n",
    "df8 = log_import(8)\n",
    "df9 = log_import(9)"
   ]
  },
  {
   "cell_type": "code",
   "execution_count": 180,
   "metadata": {},
   "outputs": [],
   "source": [
    "df10 = log_import(10)\n",
    "df11 = log_import(11)\n",
    "df12 = log_import(12)\n",
    "df13 = log_import(13)\n",
    "df14 = log_import(14)\n",
    "df15 = log_import(15)\n",
    "df16 = log_import(16)\n",
    "df17 = log_import(17)\n",
    "df18 = log_import(18)\n",
    "df19 = log_import(19)"
   ]
  },
  {
   "cell_type": "code",
   "execution_count": 181,
   "metadata": {},
   "outputs": [],
   "source": [
    "df20 = log_import(20)\n",
    "df21 = log_import(21)\n",
    "df22 = log_import(22)\n",
    "df23 = log_import(23)\n",
    "df24 = log_import(24)\n",
    "df25 = log_import(25)\n",
    "df26 = log_import(26)\n",
    "df27 = log_import(27)\n",
    "df28 = log_import(28)\n",
    "df29 = log_import(29)"
   ]
  },
  {
   "cell_type": "code",
   "execution_count": 182,
   "metadata": {},
   "outputs": [],
   "source": [
    "df30 = log_import(30)\n",
    "df31 = log_import(31)\n",
    "df32 = log_import(32)\n",
    "df33 = log_import(33)\n",
    "df34 = log_import(34)\n",
    "df35 = log_import(35)\n",
    "df36 = log_import(36)\n",
    "df37 = log_import(37)\n",
    "df38 = log_import(38)\n",
    "df39 = log_import(39)"
   ]
  },
  {
   "cell_type": "code",
   "execution_count": 183,
   "metadata": {},
   "outputs": [],
   "source": [
    "df40 = log_import(40)\n",
    "df41 = log_import(41)\n",
    "df42 = log_import(42)\n",
    "df43 = log_import(43)\n",
    "df44 = log_import(44)\n",
    "df45 = log_import(45)\n",
    "df46 = log_import(46)\n",
    "df47 = log_import(47)\n",
    "df48 = log_import(48)\n",
    "df49 = log_import(49)"
   ]
  },
  {
   "cell_type": "code",
   "execution_count": 184,
   "metadata": {},
   "outputs": [],
   "source": [
    "df50 = log_import(50)\n",
    "df51 = log_import(51)\n",
    "df52 = log_import(52)\n",
    "df53 = log_import(53)\n",
    "df54 = log_import(54)\n",
    "df55 = log_import(55)\n",
    "df56 = log_import(56)\n",
    "df57 = log_import(57)\n",
    "df58 = log_import(58)\n",
    "df59 = log_import(59)"
   ]
  },
  {
   "cell_type": "code",
   "execution_count": 185,
   "metadata": {},
   "outputs": [],
   "source": [
    "df60 = log_import(60)\n",
    "df61 = log_import(61)\n",
    "df62 = log_import(62)\n",
    "df63 = log_import(63)\n",
    "df64 = log_import(64)\n",
    "df65 = log_import(65)\n",
    "df66 = log_import(66)\n",
    "df67 = log_import(67)\n",
    "df68 = log_import(68)\n",
    "df69 = log_import(69)\n",
    "df70 = log_import(70)\n",
    "df71 = log_import(71)\n",
    "df72 = log_import(72)\n",
    "df73 = log_import(73)"
   ]
  },
  {
   "cell_type": "code",
   "execution_count": 156,
   "metadata": {},
   "outputs": [
    {
     "ename": "TypeError",
     "evalue": "'method' object is not subscriptable",
     "output_type": "error",
     "traceback": [
      "\u001b[1;31m---------------------------------------------------------------------------\u001b[0m",
      "\u001b[1;31mTypeError\u001b[0m                                 Traceback (most recent call last)",
      "\u001b[1;32m<ipython-input-156-43a8ee9bd345>\u001b[0m in \u001b[0;36m<module>\u001b[1;34m\u001b[0m\n\u001b[1;32m----> 1\u001b[1;33m master_df = df1.append[df2,df3,df4,df5,df6,df7,df8,df9,df10,df11,df12,df13,df14,df15,df16,df17,df18,df19,df20,df21,df22,df23,df24,df25,df26,df27,df28,df29,df30,\n\u001b[0m\u001b[0;32m      2\u001b[0m                        \u001b[0mdf31\u001b[0m\u001b[1;33m,\u001b[0m\u001b[0mdf32\u001b[0m\u001b[1;33m,\u001b[0m\u001b[0mdf33\u001b[0m\u001b[1;33m,\u001b[0m\u001b[0mdf34\u001b[0m\u001b[1;33m,\u001b[0m\u001b[0mdf35\u001b[0m\u001b[1;33m,\u001b[0m\u001b[0mdf36\u001b[0m\u001b[1;33m,\u001b[0m\u001b[0mdf37\u001b[0m\u001b[1;33m,\u001b[0m\u001b[0mdf38\u001b[0m\u001b[1;33m,\u001b[0m\u001b[0mdf39\u001b[0m\u001b[1;33m,\u001b[0m\u001b[0mdf40\u001b[0m\u001b[1;33m,\u001b[0m\u001b[0mdf41\u001b[0m\u001b[1;33m,\u001b[0m\u001b[0mdf42\u001b[0m\u001b[1;33m,\u001b[0m\u001b[0mdf43\u001b[0m\u001b[1;33m,\u001b[0m\u001b[0mdf44\u001b[0m\u001b[1;33m,\u001b[0m\u001b[0mdf45\u001b[0m\u001b[1;33m,\u001b[0m\u001b[0mdf46\u001b[0m\u001b[1;33m,\u001b[0m\u001b[0mdf47\u001b[0m\u001b[1;33m,\u001b[0m\u001b[0mdf48\u001b[0m\u001b[1;33m,\u001b[0m\u001b[0mdf49\u001b[0m\u001b[1;33m,\u001b[0m\u001b[0mdf50\u001b[0m\u001b[1;33m,\u001b[0m\u001b[0mdf51\u001b[0m\u001b[1;33m,\u001b[0m\u001b[0mdf52\u001b[0m\u001b[1;33m,\u001b[0m\u001b[0mdf53\u001b[0m\u001b[1;33m,\u001b[0m\u001b[0mdf54\u001b[0m\u001b[1;33m,\u001b[0m\u001b[0mdf55\u001b[0m\u001b[1;33m,\u001b[0m\u001b[0mdf56\u001b[0m\u001b[1;33m,\u001b[0m\u001b[0mdf57\u001b[0m\u001b[1;33m,\u001b[0m\u001b[0mdf58\u001b[0m\u001b[1;33m,\u001b[0m\u001b[1;33m\u001b[0m\u001b[1;33m\u001b[0m\u001b[0m\n\u001b[0;32m      3\u001b[0m                        df59,df60,df61,df62,df63,df64,df65,df66,df67,df68,df69,df70,df71,df72,df73]\n",
      "\u001b[1;31mTypeError\u001b[0m: 'method' object is not subscriptable"
     ]
    }
   ],
   "source": [
    "#master_df = df1.append[df2,df3,df4,df5,df6,df7,df8,df9,df10,df11,df12,df13,df14,df15,df16,df17,df18,df19,df20,df21,df22,df23,df24,df25,df26,df27,df28,df29,df30,\n",
    "#                       df31,df32,df33,df34,df35,df36,df37,df38,df39,df40,df41,df42,df43,df44,df45,df46,df47,df48,df49,df50,df51,df52,df53,df54,df55,df56,df57,df58,\n",
    "#                       df59,df60,df61,df62,df63,df64,df65,df66,df67,df68,df69,df70,df71,df72,df73]"
   ]
  },
  {
   "cell_type": "code",
   "execution_count": 186,
   "metadata": {},
   "outputs": [],
   "source": [
    "dftest = pd.concat([df2,df3,df4,df5,df6,df7,df8,df9,df10,df11,df12,df13,df14,df15,df16,df17,df18,df19,df20,df21,df22,df23,df24,df25,df26,df27,df28,df29,df30,\n",
    "                       df31,df32,df33,df34,df35,df36,df37,df38,df39,df40,df41,df42,df43,df44,df45,df46,df47,df48,df49,df50,df51,df52,df53,df54,df55,df56,df57,df58,\n",
    "                       df59,df60,df61,df62,df63,df64,df65,df66,df67,df68,df69,df70,df71,df72,df73])"
   ]
  },
  {
   "cell_type": "code",
   "execution_count": 187,
   "metadata": {},
   "outputs": [
    {
     "data": {
      "text/html": [
       "<div>\n",
       "<style scoped>\n",
       "    .dataframe tbody tr th:only-of-type {\n",
       "        vertical-align: middle;\n",
       "    }\n",
       "\n",
       "    .dataframe tbody tr th {\n",
       "        vertical-align: top;\n",
       "    }\n",
       "\n",
       "    .dataframe thead th {\n",
       "        text-align: right;\n",
       "    }\n",
       "</style>\n",
       "<table border=\"1\" class=\"dataframe\">\n",
       "  <thead>\n",
       "    <tr style=\"text-align: right;\">\n",
       "      <th></th>\n",
       "      <th>anon_ip</th>\n",
       "      <th>log</th>\n",
       "    </tr>\n",
       "  </thead>\n",
       "  <tbody>\n",
       "    <tr>\n",
       "      <th>0</th>\n",
       "      <td>161.166.1.23</td>\n",
       "      <td>Jan  5 03:23:40 161.166.1.23 sshd[27076]: pam_...</td>\n",
       "    </tr>\n",
       "    <tr>\n",
       "      <th>1</th>\n",
       "      <td>161.166.1.23</td>\n",
       "      <td>Jan  5 03:23:42 161.166.1.23 sshd[27076]: Fail...</td>\n",
       "    </tr>\n",
       "    <tr>\n",
       "      <th>2</th>\n",
       "      <td>161.166.1.23</td>\n",
       "      <td>Jan  5 03:23:44 161.166.1.23 sshd[27076]: Fail...</td>\n",
       "    </tr>\n",
       "    <tr>\n",
       "      <th>3</th>\n",
       "      <td>161.166.1.23</td>\n",
       "      <td>Jan  5 03:23:47 161.166.1.23 sshd[27076]: Fail...</td>\n",
       "    </tr>\n",
       "    <tr>\n",
       "      <th>4</th>\n",
       "      <td>161.166.1.23</td>\n",
       "      <td>Jan  5 03:23:49 161.166.1.23 sshd[27076]: Fail...</td>\n",
       "    </tr>\n",
       "    <tr>\n",
       "      <th>...</th>\n",
       "      <td>...</td>\n",
       "      <td>...</td>\n",
       "    </tr>\n",
       "    <tr>\n",
       "      <th>30633</th>\n",
       "      <td>161.166.236.154</td>\n",
       "      <td>Feb 23 05:20:38 161.166.236.154 sshd[16644]: I...</td>\n",
       "    </tr>\n",
       "    <tr>\n",
       "      <th>30634</th>\n",
       "      <td>161.166.236.154</td>\n",
       "      <td>Feb 23 05:20:41 161.166.236.154 sshd[16662]: I...</td>\n",
       "    </tr>\n",
       "    <tr>\n",
       "      <th>30635</th>\n",
       "      <td>161.166.236.154</td>\n",
       "      <td>Feb 23 05:20:44 161.166.236.154 sshd[16708]: I...</td>\n",
       "    </tr>\n",
       "    <tr>\n",
       "      <th>30636</th>\n",
       "      <td>161.166.236.154</td>\n",
       "      <td>Feb 23 06:29:04 161.166.236.154 sshd[1282]: Us...</td>\n",
       "    </tr>\n",
       "    <tr>\n",
       "      <th>30637</th>\n",
       "      <td>161.166.236.154</td>\n",
       "      <td>Feb 23 06:30:00 161.166.236.154 sshd[1464]: Us...</td>\n",
       "    </tr>\n",
       "  </tbody>\n",
       "</table>\n",
       "<p>15880522 rows × 2 columns</p>\n",
       "</div>"
      ],
      "text/plain": [
       "               anon_ip                                                log\n",
       "0         161.166.1.23  Jan  5 03:23:40 161.166.1.23 sshd[27076]: pam_...\n",
       "1         161.166.1.23  Jan  5 03:23:42 161.166.1.23 sshd[27076]: Fail...\n",
       "2         161.166.1.23  Jan  5 03:23:44 161.166.1.23 sshd[27076]: Fail...\n",
       "3         161.166.1.23  Jan  5 03:23:47 161.166.1.23 sshd[27076]: Fail...\n",
       "4         161.166.1.23  Jan  5 03:23:49 161.166.1.23 sshd[27076]: Fail...\n",
       "...                ...                                                ...\n",
       "30633  161.166.236.154  Feb 23 05:20:38 161.166.236.154 sshd[16644]: I...\n",
       "30634  161.166.236.154  Feb 23 05:20:41 161.166.236.154 sshd[16662]: I...\n",
       "30635  161.166.236.154  Feb 23 05:20:44 161.166.236.154 sshd[16708]: I...\n",
       "30636  161.166.236.154  Feb 23 06:29:04 161.166.236.154 sshd[1282]: Us...\n",
       "30637  161.166.236.154  Feb 23 06:30:00 161.166.236.154 sshd[1464]: Us...\n",
       "\n",
       "[15880522 rows x 2 columns]"
      ]
     },
     "execution_count": 187,
     "metadata": {},
     "output_type": "execute_result"
    }
   ],
   "source": [
    "dftest"
   ]
  },
  {
   "cell_type": "code",
   "execution_count": 188,
   "metadata": {},
   "outputs": [],
   "source": [
    "dftest.to_csv(path_or_buf=\"G:/Users/Gabriel/Documents/Education/UoB/GitHubDesktop/DST-Assessment-03/Data/master_log.csv.gz\",index=False,compression=\"gzip\")"
   ]
  }
 ],
 "metadata": {
  "kernelspec": {
   "display_name": "Python 3",
   "language": "python",
   "name": "python3"
  },
  "language_info": {
   "codemirror_mode": {
    "name": "ipython",
    "version": 3
   },
   "file_extension": ".py",
   "mimetype": "text/x-python",
   "name": "python",
   "nbconvert_exporter": "python",
   "pygments_lexer": "ipython3",
   "version": "3.8.3"
  }
 },
 "nbformat": 4,
 "nbformat_minor": 4
}
